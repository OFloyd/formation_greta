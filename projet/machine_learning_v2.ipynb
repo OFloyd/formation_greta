{
 "cells": [
  {
   "cell_type": "markdown",
   "id": "077810bf",
   "metadata": {},
   "source": [
    "# Import"
   ]
  },
  {
   "cell_type": "code",
   "execution_count": 147,
   "id": "149d5c47",
   "metadata": {},
   "outputs": [],
   "source": [
    "import pandas as pd\n",
    "import numpy as np\n",
    "import seaborn as sns\n",
    "import matplotlib.pyplot as plt\n",
    "import datetime\n",
    "import time\n",
    "# import re\n",
    "import random\n",
    "import pickle\n",
    "import datasets as dst\n",
    "\n",
    "import sklearn as skl\n",
    "from sklearn.metrics import accuracy_score\n",
    "from sklearn.ensemble import RandomForestClassifier\n",
    "from sklearn.ensemble import GradientBoostingClassifier, GradientBoostingRegressor\n",
    "from sklearn.model_selection import train_test_split\n",
    "from sklearn.metrics import classification_report, auc, roc_curve, confusion_matrix\n"
   ]
  },
  {
   "cell_type": "markdown",
   "id": "096600b6",
   "metadata": {},
   "source": [
    "# Chargement des données et prétraitement"
   ]
  },
  {
   "cell_type": "code",
   "execution_count": 16,
   "id": "22fdfcc0",
   "metadata": {},
   "outputs": [],
   "source": [
    "def preProcessDataframe(df: object) -> object:\n",
    "    dfret = df.dropna(subset = [\n",
    "        \"station_id\", \n",
    "        \"lat\", \n",
    "        \"lon\", \n",
    "        \"occupation_prct\", \n",
    "        \"occupation_class\"\n",
    "    ]).copy()\n",
    "    \n",
    "    dfret['jour'] = dfret[\"time\"].dt.day\n",
    "    dfret['heure'] = dfret[\"time\"].dt.hour\n",
    "    dfret['minute'] = dfret[\"time\"].dt.minute\n",
    "    \n",
    "    return dfret"
   ]
  },
  {
   "cell_type": "code",
   "execution_count": 17,
   "id": "681ffbb3",
   "metadata": {},
   "outputs": [],
   "source": [
    "df0 = dst.getDataset(\"2023_03_17\")\n",
    "df1 = dst.getDataset(\"2023_03_18\")\n",
    "df2 = dst.getDataset(\"2023_03_19\")\n",
    "df3 = dst.getDataset(\"2023_03_20\")\n",
    "df4 = dst.getDataset(\"2023_03_21\")\n",
    "\n",
    "#Je réduis systématiquement la résolution en temps par 10 sur ce classeur\n",
    "step=10\n",
    "df0=df0.iloc[0::step]\n",
    "df1=df1.iloc[0::step]\n",
    "df2=df2.iloc[0::step]\n",
    "df3=df3.iloc[0::step]\n",
    "df4=df4.iloc[0::step]\n",
    "\n",
    "\n",
    "df0=preProcessDataframe(df0)\n",
    "df1=preProcessDataframe(df1)\n",
    "df2=preProcessDataframe(df2)\n",
    "df3=preProcessDataframe(df3)\n",
    "df4=preProcessDataframe(df4)"
   ]
  },
  {
   "cell_type": "code",
   "execution_count": 19,
   "id": "ca4cbf7e",
   "metadata": {},
   "outputs": [
    {
     "name": "stdout",
     "output_type": "stream",
     "text": [
      "22 22\n"
     ]
    }
   ],
   "source": [
    "#On vérifie que prendre une ligne sur 10 laisse un meme nombre de points par station\n",
    "df=df1\n",
    "station_list=list(set(df.station_id))\n",
    "Nst=len(station_list)\n",
    "Nt=len(set(df[df['station_id'] == station_list[0]].time))\n",
    "station_timeserie=np.ndarray([Nst,Nt])\n",
    "\n",
    "foo=[]\n",
    "for i in station_list : \n",
    "    foo.append(len(set(df[df['station_id'] == i]) ))\n",
    "print(np.min(foo) , np.max(foo) )"
   ]
  },
  {
   "cell_type": "code",
   "execution_count": null,
   "id": "42fbd73d",
   "metadata": {},
   "outputs": [],
   "source": []
  },
  {
   "cell_type": "code",
   "execution_count": 34,
   "id": "c5cbc0ee",
   "metadata": {},
   "outputs": [],
   "source": [
    "## Ajout de valeurs d'occupation 6h plus tot :\n",
    "def add_old_values(df, df_old=None):\n",
    "    dec=6*3 #on a une valeur toutes les 20 minutes, et on regarde 6 heures avant\n",
    "    \n",
    "    if df_old is None:\n",
    "        df_main=df.copy()\n",
    "    else : \n",
    "        df_main=pd.concat([df_old, df])\n",
    "        \n",
    "#     df2=df.shift()\n",
    "    df_join=df_main[['time','station_id','occupation_prct','occupation_class']].copy()\n",
    "    df_join['time']=df_join['time']+pd.Timedelta(hours=6)\n",
    "    df_join=df_join.rename(columns={\"time\": \"old_time\", \"occupation_prct\": \"old_occupation_prct\", \n",
    "                                    \"occupation_class\": \"old_occupation_class\"})\n",
    "\n",
    "    df_main=pd.merge_asof(df_main.sort_values('time'), df_join.sort_values('old_time'), \n",
    "                          by='station_id', left_on='time', right_on='old_time', direction='nearest')\n",
    "#     df_main.drop('old_time')\n",
    "    \n",
    "    df_main=df_main[df_main['jour'] == df.loc[0,'jour']]\n",
    "    \n",
    "    \n",
    "    return df_main\n"
   ]
  },
  {
   "cell_type": "code",
   "execution_count": 68,
   "id": "c6e34770",
   "metadata": {},
   "outputs": [],
   "source": [
    "## Ajout de valeurs d'occupation 6h plus tot :\n",
    "def add_old_values(df, df_old=None):\n",
    "    dec=6*3 #on a une valeur toutes les 20 minutes, et on regarde 6 heures avant\n",
    "    \n",
    "    if df_old is None:\n",
    "        df_main=df.copy()\n",
    "    else : \n",
    "        df_main=pd.concat([df_old, df])\n",
    "        \n",
    "    df_main[\"old_occupation_class\"]=df_main[\"occupation_class\"].shift(periods=dec, axis=0)\n",
    "    df_main[\"old_occupation_prct\"]=df_main[\"occupation_prct\"].shift(periods=dec, axis=0)\n",
    "\n",
    "    \n",
    "    df_main=df_main[df_main['jour'] == df['jour'].median()]\n",
    "    \n",
    "    \n",
    "    return df_main\n"
   ]
  },
  {
   "cell_type": "code",
   "execution_count": 74,
   "id": "a7dfd642",
   "metadata": {},
   "outputs": [
    {
     "data": {
      "text/plain": [
       "[<matplotlib.lines.Line2D at 0x7fad9b8f6fa0>]"
      ]
     },
     "execution_count": 74,
     "metadata": {},
     "output_type": "execute_result"
    },
    {
     "data": {
      "image/png": "[encoded data removed]",
      "text/plain": [
       "<Figure size 640x480 with 1 Axes>"
      ]
     },
     "metadata": {},
     "output_type": "display_data"
    }
   ],
   "source": [
    "foo=add_old_values(df3, df2)\n",
    "plt.plot(foo[foo['station_id'] == station_list[0]].occupation_class, color='r')\n",
    "plt.plot(foo[foo['station_id'] == station_list[0]].old_occupation_class)"
   ]
  },
  {
   "cell_type": "code",
   "execution_count": 67,
   "id": "1c1c49bd",
   "metadata": {},
   "outputs": [
    {
     "data": {
      "text/html": [
       "<div>\n",
       "<style scoped>\n",
       "    .dataframe tbody tr th:only-of-type {\n",
       "        vertical-align: middle;\n",
       "    }\n",
       "\n",
       "    .dataframe tbody tr th {\n",
       "        vertical-align: top;\n",
       "    }\n",
       "\n",
       "    .dataframe thead th {\n",
       "        text-align: right;\n",
       "    }\n",
       "</style>\n",
       "<table border=\"1\" class=\"dataframe\">\n",
       "  <thead>\n",
       "    <tr style=\"text-align: right;\">\n",
       "      <th></th>\n",
       "      <th>station_id</th>\n",
       "      <th>num_bikes_available</th>\n",
       "      <th>num_bikes_available_mech</th>\n",
       "      <th>num_bikes_available_elec</th>\n",
       "      <th>num_docks_available</th>\n",
       "      <th>is_installed</th>\n",
       "      <th>is_returning</th>\n",
       "      <th>is_renting</th>\n",
       "      <th>last_reported</th>\n",
       "      <th>time</th>\n",
       "      <th>...</th>\n",
       "      <th>name</th>\n",
       "      <th>lat</th>\n",
       "      <th>lon</th>\n",
       "      <th>capacity</th>\n",
       "      <th>occupation_prct</th>\n",
       "      <th>occupation_class</th>\n",
       "      <th>seconds_since_midnight</th>\n",
       "      <th>jour</th>\n",
       "      <th>heure</th>\n",
       "      <th>minute</th>\n",
       "    </tr>\n",
       "  </thead>\n",
       "  <tbody>\n",
       "    <tr>\n",
       "      <th>0</th>\n",
       "      <td>213688169</td>\n",
       "      <td>6</td>\n",
       "      <td>2.0</td>\n",
       "      <td>4.0</td>\n",
       "      <td>29</td>\n",
       "      <td>1</td>\n",
       "      <td>1</td>\n",
       "      <td>1</td>\n",
       "      <td>1679264946</td>\n",
       "      <td>2023-03-20 00:00:18</td>\n",
       "      <td>...</td>\n",
       "      <td>Benjamin Godard - Victor Hugo</td>\n",
       "      <td>48.865983</td>\n",
       "      <td>2.275725</td>\n",
       "      <td>35</td>\n",
       "      <td>17.142857</td>\n",
       "      <td>1</td>\n",
       "      <td>18</td>\n",
       "      <td>20</td>\n",
       "      <td>0</td>\n",
       "      <td>0</td>\n",
       "    </tr>\n",
       "    <tr>\n",
       "      <th>10</th>\n",
       "      <td>213688169</td>\n",
       "      <td>5</td>\n",
       "      <td>2.0</td>\n",
       "      <td>3.0</td>\n",
       "      <td>30</td>\n",
       "      <td>1</td>\n",
       "      <td>1</td>\n",
       "      <td>1</td>\n",
       "      <td>1679264946</td>\n",
       "      <td>2023-03-20 00:20:19</td>\n",
       "      <td>...</td>\n",
       "      <td>Benjamin Godard - Victor Hugo</td>\n",
       "      <td>48.865983</td>\n",
       "      <td>2.275725</td>\n",
       "      <td>35</td>\n",
       "      <td>14.285714</td>\n",
       "      <td>1</td>\n",
       "      <td>1219</td>\n",
       "      <td>20</td>\n",
       "      <td>0</td>\n",
       "      <td>20</td>\n",
       "    </tr>\n",
       "    <tr>\n",
       "      <th>20</th>\n",
       "      <td>213688169</td>\n",
       "      <td>5</td>\n",
       "      <td>2.0</td>\n",
       "      <td>3.0</td>\n",
       "      <td>30</td>\n",
       "      <td>1</td>\n",
       "      <td>1</td>\n",
       "      <td>1</td>\n",
       "      <td>1679268594</td>\n",
       "      <td>2023-03-20 00:40:20</td>\n",
       "      <td>...</td>\n",
       "      <td>Benjamin Godard - Victor Hugo</td>\n",
       "      <td>48.865983</td>\n",
       "      <td>2.275725</td>\n",
       "      <td>35</td>\n",
       "      <td>14.285714</td>\n",
       "      <td>1</td>\n",
       "      <td>2420</td>\n",
       "      <td>20</td>\n",
       "      <td>0</td>\n",
       "      <td>40</td>\n",
       "    </tr>\n",
       "    <tr>\n",
       "      <th>30</th>\n",
       "      <td>213688169</td>\n",
       "      <td>5</td>\n",
       "      <td>2.0</td>\n",
       "      <td>3.0</td>\n",
       "      <td>30</td>\n",
       "      <td>1</td>\n",
       "      <td>1</td>\n",
       "      <td>1</td>\n",
       "      <td>1679268594</td>\n",
       "      <td>2023-03-20 01:00:21</td>\n",
       "      <td>...</td>\n",
       "      <td>Benjamin Godard - Victor Hugo</td>\n",
       "      <td>48.865983</td>\n",
       "      <td>2.275725</td>\n",
       "      <td>35</td>\n",
       "      <td>14.285714</td>\n",
       "      <td>1</td>\n",
       "      <td>3621</td>\n",
       "      <td>20</td>\n",
       "      <td>1</td>\n",
       "      <td>0</td>\n",
       "    </tr>\n",
       "    <tr>\n",
       "      <th>40</th>\n",
       "      <td>213688169</td>\n",
       "      <td>5</td>\n",
       "      <td>2.0</td>\n",
       "      <td>3.0</td>\n",
       "      <td>30</td>\n",
       "      <td>1</td>\n",
       "      <td>1</td>\n",
       "      <td>1</td>\n",
       "      <td>1679268594</td>\n",
       "      <td>2023-03-20 01:20:22</td>\n",
       "      <td>...</td>\n",
       "      <td>Benjamin Godard - Victor Hugo</td>\n",
       "      <td>48.865983</td>\n",
       "      <td>2.275725</td>\n",
       "      <td>35</td>\n",
       "      <td>14.285714</td>\n",
       "      <td>1</td>\n",
       "      <td>4822</td>\n",
       "      <td>20</td>\n",
       "      <td>1</td>\n",
       "      <td>20</td>\n",
       "    </tr>\n",
       "    <tr>\n",
       "      <th>...</th>\n",
       "      <td>...</td>\n",
       "      <td>...</td>\n",
       "      <td>...</td>\n",
       "      <td>...</td>\n",
       "      <td>...</td>\n",
       "      <td>...</td>\n",
       "      <td>...</td>\n",
       "      <td>...</td>\n",
       "      <td>...</td>\n",
       "      <td>...</td>\n",
       "      <td>...</td>\n",
       "      <td>...</td>\n",
       "      <td>...</td>\n",
       "      <td>...</td>\n",
       "      <td>...</td>\n",
       "      <td>...</td>\n",
       "      <td>...</td>\n",
       "      <td>...</td>\n",
       "      <td>...</td>\n",
       "      <td>...</td>\n",
       "      <td>...</td>\n",
       "    </tr>\n",
       "    <tr>\n",
       "      <th>1039560</th>\n",
       "      <td>315022587</td>\n",
       "      <td>1</td>\n",
       "      <td>1.0</td>\n",
       "      <td>0.0</td>\n",
       "      <td>63</td>\n",
       "      <td>1</td>\n",
       "      <td>1</td>\n",
       "      <td>1</td>\n",
       "      <td>1679344275</td>\n",
       "      <td>2023-03-20 22:17:55</td>\n",
       "      <td>...</td>\n",
       "      <td>Malesherbes - Place de la Madeleine</td>\n",
       "      <td>48.870406</td>\n",
       "      <td>2.323244</td>\n",
       "      <td>67</td>\n",
       "      <td>1.492537</td>\n",
       "      <td>0</td>\n",
       "      <td>80275</td>\n",
       "      <td>20</td>\n",
       "      <td>22</td>\n",
       "      <td>17</td>\n",
       "    </tr>\n",
       "    <tr>\n",
       "      <th>1039570</th>\n",
       "      <td>315022587</td>\n",
       "      <td>2</td>\n",
       "      <td>1.0</td>\n",
       "      <td>1.0</td>\n",
       "      <td>62</td>\n",
       "      <td>1</td>\n",
       "      <td>1</td>\n",
       "      <td>1</td>\n",
       "      <td>1679347756</td>\n",
       "      <td>2023-03-20 22:37:56</td>\n",
       "      <td>...</td>\n",
       "      <td>Malesherbes - Place de la Madeleine</td>\n",
       "      <td>48.870406</td>\n",
       "      <td>2.323244</td>\n",
       "      <td>67</td>\n",
       "      <td>2.985075</td>\n",
       "      <td>0</td>\n",
       "      <td>81476</td>\n",
       "      <td>20</td>\n",
       "      <td>22</td>\n",
       "      <td>37</td>\n",
       "    </tr>\n",
       "    <tr>\n",
       "      <th>1039580</th>\n",
       "      <td>315022587</td>\n",
       "      <td>0</td>\n",
       "      <td>0.0</td>\n",
       "      <td>0.0</td>\n",
       "      <td>64</td>\n",
       "      <td>1</td>\n",
       "      <td>1</td>\n",
       "      <td>1</td>\n",
       "      <td>1679347756</td>\n",
       "      <td>2023-03-20 22:57:57</td>\n",
       "      <td>...</td>\n",
       "      <td>Malesherbes - Place de la Madeleine</td>\n",
       "      <td>48.870406</td>\n",
       "      <td>2.323244</td>\n",
       "      <td>67</td>\n",
       "      <td>0.000000</td>\n",
       "      <td>0</td>\n",
       "      <td>82677</td>\n",
       "      <td>20</td>\n",
       "      <td>22</td>\n",
       "      <td>57</td>\n",
       "    </tr>\n",
       "    <tr>\n",
       "      <th>1039590</th>\n",
       "      <td>315022587</td>\n",
       "      <td>0</td>\n",
       "      <td>0.0</td>\n",
       "      <td>0.0</td>\n",
       "      <td>64</td>\n",
       "      <td>1</td>\n",
       "      <td>1</td>\n",
       "      <td>1</td>\n",
       "      <td>1679347756</td>\n",
       "      <td>2023-03-20 23:18:59</td>\n",
       "      <td>...</td>\n",
       "      <td>Malesherbes - Place de la Madeleine</td>\n",
       "      <td>48.870406</td>\n",
       "      <td>2.323244</td>\n",
       "      <td>67</td>\n",
       "      <td>0.000000</td>\n",
       "      <td>0</td>\n",
       "      <td>83939</td>\n",
       "      <td>20</td>\n",
       "      <td>23</td>\n",
       "      <td>18</td>\n",
       "    </tr>\n",
       "    <tr>\n",
       "      <th>1039600</th>\n",
       "      <td>315022587</td>\n",
       "      <td>0</td>\n",
       "      <td>0.0</td>\n",
       "      <td>0.0</td>\n",
       "      <td>64</td>\n",
       "      <td>1</td>\n",
       "      <td>1</td>\n",
       "      <td>1</td>\n",
       "      <td>1679351341</td>\n",
       "      <td>2023-03-20 23:39:00</td>\n",
       "      <td>...</td>\n",
       "      <td>Malesherbes - Place de la Madeleine</td>\n",
       "      <td>48.870406</td>\n",
       "      <td>2.323244</td>\n",
       "      <td>67</td>\n",
       "      <td>0.000000</td>\n",
       "      <td>0</td>\n",
       "      <td>85140</td>\n",
       "      <td>20</td>\n",
       "      <td>23</td>\n",
       "      <td>39</td>\n",
       "    </tr>\n",
       "  </tbody>\n",
       "</table>\n",
       "<p>102885 rows × 22 columns</p>\n",
       "</div>"
      ],
      "text/plain": [
       "         station_id  num_bikes_available  num_bikes_available_mech  \\\n",
       "0         213688169                    6                       2.0   \n",
       "10        213688169                    5                       2.0   \n",
       "20        213688169                    5                       2.0   \n",
       "30        213688169                    5                       2.0   \n",
       "40        213688169                    5                       2.0   \n",
       "...             ...                  ...                       ...   \n",
       "1039560   315022587                    1                       1.0   \n",
       "1039570   315022587                    2                       1.0   \n",
       "1039580   315022587                    0                       0.0   \n",
       "1039590   315022587                    0                       0.0   \n",
       "1039600   315022587                    0                       0.0   \n",
       "\n",
       "         num_bikes_available_elec  num_docks_available  is_installed  \\\n",
       "0                             4.0                   29             1   \n",
       "10                            3.0                   30             1   \n",
       "20                            3.0                   30             1   \n",
       "30                            3.0                   30             1   \n",
       "40                            3.0                   30             1   \n",
       "...                           ...                  ...           ...   \n",
       "1039560                       0.0                   63             1   \n",
       "1039570                       1.0                   62             1   \n",
       "1039580                       0.0                   64             1   \n",
       "1039590                       0.0                   64             1   \n",
       "1039600                       0.0                   64             1   \n",
       "\n",
       "         is_returning  is_renting  last_reported                time  ...  \\\n",
       "0                   1           1     1679264946 2023-03-20 00:00:18  ...   \n",
       "10                  1           1     1679264946 2023-03-20 00:20:19  ...   \n",
       "20                  1           1     1679268594 2023-03-20 00:40:20  ...   \n",
       "30                  1           1     1679268594 2023-03-20 01:00:21  ...   \n",
       "40                  1           1     1679268594 2023-03-20 01:20:22  ...   \n",
       "...               ...         ...            ...                 ...  ...   \n",
       "1039560             1           1     1679344275 2023-03-20 22:17:55  ...   \n",
       "1039570             1           1     1679347756 2023-03-20 22:37:56  ...   \n",
       "1039580             1           1     1679347756 2023-03-20 22:57:57  ...   \n",
       "1039590             1           1     1679347756 2023-03-20 23:18:59  ...   \n",
       "1039600             1           1     1679351341 2023-03-20 23:39:00  ...   \n",
       "\n",
       "                                        name        lat       lon  capacity  \\\n",
       "0              Benjamin Godard - Victor Hugo  48.865983  2.275725        35   \n",
       "10             Benjamin Godard - Victor Hugo  48.865983  2.275725        35   \n",
       "20             Benjamin Godard - Victor Hugo  48.865983  2.275725        35   \n",
       "30             Benjamin Godard - Victor Hugo  48.865983  2.275725        35   \n",
       "40             Benjamin Godard - Victor Hugo  48.865983  2.275725        35   \n",
       "...                                      ...        ...       ...       ...   \n",
       "1039560  Malesherbes - Place de la Madeleine  48.870406  2.323244        67   \n",
       "1039570  Malesherbes - Place de la Madeleine  48.870406  2.323244        67   \n",
       "1039580  Malesherbes - Place de la Madeleine  48.870406  2.323244        67   \n",
       "1039590  Malesherbes - Place de la Madeleine  48.870406  2.323244        67   \n",
       "1039600  Malesherbes - Place de la Madeleine  48.870406  2.323244        67   \n",
       "\n",
       "         occupation_prct  occupation_class  seconds_since_midnight  jour  \\\n",
       "0              17.142857                 1                      18    20   \n",
       "10             14.285714                 1                    1219    20   \n",
       "20             14.285714                 1                    2420    20   \n",
       "30             14.285714                 1                    3621    20   \n",
       "40             14.285714                 1                    4822    20   \n",
       "...                  ...               ...                     ...   ...   \n",
       "1039560         1.492537                 0                   80275    20   \n",
       "1039570         2.985075                 0                   81476    20   \n",
       "1039580         0.000000                 0                   82677    20   \n",
       "1039590         0.000000                 0                   83939    20   \n",
       "1039600         0.000000                 0                   85140    20   \n",
       "\n",
       "         heure  minute  \n",
       "0            0       0  \n",
       "10           0      20  \n",
       "20           0      40  \n",
       "30           1       0  \n",
       "40           1      20  \n",
       "...        ...     ...  \n",
       "1039560     22      17  \n",
       "1039570     22      37  \n",
       "1039580     22      57  \n",
       "1039590     23      18  \n",
       "1039600     23      39  \n",
       "\n",
       "[102885 rows x 22 columns]"
      ]
     },
     "execution_count": 67,
     "metadata": {},
     "output_type": "execute_result"
    }
   ],
   "source": [
    "df4=add_old_values(df4, df3)\n",
    "df3=add_old_values(df3, df2)\n",
    "df2=add_old_values(df2, df1)\n",
    "df1=add_old_values(df1, df0)\n",
    "df0=add_old_values(df0)\n",
    "df0=df0.dropna(subset=['old_occupation_prct','old_occupation_class'])"
   ]
  },
  {
   "cell_type": "code",
   "execution_count": 90,
   "id": "55cd0dbc",
   "metadata": {},
   "outputs": [],
   "source": []
  },
  {
   "cell_type": "code",
   "execution_count": null,
   "id": "7986d1d2",
   "metadata": {},
   "outputs": [],
   "source": []
  },
  {
   "cell_type": "code",
   "execution_count": null,
   "id": "049d53fb",
   "metadata": {},
   "outputs": [],
   "source": []
  },
  {
   "cell_type": "markdown",
   "id": "53d90ca2",
   "metadata": {},
   "source": [
    "## Entrainement et prédiction"
   ]
  },
  {
   "cell_type": "markdown",
   "id": "b4b36fc5",
   "metadata": {},
   "source": [
    "### Toutes les stations"
   ]
  },
  {
   "cell_type": "code",
   "execution_count": 91,
   "id": "1f9c756b",
   "metadata": {},
   "outputs": [],
   "source": [
    "df_train=pd.concat([df0,df1])\n",
    "df_train=pd.concat([df_train,df2])\n",
    "df_train=pd.concat([df_train,df3])\n",
    "# df_tot=pd.concat(df_tot,df4)\n",
    "\n",
    "df_test=df4\n",
    "\n",
    "\n",
    "feat1 = [\"station_id\", \"lon\", \"lat\", \"jour\", \"heure\", \"minute\"]\n",
    "feat2 = feat1+[\"old_occupation_class\"]\n",
    "target = [\"occupation_class\"]\n",
    "\n",
    "x_train1=df_train[feat1]\n",
    "x_train2=df_train[feat2]\n",
    "y_train=df_train[target]\n",
    "\n",
    "x_test1=df_test[feat1]\n",
    "x_test2=df_test[feat2]\n",
    "y_test=df_test[target]\n"
   ]
  },
  {
   "cell_type": "code",
   "execution_count": 93,
   "id": "29e22bbf",
   "metadata": {},
   "outputs": [
    {
     "data": {
      "text/plain": [
       "GradientBoostingClassifier(learning_rate=1.0, max_depth=1, random_state=0)"
      ]
     },
     "execution_count": 93,
     "metadata": {},
     "output_type": "execute_result"
    }
   ],
   "source": [
    "clf1 = GradientBoostingClassifier(n_estimators=100, learning_rate=1.0, max_depth=1, random_state=0)\n",
    "clf1.fit(x_train1, y_train.values.ravel())\n",
    "\n",
    "clf2 = GradientBoostingClassifier(n_estimators=100, learning_rate=1.0, max_depth=1, random_state=0)\n",
    "clf2.fit(x_train2, y_train.values.ravel())\n"
   ]
  },
  {
   "cell_type": "code",
   "execution_count": 94,
   "id": "966c845a",
   "metadata": {},
   "outputs": [],
   "source": [
    "y_pred1 = clf1.predict(x_test1)\n",
    "y_pred2 = clf2.predict(x_test2)\n"
   ]
  },
  {
   "cell_type": "code",
   "execution_count": 95,
   "id": "bf27e581",
   "metadata": {},
   "outputs": [
    {
     "data": {
      "text/plain": [
       "0.4228224809092872"
      ]
     },
     "execution_count": 95,
     "metadata": {},
     "output_type": "execute_result"
    }
   ],
   "source": [
    "accuracy_score(y_test, y_pred1)"
   ]
  },
  {
   "cell_type": "code",
   "execution_count": 96,
   "id": "fa636fee",
   "metadata": {},
   "outputs": [
    {
     "data": {
      "text/plain": [
       "0.4221943032135215"
      ]
     },
     "execution_count": 96,
     "metadata": {},
     "output_type": "execute_result"
    }
   ],
   "source": [
    "accuracy_score(y_test, y_pred2)"
   ]
  },
  {
   "cell_type": "markdown",
   "id": "9686bcbb",
   "metadata": {},
   "source": [
    "### Une station à la fois"
   ]
  },
  {
   "cell_type": "code",
   "execution_count": 159,
   "id": "049094f2",
   "metadata": {},
   "outputs": [],
   "source": [
    "def test_one_class(df_train_in: object, df_test_in, feat_supp=[]) -> None:\n",
    "    \n",
    "    station=random.sample(station_list,1)[0]\n",
    "    print(station)\n",
    "    \n",
    "    \n",
    "    df_train=df_train_in[df_train_in['station_id'] == station]\n",
    "    df_test=df_test_in[df_test_in['station_id'] == station]\n",
    "\n",
    "    feat1 = [\"station_id\", \"lon\", \"lat\", \"jour\", \"heure\", \"minute\"]\n",
    "    feat2 = feat1+[\"old_occupation_prct\", \"old_occupation_class\"]\n",
    "    target = [\"occupation_class\"]\n",
    "\n",
    "    x_train1=df_train[feat1]\n",
    "    x_train2=df_train[feat2]\n",
    "    y_train=df_train[target]\n",
    "\n",
    "    x_test1=df_test[feat1]\n",
    "    x_test2=df_test[feat2]\n",
    "    y_test=df_test[target]\n",
    "\n",
    "    clf1 = GradientBoostingClassifier(n_estimators=100, learning_rate=1.0, max_depth=1, random_state=0)\n",
    "    clf1.fit(x_train1, y_train.values.ravel())\n",
    "\n",
    "    clf2 = GradientBoostingClassifier(n_estimators=100, learning_rate=1.0, max_depth=1, random_state=0)\n",
    "    clf2.fit(x_train2, y_train.values.ravel())\n",
    "\n",
    "\n",
    "    y_pred1 = clf1.predict(x_test1)\n",
    "    y_pred2 = clf2.predict(x_test2)\n",
    "\n",
    "\n",
    "#     print(feat)\n",
    "#     print(clf.feature_importances_)\n",
    "\n",
    "#     cm1 = confusion_matrix(y_test, y_pred1)\n",
    "    \n",
    "    \n",
    "#     cm2 = confusion_matrix(y_test, y_pred2)\n",
    "\n",
    "#     sns.heatmap(cm1, annot=True, cmap=\"Blues\", fmt=\"g\")\n",
    "#     sns.heatmap(cm2, annot=True, cmap=\"Blues\", fmt=\"g\")    \n",
    "    \n",
    "#     plt.xlabel('Prédictions')\n",
    "#     plt.ylabel('Valeurs réelles')\n",
    "#     plt.show()\n",
    "    \n",
    "#     print(classification_report(y_test,y_pred1))\n",
    "#     print(classification_report(y_test,y_pred2))\n",
    "\n",
    "\n",
    "#     print(len(y_test),len(y_pred1),len(y_pred2))\n",
    "#     print(type(y_test),len(y_pred1),len(y_pred2))\n",
    "\n",
    "    plt.plot(y_test.values.ravel(), color='black', label='True')\n",
    "    plt.plot(y_pred1, color='red', label='Pred. basic')\n",
    "    plt.plot(y_pred2, color='blue', label='Pred. basic+old values')\n",
    "    plt.legend()\n",
    "    plt.show()\n",
    "\n",
    "#     print(y_test.values.ravel())\n",
    "#     print('\\n')\n",
    "#     print(y_pred1)\n",
    "#     print('\\n')\n",
    "#     print(y_pred2)\n",
    "\n",
    "# test_one(df_train, df_test)"
   ]
  },
  {
   "cell_type": "code",
   "execution_count": 160,
   "id": "a7f0c218",
   "metadata": {},
   "outputs": [
    {
     "name": "stdout",
     "output_type": "stream",
     "text": [
      "13248144\n"
     ]
    },
    {
     "data": {
      "image/png": "[encoded data removed]",
      "text/plain": [
       "<Figure size 640x480 with 1 Axes>"
      ]
     },
     "metadata": {},
     "output_type": "display_data"
    }
   ],
   "source": [
    "test_one_class(df_train, df_test)"
   ]
  },
  {
   "cell_type": "code",
   "execution_count": 157,
   "id": "46c986f8",
   "metadata": {},
   "outputs": [],
   "source": [
    "def test_one_regr(df_train_in: object, df_test_in, feat_supp=[]) -> None:\n",
    "    \n",
    "    station=random.sample(station_list,1)[0]\n",
    "    print(station)\n",
    "    \n",
    "    \n",
    "    df_train=df_train_in[df_train_in['station_id'] == station]\n",
    "    df_test=df_test_in[df_test_in['station_id'] == station]\n",
    "\n",
    "    feat1 = [\"station_id\", \"lon\", \"lat\", \"jour\", \"heure\", \"minute\"]\n",
    "    feat2 = feat1+[\"old_occupation_prct\", \"old_occupation_class\"]\n",
    "    target = [\"occupation_prct\"]\n",
    "\n",
    "    x_train1=df_train[feat1]\n",
    "    x_train2=df_train[feat2]\n",
    "    y_train=df_train[target]\n",
    "\n",
    "    x_test1=df_test[feat1]\n",
    "    x_test2=df_test[feat2]\n",
    "    y_test=df_test[target]\n",
    "\n",
    "    clf1 = GradientBoostingRegressor(random_state=0)\n",
    "    clf1.fit(x_train1, y_train.values.ravel())\n",
    "\n",
    "    clf2 = GradientBoostingRegressor(random_state=0)\n",
    "    clf2.fit(x_train2, y_train.values.ravel())\n",
    "\n",
    "\n",
    "    y_pred1 = clf1.predict(x_test1)\n",
    "    y_pred2 = clf2.predict(x_test2)\n",
    "\n",
    "    plt.plot(y_test.values.ravel(), color='black', label='True')\n",
    "    plt.plot(y_pred1, color='red', label='Pred. basic')\n",
    "    plt.plot(y_pred2, color='blue', label='Pred. basic+old values')\n",
    "    plt.legend()\n",
    "    plt.show()\n",
    "\n",
    "# test_one(df_train, df_test)"
   ]
  },
  {
   "cell_type": "code",
   "execution_count": 158,
   "id": "422f1abb",
   "metadata": {},
   "outputs": [
    {
     "name": "stdout",
     "output_type": "stream",
     "text": [
      "128878135\n"
     ]
    },
    {
     "data": {
      "image/png": "[encoded data removed]",
      "text/plain": [
       "<Figure size 640x480 with 1 Axes>"
      ]
     },
     "metadata": {},
     "output_type": "display_data"
    }
   ],
   "source": [
    "test_one_regr(df_train, df_test)"
   ]
  },
  {
   "cell_type": "code",
   "execution_count": null,
   "id": "67ba98ed",
   "metadata": {},
   "outputs": [],
   "source": []
  },
  {
   "cell_type": "code",
   "execution_count": null,
   "id": "61cd4174",
   "metadata": {},
   "outputs": [],
   "source": []
  },
  {
   "cell_type": "markdown",
   "id": "8c4cb35a",
   "metadata": {},
   "source": [
    "# Deep learning"
   ]
  },
  {
   "cell_type": "markdown",
   "id": "5b645348",
   "metadata": {},
   "source": [
    "On va essayer d'appliquer une régression par RNN ou un CNN (d'abord CNN car il y a un tutorial)"
   ]
  },
  {
   "cell_type": "markdown",
   "id": "22554595",
   "metadata": {},
   "source": [
    "## Feature et target"
   ]
  },
  {
   "cell_type": "markdown",
   "id": "7bada3d0",
   "metadata": {},
   "source": [
    "On met en entrée les valeurs sur x heures avant le temps de la prédiction. Puis la prédiction est encore quelques heures après (6h par exemple).\n",
    "On fait ça pour chaque temps de la journée.\n",
    "\n",
    "Les features seront les taux d'occupation, le jour de la semaine, l'heure, l'identifiant de la station."
   ]
  },
  {
   "cell_type": "code",
   "execution_count": null,
   "id": "dde76f9b",
   "metadata": {},
   "outputs": [],
   "source": [
    "#On suppose qu'on a une donnée toutes les 20 minutes\n",
    "Ntrain=24*3 #On s'entraine sur chaque temps de la journée\n",
    "\n",
    "Nt=6*3  #On regarde 6 heures avant\n",
    "Nfeat=4\n",
    "\n",
    "#Chaque input aura les formes :\n",
    "# Input shape: (32, 18, 4)\n",
    "# Labels shape: (32, 18, 1)\n",
    "# Output shape: (32, 16, 1)\n",
    "\n",
    "    \n",
    "def format_input(df):\n",
    "    \n",
    "    \n",
    "    for \n",
    "\n",
    "    \n",
    "    \n",
    "    "
   ]
  },
  {
   "cell_type": "markdown",
   "id": "1ea5ea67",
   "metadata": {},
   "source": [
    "## Modèle"
   ]
  },
  {
   "cell_type": "code",
   "execution_count": null,
   "id": "5c5e3176",
   "metadata": {},
   "outputs": [],
   "source": [
    "conv_model = tf.keras.Sequential([\n",
    "    tf.keras.layers.Conv1D(filters=32,\n",
    "                           kernel_size=(CONV_WIDTH,),\n",
    "                           activation='relu'),\n",
    "    tf.keras.layers.Dense(units=32, activation='relu'),\n",
    "    tf.keras.layers.Dense(units=1),\n",
    "])\n"
   ]
  }
 ],
 "metadata": {
  "kernelspec": {
   "display_name": "Python 3 (ipykernel)",
   "language": "python",
   "name": "python3"
  },
  "language_info": {
   "codemirror_mode": {
    "name": "ipython",
    "version": 3
   },
   "file_extension": ".py",
   "mimetype": "text/x-python",
   "name": "python",
   "nbconvert_exporter": "python",
   "pygments_lexer": "ipython3",
   "version": "3.9.13"
  },
  "toc": {
   "base_numbering": 1,
   "nav_menu": {},
   "number_sections": true,
   "sideBar": true,
   "skip_h1_title": false,
   "title_cell": "Table of Contents",
   "title_sidebar": "Contents",
   "toc_cell": false,
   "toc_position": {
    "height": "788px",
    "left": "45px",
    "top": "318px",
    "width": "369.2px"
   },
   "toc_section_display": true,
   "toc_window_display": true
  },
  "varInspector": {
   "cols": {
    "lenName": 16,
    "lenType": 16,
    "lenVar": 40
   },
   "kernels_config": {
    "python": {
     "delete_cmd_postfix": "",
     "delete_cmd_prefix": "del ",
     "library": "var_list.py",
     "varRefreshCmd": "print(var_dic_list())"
    },
    "r": {
     "delete_cmd_postfix": ") ",
     "delete_cmd_prefix": "rm(",
     "library": "var_list.r",
     "varRefreshCmd": "cat(var_dic_list()) "
    }
   },
   "types_to_exclude": [
    "module",
    "function",
    "builtin_function_or_method",
    "instance",
    "_Feature"
   ],
   "window_display": false
  }
 },
 "nbformat": 4,
 "nbformat_minor": 5
}
