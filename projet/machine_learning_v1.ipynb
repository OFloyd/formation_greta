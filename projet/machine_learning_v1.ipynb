{
 "cells": [
  {
   "cell_type": "markdown",
   "id": "66f2a8d5",
   "metadata": {},
   "source": [
    "# Principe"
   ]
  },
  {
   "cell_type": "markdown",
   "id": "35b2103a",
   "metadata": {},
   "source": [
    "On va appliquer une méthode de classification par machine learning pour essayer de classifier l'état des stations vélib en 5 catégories : \n",
    " - 0 : très faible occupation : risque élevé de ne pas pouvoir retirer un vélo\n",
    " - 1 : faible occupation : risque faible de ne pas pouvoir retirer un vélo\n",
    " - 2 : occupation moyenne : pas de problème prévu\n",
    " - 3 : forte occupation : risque faible de ne pas pouvoir déposer un vélo\n",
    " - 4 : très forte occupation : risque élevé de ne pas pouvoir déposer un vélo\n",
    "\n",
    "On s'inspirera pour ce faire de la méthode de classification vue en cours à l'aide de RandomForestClassifier.\n",
    "\n"
   ]
  },
  {
   "cell_type": "markdown",
   "id": "a21d3ddb",
   "metadata": {},
   "source": [
    "# Import"
   ]
  },
  {
   "cell_type": "code",
   "execution_count": 3,
   "id": "b4d0c3f0",
   "metadata": {},
   "outputs": [],
   "source": [
    "import pandas as pd\n",
    "import numpy as np\n",
    "import seaborn as sns\n",
    "import matplotlib.pyplot as plt\n",
    "import datetime\n",
    "import time\n",
    "# import re\n",
    "import random\n",
    "# import pickle\n"
   ]
  },
  {
   "cell_type": "code",
   "execution_count": 16,
   "id": "8aad0c43",
   "metadata": {},
   "outputs": [],
   "source": [
    "import sklearn as skl\n",
    "from sklearn.metrics import accuracy_score\n",
    "from sklearn.ensemble import RandomForestClassifier\n",
    "from sklearn.model_selection import train_test_split\n",
    "from sklearn.metrics import classification_report, auc, roc_curve, confusion_matrix"
   ]
  },
  {
   "cell_type": "markdown",
   "id": "ad44d03f",
   "metadata": {},
   "source": [
    "# Chargement des données, et prétraitement : "
   ]
  },
  {
   "cell_type": "markdown",
   "id": "239f0557",
   "metadata": {},
   "source": [
    "La partie qui suit sera plus tard déplacée dans un script à part qui prendra le jour utilisé comme input."
   ]
  },
  {
   "cell_type": "code",
   "execution_count": 6,
   "id": "ea9a7a52",
   "metadata": {},
   "outputs": [],
   "source": [
    "info=pd.read_json('F:/work/download/stations_info.json')\n",
    "data_info=pd.DataFrame(info.data.stations)\n",
    "\n",
    "data_rep='F:/work/datasets/'\n",
    "df=pd.read_csv(data_rep+'stations_status_2023_03_20.csv')\n",
    "\n",
    "df['time'] = pd.to_datetime(df['time'])\n",
    "df = df.merge(data_info, on = \"station_id\").drop([\"Unnamed: 0\", \"rental_methods\", \"stationCode\"] , axis=1)\n",
    "df[\"occupation_prct\"] = 100 * df[\"num_bikes_available\"] / df[\"capacity\"]\n",
    "\n",
    "t0=datetime.datetime.combine(df.iloc[0].time.date(), datetime.time()) #datetime at midnight\n",
    "df['seconds_since_midnight']=(pd.to_timedelta(df.time-t0, unit='s').values/1e9).astype('int')\n",
    "\n"
   ]
  },
  {
   "cell_type": "code",
   "execution_count": 7,
   "id": "63ee4062",
   "metadata": {},
   "outputs": [],
   "source": [
    "LIMITS = [5,25,75,95]\n",
    "\n",
    "conditions = [(df['occupation_prct'] < LIMITS[0])]\n",
    "\n",
    "for i in range(len(LIMITS)):\n",
    "    if i == len(LIMITS)-1:\n",
    "        conditions.append((df['occupation_prct'] >= LIMITS[i]))\n",
    "    else:\n",
    "        conditions.append((df['occupation_prct'] >= LIMITS[i]) & (df['occupation_prct'] < LIMITS[i+1]))\n",
    "\n",
    "# create a list of the values we want to assign for each condition\n",
    "values = [i for i in range(len(LIMITS)+1)]\n",
    "\n",
    "# create a new column and use np.select to assign values to it using our lists as arguments\n",
    "df['occupation_class'] = np.select(conditions, values)\n",
    "\n"
   ]
  },
  {
   "cell_type": "markdown",
   "id": "37ffbfcd",
   "metadata": {},
   "source": [
    "# Méthode de base, sans occupation aux temps précédents"
   ]
  },
  {
   "cell_type": "markdown",
   "id": "01c2a306",
   "metadata": {},
   "source": [
    "## Principe"
   ]
  },
  {
   "cell_type": "markdown",
   "id": "58dac973",
   "metadata": {},
   "source": [
    "Cette prédiction ne pourrait utiliser que les éléments qui seront connus au moment de la prédiction, soit le lieu, le temps, etc, mais pas le nombre de vélos disponibles. \n",
    "Si on veut utiliser ce dernier, il faudrait rajouter la valeur à un temps passé, ce qu'on pourra faire dans la prochaine étape si les données actuelles ne donnent pas de bons résultats. "
   ]
  },
  {
   "cell_type": "markdown",
   "id": "34ec6386",
   "metadata": {},
   "source": [
    "## Définition des features et target"
   ]
  },
  {
   "cell_type": "code",
   "execution_count": 8,
   "id": "6be34081",
   "metadata": {},
   "outputs": [
    {
     "data": {
      "text/html": [
       "<div>\n",
       "<style scoped>\n",
       "    .dataframe tbody tr th:only-of-type {\n",
       "        vertical-align: middle;\n",
       "    }\n",
       "\n",
       "    .dataframe tbody tr th {\n",
       "        vertical-align: top;\n",
       "    }\n",
       "\n",
       "    .dataframe thead th {\n",
       "        text-align: right;\n",
       "    }\n",
       "</style>\n",
       "<table border=\"1\" class=\"dataframe\">\n",
       "  <thead>\n",
       "    <tr style=\"text-align: right;\">\n",
       "      <th></th>\n",
       "      <th>station_id</th>\n",
       "      <th>num_bikes_available</th>\n",
       "      <th>num_bikes_available_mech</th>\n",
       "      <th>num_bikes_available_elec</th>\n",
       "      <th>num_docks_available</th>\n",
       "      <th>is_installed</th>\n",
       "      <th>is_returning</th>\n",
       "      <th>is_renting</th>\n",
       "      <th>last_reported</th>\n",
       "      <th>time</th>\n",
       "      <th>weekday</th>\n",
       "      <th>hour</th>\n",
       "      <th>name</th>\n",
       "      <th>lat</th>\n",
       "      <th>lon</th>\n",
       "      <th>capacity</th>\n",
       "      <th>occupation_prct</th>\n",
       "      <th>seconds_since_midnight</th>\n",
       "      <th>occupation_class</th>\n",
       "    </tr>\n",
       "  </thead>\n",
       "  <tbody>\n",
       "    <tr>\n",
       "      <th>0</th>\n",
       "      <td>213688169</td>\n",
       "      <td>6</td>\n",
       "      <td>2.0</td>\n",
       "      <td>4.0</td>\n",
       "      <td>29</td>\n",
       "      <td>1</td>\n",
       "      <td>1</td>\n",
       "      <td>1</td>\n",
       "      <td>1679264946</td>\n",
       "      <td>2023-03-20 00:00:18</td>\n",
       "      <td>0</td>\n",
       "      <td>00:00:18</td>\n",
       "      <td>Benjamin Godard - Victor Hugo</td>\n",
       "      <td>48.865983</td>\n",
       "      <td>2.275725</td>\n",
       "      <td>35</td>\n",
       "      <td>17.142857</td>\n",
       "      <td>18</td>\n",
       "      <td>1</td>\n",
       "    </tr>\n",
       "  </tbody>\n",
       "</table>\n",
       "</div>"
      ],
      "text/plain": [
       "   station_id  num_bikes_available  num_bikes_available_mech  \\\n",
       "0   213688169                    6                       2.0   \n",
       "\n",
       "   num_bikes_available_elec  num_docks_available  is_installed  is_returning  \\\n",
       "0                       4.0                   29             1             1   \n",
       "\n",
       "   is_renting  last_reported                time  weekday      hour  \\\n",
       "0           1     1679264946 2023-03-20 00:00:18        0  00:00:18   \n",
       "\n",
       "                            name        lat       lon  capacity  \\\n",
       "0  Benjamin Godard - Victor Hugo  48.865983  2.275725        35   \n",
       "\n",
       "   occupation_prct  seconds_since_midnight  occupation_class  \n",
       "0        17.142857                      18                 1  "
      ]
     },
     "execution_count": 8,
     "metadata": {},
     "output_type": "execute_result"
    }
   ],
   "source": [
    "df.head(1)"
   ]
  },
  {
   "cell_type": "code",
   "execution_count": 92,
   "id": "6e68a7ed",
   "metadata": {},
   "outputs": [],
   "source": [
    "# feat=['station_id', 'capacity', 'seconds_since_midnight']\n",
    "feat=['station_id', 'seconds_since_midnight']\n",
    "target=['occupation_class']\n",
    "\n",
    "x=df[feat]\n",
    "y=df[target]\n",
    "\n",
    "x_train, x_test, y_train, y_test = train_test_split(x, y, test_size=0.2)"
   ]
  },
  {
   "cell_type": "markdown",
   "id": "a5cfe3cc",
   "metadata": {},
   "source": [
    "Pour information, l'ensemble d'entrainement contient les classes dans les proportions suivantes:"
   ]
  },
  {
   "cell_type": "code",
   "execution_count": 93,
   "id": "5e15f0ad",
   "metadata": {},
   "outputs": [
    {
     "name": "stdout",
     "output_type": "stream",
     "text": [
      "0 144036\n",
      "1 336875\n",
      "2 400535\n",
      "3 130065\n",
      "4 28099\n"
     ]
    }
   ],
   "source": [
    "for i in set(y.values[:,0]) :\n",
    "    print(i, len(y[y.occupation_class == i]))"
   ]
  },
  {
   "cell_type": "markdown",
   "id": "e6fb45f6",
   "metadata": {},
   "source": [
    "## Entrainement et prédiction"
   ]
  },
  {
   "cell_type": "code",
   "execution_count": 94,
   "id": "f683d905",
   "metadata": {},
   "outputs": [
    {
     "data": {
      "text/plain": [
       "RandomForestClassifier(max_depth=2, random_state=42)"
      ]
     },
     "execution_count": 94,
     "metadata": {},
     "output_type": "execute_result"
    }
   ],
   "source": [
    "clf=RandomForestClassifier(max_depth=2, random_state=42)\n",
    "clf.fit(x_train, y_train.values.ravel())"
   ]
  },
  {
   "cell_type": "code",
   "execution_count": 95,
   "id": "e4a19d10",
   "metadata": {},
   "outputs": [
    {
     "data": {
      "text/plain": [
       "0.41541058666230607"
      ]
     },
     "execution_count": 95,
     "metadata": {},
     "output_type": "execute_result"
    }
   ],
   "source": [
    "y_pred = clf.predict(x_test)\n",
    "accuracy_score(y_test, y_pred)"
   ]
  },
  {
   "cell_type": "code",
   "execution_count": 96,
   "id": "55e9fb96",
   "metadata": {},
   "outputs": [
    {
     "data": {
      "text/plain": [
       "<AxesSubplot:>"
      ]
     },
     "execution_count": 96,
     "metadata": {},
     "output_type": "execute_result"
    },
    {
     "data": {
      "image/png": "[encoded data removed]",
      "text/plain": [
       "<Figure size 432x288 with 2 Axes>"
      ]
     },
     "metadata": {
      "needs_background": "light"
     },
     "output_type": "display_data"
    }
   ],
   "source": [
    "sns.histplot(x=y_test.values.ravel(), y=y_pred, cbar=True)"
   ]
  },
  {
   "cell_type": "code",
   "execution_count": 97,
   "id": "761234af",
   "metadata": {
    "scrolled": true
   },
   "outputs": [
    {
     "name": "stdout",
     "output_type": "stream",
     "text": [
      "['station_id', 'seconds_since_midnight']\n"
     ]
    },
    {
     "data": {
      "text/plain": [
       "array([0.43704068, 0.56295932])"
      ]
     },
     "execution_count": 97,
     "metadata": {},
     "output_type": "execute_result"
    }
   ],
   "source": [
    "print(feat)\n",
    "clf.feature_importances_"
   ]
  },
  {
   "cell_type": "code",
   "execution_count": null,
   "id": "3c6e6076",
   "metadata": {},
   "outputs": [],
   "source": []
  },
  {
   "cell_type": "markdown",
   "id": "45940af4",
   "metadata": {},
   "source": [
    "# Méthode avec la valeur d'occupation à un temps précédent"
   ]
  },
  {
   "cell_type": "markdown",
   "id": "e8343927",
   "metadata": {},
   "source": [
    "## Principe"
   ]
  },
  {
   "cell_type": "markdown",
   "id": "bc0d5f51",
   "metadata": {},
   "source": [
    "Je vais rajouter le taux d'occupation quelques heures avant le temps de prédiction. Je prendrais 6 heures pour commencer."
   ]
  },
  {
   "cell_type": "markdown",
   "id": "c878a601",
   "metadata": {},
   "source": [
    "Pour simplifier, je prend juste la valeur à minuit pour les temps avant 6h du matin, au lieu de charger les valeurs de la veille."
   ]
  },
  {
   "cell_type": "code",
   "execution_count": 137,
   "id": "4ed82dcc",
   "metadata": {},
   "outputs": [],
   "source": [
    "df2=df.copy()\n",
    "# df2.loc[df2['seconds_since_midnight'] > 6*3600.,'old_occupancy_class']=\n",
    "df3=df2[['time','station_id','occupation_class']].copy()\n",
    "df3['time']=df3['time']+pd.Timedelta(hours=6)\n",
    "df3=df3.rename(columns={\"time\": \"old_time\", \"occupation_class\": \"old_occupation_class\"})\n",
    "#, 'station_id' : 'old_station_id'\n",
    "\n",
    "df2=pd.merge_asof(df2.sort_values('time'), df3.sort_values('old_time'), by='station_id', left_on='time', right_on='old_time', direction='nearest')"
   ]
  },
  {
   "cell_type": "code",
   "execution_count": 138,
   "id": "a7c82675",
   "metadata": {
    "scrolled": true
   },
   "outputs": [
    {
     "data": {
      "text/html": [
       "<div>\n",
       "<style scoped>\n",
       "    .dataframe tbody tr th:only-of-type {\n",
       "        vertical-align: middle;\n",
       "    }\n",
       "\n",
       "    .dataframe tbody tr th {\n",
       "        vertical-align: top;\n",
       "    }\n",
       "\n",
       "    .dataframe thead th {\n",
       "        text-align: right;\n",
       "    }\n",
       "</style>\n",
       "<table border=\"1\" class=\"dataframe\">\n",
       "  <thead>\n",
       "    <tr style=\"text-align: right;\">\n",
       "      <th></th>\n",
       "      <th>station_id</th>\n",
       "      <th>num_bikes_available</th>\n",
       "      <th>num_bikes_available_mech</th>\n",
       "      <th>num_bikes_available_elec</th>\n",
       "      <th>num_docks_available</th>\n",
       "      <th>is_installed</th>\n",
       "      <th>is_returning</th>\n",
       "      <th>is_renting</th>\n",
       "      <th>last_reported</th>\n",
       "      <th>time</th>\n",
       "      <th>...</th>\n",
       "      <th>hour</th>\n",
       "      <th>name</th>\n",
       "      <th>lat</th>\n",
       "      <th>lon</th>\n",
       "      <th>capacity</th>\n",
       "      <th>occupation_prct</th>\n",
       "      <th>seconds_since_midnight</th>\n",
       "      <th>occupation_class</th>\n",
       "      <th>old_time</th>\n",
       "      <th>old_occupation_class</th>\n",
       "    </tr>\n",
       "  </thead>\n",
       "  <tbody>\n",
       "    <tr>\n",
       "      <th>0</th>\n",
       "      <td>213688169</td>\n",
       "      <td>6</td>\n",
       "      <td>2.0</td>\n",
       "      <td>4.0</td>\n",
       "      <td>29</td>\n",
       "      <td>1</td>\n",
       "      <td>1</td>\n",
       "      <td>1</td>\n",
       "      <td>1679264946</td>\n",
       "      <td>2023-03-20 00:00:18</td>\n",
       "      <td>...</td>\n",
       "      <td>00:00:18</td>\n",
       "      <td>Benjamin Godard - Victor Hugo</td>\n",
       "      <td>48.865983</td>\n",
       "      <td>2.275725</td>\n",
       "      <td>35</td>\n",
       "      <td>17.142857</td>\n",
       "      <td>18</td>\n",
       "      <td>1</td>\n",
       "      <td>2023-03-20 06:00:18</td>\n",
       "      <td>1</td>\n",
       "    </tr>\n",
       "    <tr>\n",
       "      <th>1</th>\n",
       "      <td>653152142</td>\n",
       "      <td>11</td>\n",
       "      <td>1.0</td>\n",
       "      <td>10.0</td>\n",
       "      <td>9</td>\n",
       "      <td>1</td>\n",
       "      <td>1</td>\n",
       "      <td>1</td>\n",
       "      <td>1679264816</td>\n",
       "      <td>2023-03-20 00:00:18</td>\n",
       "      <td>...</td>\n",
       "      <td>00:00:18</td>\n",
       "      <td>Château - République</td>\n",
       "      <td>48.905928</td>\n",
       "      <td>2.253629</td>\n",
       "      <td>20</td>\n",
       "      <td>55.000000</td>\n",
       "      <td>18</td>\n",
       "      <td>2</td>\n",
       "      <td>2023-03-20 06:00:18</td>\n",
       "      <td>2</td>\n",
       "    </tr>\n",
       "    <tr>\n",
       "      <th>2</th>\n",
       "      <td>586539770</td>\n",
       "      <td>9</td>\n",
       "      <td>3.0</td>\n",
       "      <td>6.0</td>\n",
       "      <td>13</td>\n",
       "      <td>1</td>\n",
       "      <td>1</td>\n",
       "      <td>1</td>\n",
       "      <td>1679265054</td>\n",
       "      <td>2023-03-20 00:00:18</td>\n",
       "      <td>...</td>\n",
       "      <td>00:00:18</td>\n",
       "      <td>Marne - Germain Dardan</td>\n",
       "      <td>48.811543</td>\n",
       "      <td>2.303071</td>\n",
       "      <td>22</td>\n",
       "      <td>40.909091</td>\n",
       "      <td>18</td>\n",
       "      <td>2</td>\n",
       "      <td>2023-03-20 06:00:18</td>\n",
       "      <td>2</td>\n",
       "    </tr>\n",
       "    <tr>\n",
       "      <th>3</th>\n",
       "      <td>96608796</td>\n",
       "      <td>27</td>\n",
       "      <td>26.0</td>\n",
       "      <td>1.0</td>\n",
       "      <td>0</td>\n",
       "      <td>1</td>\n",
       "      <td>1</td>\n",
       "      <td>1</td>\n",
       "      <td>1679265087</td>\n",
       "      <td>2023-03-20 00:00:18</td>\n",
       "      <td>...</td>\n",
       "      <td>00:00:18</td>\n",
       "      <td>Fille du Calvaire - Turenne</td>\n",
       "      <td>48.862105</td>\n",
       "      <td>2.364960</td>\n",
       "      <td>29</td>\n",
       "      <td>93.103448</td>\n",
       "      <td>18</td>\n",
       "      <td>3</td>\n",
       "      <td>2023-03-20 06:00:18</td>\n",
       "      <td>3</td>\n",
       "    </tr>\n",
       "    <tr>\n",
       "      <th>4</th>\n",
       "      <td>82499609</td>\n",
       "      <td>32</td>\n",
       "      <td>27.0</td>\n",
       "      <td>5.0</td>\n",
       "      <td>3</td>\n",
       "      <td>1</td>\n",
       "      <td>1</td>\n",
       "      <td>1</td>\n",
       "      <td>1679265126</td>\n",
       "      <td>2023-03-20 00:00:18</td>\n",
       "      <td>...</td>\n",
       "      <td>00:00:18</td>\n",
       "      <td>Convention - Lourmel</td>\n",
       "      <td>48.842055</td>\n",
       "      <td>2.285991</td>\n",
       "      <td>36</td>\n",
       "      <td>88.888889</td>\n",
       "      <td>18</td>\n",
       "      <td>3</td>\n",
       "      <td>2023-03-20 06:00:18</td>\n",
       "      <td>3</td>\n",
       "    </tr>\n",
       "    <tr>\n",
       "      <th>...</th>\n",
       "      <td>...</td>\n",
       "      <td>...</td>\n",
       "      <td>...</td>\n",
       "      <td>...</td>\n",
       "      <td>...</td>\n",
       "      <td>...</td>\n",
       "      <td>...</td>\n",
       "      <td>...</td>\n",
       "      <td>...</td>\n",
       "      <td>...</td>\n",
       "      <td>...</td>\n",
       "      <td>...</td>\n",
       "      <td>...</td>\n",
       "      <td>...</td>\n",
       "      <td>...</td>\n",
       "      <td>...</td>\n",
       "      <td>...</td>\n",
       "      <td>...</td>\n",
       "      <td>...</td>\n",
       "      <td>...</td>\n",
       "      <td>...</td>\n",
       "    </tr>\n",
       "    <tr>\n",
       "      <th>1039605</th>\n",
       "      <td>653089942</td>\n",
       "      <td>8</td>\n",
       "      <td>2.0</td>\n",
       "      <td>6.0</td>\n",
       "      <td>12</td>\n",
       "      <td>1</td>\n",
       "      <td>1</td>\n",
       "      <td>1</td>\n",
       "      <td>1679351323</td>\n",
       "      <td>2023-03-20 23:58:01</td>\n",
       "      <td>...</td>\n",
       "      <td>23:58:01</td>\n",
       "      <td>Poissonniers - Championnet</td>\n",
       "      <td>48.895433</td>\n",
       "      <td>2.353018</td>\n",
       "      <td>28</td>\n",
       "      <td>28.571429</td>\n",
       "      <td>86281</td>\n",
       "      <td>2</td>\n",
       "      <td>2023-03-20 23:58:37</td>\n",
       "      <td>1</td>\n",
       "    </tr>\n",
       "    <tr>\n",
       "      <th>1039606</th>\n",
       "      <td>128841079</td>\n",
       "      <td>1</td>\n",
       "      <td>1.0</td>\n",
       "      <td>0.0</td>\n",
       "      <td>35</td>\n",
       "      <td>1</td>\n",
       "      <td>1</td>\n",
       "      <td>1</td>\n",
       "      <td>1679351366</td>\n",
       "      <td>2023-03-20 23:58:01</td>\n",
       "      <td>...</td>\n",
       "      <td>23:58:01</td>\n",
       "      <td>Cambon - Rivoli</td>\n",
       "      <td>48.866143</td>\n",
       "      <td>2.325180</td>\n",
       "      <td>40</td>\n",
       "      <td>2.500000</td>\n",
       "      <td>86281</td>\n",
       "      <td>0</td>\n",
       "      <td>2023-03-20 23:58:37</td>\n",
       "      <td>2</td>\n",
       "    </tr>\n",
       "    <tr>\n",
       "      <th>1039607</th>\n",
       "      <td>220504949</td>\n",
       "      <td>3</td>\n",
       "      <td>2.0</td>\n",
       "      <td>1.0</td>\n",
       "      <td>27</td>\n",
       "      <td>1</td>\n",
       "      <td>1</td>\n",
       "      <td>1</td>\n",
       "      <td>1679351593</td>\n",
       "      <td>2023-03-20 23:58:01</td>\n",
       "      <td>...</td>\n",
       "      <td>23:58:01</td>\n",
       "      <td>Grande Truanderie - Saint-Denis</td>\n",
       "      <td>48.862630</td>\n",
       "      <td>2.349807</td>\n",
       "      <td>33</td>\n",
       "      <td>9.090909</td>\n",
       "      <td>86281</td>\n",
       "      <td>1</td>\n",
       "      <td>2023-03-20 23:58:37</td>\n",
       "      <td>3</td>\n",
       "    </tr>\n",
       "    <tr>\n",
       "      <th>1039608</th>\n",
       "      <td>41464928</td>\n",
       "      <td>17</td>\n",
       "      <td>14.0</td>\n",
       "      <td>3.0</td>\n",
       "      <td>45</td>\n",
       "      <td>1</td>\n",
       "      <td>1</td>\n",
       "      <td>1</td>\n",
       "      <td>1679351580</td>\n",
       "      <td>2023-03-20 23:58:01</td>\n",
       "      <td>...</td>\n",
       "      <td>23:58:01</td>\n",
       "      <td>Sèvres - Lecourbe</td>\n",
       "      <td>48.844768</td>\n",
       "      <td>2.311009</td>\n",
       "      <td>62</td>\n",
       "      <td>27.419355</td>\n",
       "      <td>86281</td>\n",
       "      <td>2</td>\n",
       "      <td>2023-03-20 23:58:37</td>\n",
       "      <td>1</td>\n",
       "    </tr>\n",
       "    <tr>\n",
       "      <th>1039609</th>\n",
       "      <td>315022587</td>\n",
       "      <td>1</td>\n",
       "      <td>0.0</td>\n",
       "      <td>1.0</td>\n",
       "      <td>63</td>\n",
       "      <td>1</td>\n",
       "      <td>1</td>\n",
       "      <td>1</td>\n",
       "      <td>1679351341</td>\n",
       "      <td>2023-03-20 23:58:01</td>\n",
       "      <td>...</td>\n",
       "      <td>23:58:01</td>\n",
       "      <td>Malesherbes - Place de la Madeleine</td>\n",
       "      <td>48.870406</td>\n",
       "      <td>2.323244</td>\n",
       "      <td>67</td>\n",
       "      <td>1.492537</td>\n",
       "      <td>86281</td>\n",
       "      <td>0</td>\n",
       "      <td>2023-03-20 23:58:37</td>\n",
       "      <td>4</td>\n",
       "    </tr>\n",
       "  </tbody>\n",
       "</table>\n",
       "<p>1039610 rows × 21 columns</p>\n",
       "</div>"
      ],
      "text/plain": [
       "         station_id  num_bikes_available  num_bikes_available_mech  \\\n",
       "0         213688169                    6                       2.0   \n",
       "1         653152142                   11                       1.0   \n",
       "2         586539770                    9                       3.0   \n",
       "3          96608796                   27                      26.0   \n",
       "4          82499609                   32                      27.0   \n",
       "...             ...                  ...                       ...   \n",
       "1039605   653089942                    8                       2.0   \n",
       "1039606   128841079                    1                       1.0   \n",
       "1039607   220504949                    3                       2.0   \n",
       "1039608    41464928                   17                      14.0   \n",
       "1039609   315022587                    1                       0.0   \n",
       "\n",
       "         num_bikes_available_elec  num_docks_available  is_installed  \\\n",
       "0                             4.0                   29             1   \n",
       "1                            10.0                    9             1   \n",
       "2                             6.0                   13             1   \n",
       "3                             1.0                    0             1   \n",
       "4                             5.0                    3             1   \n",
       "...                           ...                  ...           ...   \n",
       "1039605                       6.0                   12             1   \n",
       "1039606                       0.0                   35             1   \n",
       "1039607                       1.0                   27             1   \n",
       "1039608                       3.0                   45             1   \n",
       "1039609                       1.0                   63             1   \n",
       "\n",
       "         is_returning  is_renting  last_reported                time  ...  \\\n",
       "0                   1           1     1679264946 2023-03-20 00:00:18  ...   \n",
       "1                   1           1     1679264816 2023-03-20 00:00:18  ...   \n",
       "2                   1           1     1679265054 2023-03-20 00:00:18  ...   \n",
       "3                   1           1     1679265087 2023-03-20 00:00:18  ...   \n",
       "4                   1           1     1679265126 2023-03-20 00:00:18  ...   \n",
       "...               ...         ...            ...                 ...  ...   \n",
       "1039605             1           1     1679351323 2023-03-20 23:58:01  ...   \n",
       "1039606             1           1     1679351366 2023-03-20 23:58:01  ...   \n",
       "1039607             1           1     1679351593 2023-03-20 23:58:01  ...   \n",
       "1039608             1           1     1679351580 2023-03-20 23:58:01  ...   \n",
       "1039609             1           1     1679351341 2023-03-20 23:58:01  ...   \n",
       "\n",
       "             hour                                 name        lat       lon  \\\n",
       "0        00:00:18        Benjamin Godard - Victor Hugo  48.865983  2.275725   \n",
       "1        00:00:18                 Château - République  48.905928  2.253629   \n",
       "2        00:00:18               Marne - Germain Dardan  48.811543  2.303071   \n",
       "3        00:00:18          Fille du Calvaire - Turenne  48.862105  2.364960   \n",
       "4        00:00:18                 Convention - Lourmel  48.842055  2.285991   \n",
       "...           ...                                  ...        ...       ...   \n",
       "1039605  23:58:01           Poissonniers - Championnet  48.895433  2.353018   \n",
       "1039606  23:58:01                      Cambon - Rivoli  48.866143  2.325180   \n",
       "1039607  23:58:01      Grande Truanderie - Saint-Denis  48.862630  2.349807   \n",
       "1039608  23:58:01                    Sèvres - Lecourbe  48.844768  2.311009   \n",
       "1039609  23:58:01  Malesherbes - Place de la Madeleine  48.870406  2.323244   \n",
       "\n",
       "         capacity  occupation_prct  seconds_since_midnight  occupation_class  \\\n",
       "0              35        17.142857                      18                 1   \n",
       "1              20        55.000000                      18                 2   \n",
       "2              22        40.909091                      18                 2   \n",
       "3              29        93.103448                      18                 3   \n",
       "4              36        88.888889                      18                 3   \n",
       "...           ...              ...                     ...               ...   \n",
       "1039605        28        28.571429                   86281                 2   \n",
       "1039606        40         2.500000                   86281                 0   \n",
       "1039607        33         9.090909                   86281                 1   \n",
       "1039608        62        27.419355                   86281                 2   \n",
       "1039609        67         1.492537                   86281                 0   \n",
       "\n",
       "                   old_time old_occupation_class  \n",
       "0       2023-03-20 06:00:18                    1  \n",
       "1       2023-03-20 06:00:18                    2  \n",
       "2       2023-03-20 06:00:18                    2  \n",
       "3       2023-03-20 06:00:18                    3  \n",
       "4       2023-03-20 06:00:18                    3  \n",
       "...                     ...                  ...  \n",
       "1039605 2023-03-20 23:58:37                    1  \n",
       "1039606 2023-03-20 23:58:37                    2  \n",
       "1039607 2023-03-20 23:58:37                    3  \n",
       "1039608 2023-03-20 23:58:37                    1  \n",
       "1039609 2023-03-20 23:58:37                    4  \n",
       "\n",
       "[1039610 rows x 21 columns]"
      ]
     },
     "execution_count": 138,
     "metadata": {},
     "output_type": "execute_result"
    }
   ],
   "source": [
    "df2"
   ]
  },
  {
   "cell_type": "code",
   "execution_count": 139,
   "id": "72a0f5c2",
   "metadata": {},
   "outputs": [
    {
     "data": {
      "text/plain": [
       "[<matplotlib.lines.Line2D at 0x17ac1cefe80>]"
      ]
     },
     "execution_count": 139,
     "metadata": {},
     "output_type": "execute_result"
    },
    {
     "data": {
      "image/png": "[encoded data removed]",
      "text/plain": [
       "<Figure size 432x288 with 1 Axes>"
      ]
     },
     "metadata": {
      "needs_background": "light"
     },
     "output_type": "display_data"
    }
   ],
   "source": [
    "plt.plot(df2.time, df2.old_time)"
   ]
  },
  {
   "cell_type": "code",
   "execution_count": 142,
   "id": "5f625689",
   "metadata": {},
   "outputs": [
    {
     "data": {
      "text/plain": [
       "[<matplotlib.lines.Line2D at 0x17ac2bcaf40>]"
      ]
     },
     "execution_count": 142,
     "metadata": {},
     "output_type": "execute_result"
    },
    {
     "data": {
      "image/png": "[encoded data removed]",
      "text/plain": [
       "<Figure size 432x288 with 1 Axes>"
      ]
     },
     "metadata": {
      "needs_background": "light"
     },
     "output_type": "display_data"
    }
   ],
   "source": [
    "ind=(df2.station_id == df2.loc[0,'station_id'])\n",
    "\n",
    "plt.plot(df2[ind].time, df2[ind].occupation_class, color='r')\n",
    "plt.plot(df2[ind].time, df2[ind].old_occupation_class+3, color='b')\n"
   ]
  },
  {
   "cell_type": "markdown",
   "id": "18ebf33c",
   "metadata": {},
   "source": [
    "## Définition des features et target"
   ]
  },
  {
   "cell_type": "code",
   "execution_count": 143,
   "id": "c1a13dfd",
   "metadata": {},
   "outputs": [
    {
     "data": {
      "text/html": [
       "<div>\n",
       "<style scoped>\n",
       "    .dataframe tbody tr th:only-of-type {\n",
       "        vertical-align: middle;\n",
       "    }\n",
       "\n",
       "    .dataframe tbody tr th {\n",
       "        vertical-align: top;\n",
       "    }\n",
       "\n",
       "    .dataframe thead th {\n",
       "        text-align: right;\n",
       "    }\n",
       "</style>\n",
       "<table border=\"1\" class=\"dataframe\">\n",
       "  <thead>\n",
       "    <tr style=\"text-align: right;\">\n",
       "      <th></th>\n",
       "      <th>station_id</th>\n",
       "      <th>num_bikes_available</th>\n",
       "      <th>num_bikes_available_mech</th>\n",
       "      <th>num_bikes_available_elec</th>\n",
       "      <th>num_docks_available</th>\n",
       "      <th>is_installed</th>\n",
       "      <th>is_returning</th>\n",
       "      <th>is_renting</th>\n",
       "      <th>last_reported</th>\n",
       "      <th>time</th>\n",
       "      <th>...</th>\n",
       "      <th>hour</th>\n",
       "      <th>name</th>\n",
       "      <th>lat</th>\n",
       "      <th>lon</th>\n",
       "      <th>capacity</th>\n",
       "      <th>occupation_prct</th>\n",
       "      <th>seconds_since_midnight</th>\n",
       "      <th>occupation_class</th>\n",
       "      <th>old_time</th>\n",
       "      <th>old_occupation_class</th>\n",
       "    </tr>\n",
       "  </thead>\n",
       "  <tbody>\n",
       "    <tr>\n",
       "      <th>0</th>\n",
       "      <td>213688169</td>\n",
       "      <td>6</td>\n",
       "      <td>2.0</td>\n",
       "      <td>4.0</td>\n",
       "      <td>29</td>\n",
       "      <td>1</td>\n",
       "      <td>1</td>\n",
       "      <td>1</td>\n",
       "      <td>1679264946</td>\n",
       "      <td>2023-03-20 00:00:18</td>\n",
       "      <td>...</td>\n",
       "      <td>00:00:18</td>\n",
       "      <td>Benjamin Godard - Victor Hugo</td>\n",
       "      <td>48.865983</td>\n",
       "      <td>2.275725</td>\n",
       "      <td>35</td>\n",
       "      <td>17.142857</td>\n",
       "      <td>18</td>\n",
       "      <td>1</td>\n",
       "      <td>2023-03-20 06:00:18</td>\n",
       "      <td>1</td>\n",
       "    </tr>\n",
       "  </tbody>\n",
       "</table>\n",
       "<p>1 rows × 21 columns</p>\n",
       "</div>"
      ],
      "text/plain": [
       "   station_id  num_bikes_available  num_bikes_available_mech  \\\n",
       "0   213688169                    6                       2.0   \n",
       "\n",
       "   num_bikes_available_elec  num_docks_available  is_installed  is_returning  \\\n",
       "0                       4.0                   29             1             1   \n",
       "\n",
       "   is_renting  last_reported                time  ...      hour  \\\n",
       "0           1     1679264946 2023-03-20 00:00:18  ...  00:00:18   \n",
       "\n",
       "                            name        lat       lon  capacity  \\\n",
       "0  Benjamin Godard - Victor Hugo  48.865983  2.275725        35   \n",
       "\n",
       "   occupation_prct  seconds_since_midnight  occupation_class  \\\n",
       "0        17.142857                      18                 1   \n",
       "\n",
       "             old_time old_occupation_class  \n",
       "0 2023-03-20 06:00:18                    1  \n",
       "\n",
       "[1 rows x 21 columns]"
      ]
     },
     "execution_count": 143,
     "metadata": {},
     "output_type": "execute_result"
    }
   ],
   "source": [
    "df2.head(1)"
   ]
  },
  {
   "cell_type": "code",
   "execution_count": 154,
   "id": "f114c7a3",
   "metadata": {},
   "outputs": [],
   "source": [
    "feat=['station_id', 'seconds_since_midnight','lat', 'lon', 'old_occupation_class']\n",
    "target=['occupation_class']\n",
    "\n",
    "x=df2[feat]\n",
    "y=df2[target]\n",
    "\n",
    "x_train, x_test, y_train, y_test = train_test_split(x, y, test_size=0.2)"
   ]
  },
  {
   "cell_type": "markdown",
   "id": "33906b9b",
   "metadata": {},
   "source": [
    "Pour information, l'ensemble d'entrainement contient les classes dans les proportions suivantes:"
   ]
  },
  {
   "cell_type": "code",
   "execution_count": 145,
   "id": "ff38bd36",
   "metadata": {},
   "outputs": [
    {
     "name": "stdout",
     "output_type": "stream",
     "text": [
      "0 144036\n",
      "1 336875\n",
      "2 400535\n",
      "3 130065\n",
      "4 28099\n"
     ]
    }
   ],
   "source": [
    "for i in set(y.values[:,0]) :\n",
    "    print(i, len(y[y.occupation_class == i]))"
   ]
  },
  {
   "cell_type": "markdown",
   "id": "d4740973",
   "metadata": {},
   "source": [
    "## Entrainement et prédiction"
   ]
  },
  {
   "cell_type": "code",
   "execution_count": 155,
   "id": "4c670409",
   "metadata": {},
   "outputs": [
    {
     "data": {
      "text/plain": [
       "RandomForestClassifier(max_depth=2, random_state=42)"
      ]
     },
     "execution_count": 155,
     "metadata": {},
     "output_type": "execute_result"
    }
   ],
   "source": [
    "clf2=RandomForestClassifier(max_depth=2, random_state=42)\n",
    "clf2.fit(x_train, y_train.values.ravel())"
   ]
  },
  {
   "cell_type": "code",
   "execution_count": 159,
   "id": "27a868f1",
   "metadata": {},
   "outputs": [
    {
     "data": {
      "text/plain": [
       "0.522960533276902"
      ]
     },
     "execution_count": 159,
     "metadata": {},
     "output_type": "execute_result"
    }
   ],
   "source": [
    "y_pred = clf2.predict(x_test)\n",
    "accuracy_score(y_test, y_pred)"
   ]
  },
  {
   "cell_type": "code",
   "execution_count": 148,
   "id": "bafbcbbc",
   "metadata": {},
   "outputs": [
    {
     "data": {
      "text/plain": [
       "<AxesSubplot:>"
      ]
     },
     "execution_count": 148,
     "metadata": {},
     "output_type": "execute_result"
    },
    {
     "data": {
      "image/png": "[encoded data removed]",
      "text/plain": [
       "<Figure size 432x288 with 2 Axes>"
      ]
     },
     "metadata": {
      "needs_background": "light"
     },
     "output_type": "display_data"
    }
   ],
   "source": [
    "sns.histplot(x=y_test.values.ravel(), y=y_pred, cbar=True)"
   ]
  },
  {
   "cell_type": "code",
   "execution_count": 156,
   "id": "8f95431f",
   "metadata": {},
   "outputs": [],
   "source": []
  },
  {
   "cell_type": "code",
   "execution_count": 158,
   "id": "64d8e27c",
   "metadata": {
    "scrolled": true
   },
   "outputs": [
    {
     "data": {
      "text/plain": [
       "<AxesSubplot:>"
      ]
     },
     "execution_count": 158,
     "metadata": {},
     "output_type": "execute_result"
    },
    {
     "data": {
      "image/png": "[encoded data removed]",
      "text/plain": [
       "<Figure size 432x288 with 2 Axes>"
      ]
     },
     "metadata": {
      "needs_background": "light"
     },
     "output_type": "display_data"
    }
   ],
   "source": [
    "co=confusion_matrix(y_test.values.ravel(), y_pred)\n",
    "sns.heatmap(co, annot = True)"
   ]
  },
  {
   "cell_type": "code",
   "execution_count": 160,
   "id": "fddf8651",
   "metadata": {
    "scrolled": true
   },
   "outputs": [
    {
     "name": "stdout",
     "output_type": "stream",
     "text": [
      "['station_id', 'seconds_since_midnight', 'lat', 'lon', 'old_occupation_class']\n"
     ]
    },
    {
     "data": {
      "text/plain": [
       "array([0.07836968, 0.19854182, 0.07330987, 0.01298314, 0.63679549])"
      ]
     },
     "execution_count": 160,
     "metadata": {},
     "output_type": "execute_result"
    }
   ],
   "source": [
    "print(feat)\n",
    "clf2.feature_importances_"
   ]
  },
  {
   "cell_type": "code",
   "execution_count": null,
   "id": "bbce5165",
   "metadata": {},
   "outputs": [],
   "source": []
  },
  {
   "cell_type": "markdown",
   "id": "8be9a4f2",
   "metadata": {},
   "source": [
    "# Méthode avec la valeur d'occupation à un temps précédent (cyclicité bien prise en compte)"
   ]
  },
  {
   "cell_type": "markdown",
   "id": "e5c0b2fe",
   "metadata": {},
   "source": [
    "## Principe"
   ]
  },
  {
   "cell_type": "markdown",
   "id": "c399724f",
   "metadata": {},
   "source": [
    "Je vais rajouter le taux d'occupation quelques heures avant le temps de prédiction. Je prendrais 6 heures pour commencer."
   ]
  },
  {
   "cell_type": "markdown",
   "id": "5c76acb2",
   "metadata": {},
   "source": [
    "Pour simplifier, je prend juste la valeur à minuit pour les temps avant 6h du matin, au lieu de charger les valeurs de la veille."
   ]
  },
  {
   "cell_type": "code",
   "execution_count": 191,
   "id": "c4c1c332",
   "metadata": {},
   "outputs": [],
   "source": [
    "df4=df.copy()\n",
    "# df2.loc[df2['seconds_since_midnight'] > 6*3600.,'old_occupancy_class']=\n",
    "df3=df4[['hour','station_id','occupation_class']].copy()\n",
    "df4['hour']=df4['hour']+pd.Timedelta(hours=0) \n",
    "df3['hour']=df3['hour']+pd.Timedelta(hours=6)\n",
    "df3['hour']=df3['hour'].apply(lambda x:x-pd.Timedelta(days=x.days))\n",
    "df3=df3.rename(columns={\"hour\": \"old_hour\", \"occupation_class\": \"old_occupation_class\"})\n",
    "#, 'station_id' : 'old_station_id'"
   ]
  },
  {
   "cell_type": "code",
   "execution_count": 206,
   "id": "79c2209f",
   "metadata": {},
   "outputs": [],
   "source": [
    "df4=pd.merge_asof(df4.sort_values('hour'), \n",
    "                  df3.sort_values('old_hour'), \n",
    "                  by='station_id', left_on='hour', right_on='old_hour', direction='nearest')"
   ]
  },
  {
   "cell_type": "code",
   "execution_count": 207,
   "id": "34c4ae8b",
   "metadata": {},
   "outputs": [
    {
     "data": {
      "text/plain": [
       "[<matplotlib.lines.Line2D at 0x17ab6dfd6d0>]"
      ]
     },
     "execution_count": 207,
     "metadata": {},
     "output_type": "execute_result"
    },
    {
     "data": {
      "image/png": "[encoded data removed]",
      "text/plain": [
       "<Figure size 432x288 with 1 Axes>"
      ]
     },
     "metadata": {
      "needs_background": "light"
     },
     "output_type": "display_data"
    }
   ],
   "source": [
    "plt.plot(df4.hour, df4.old_hour)"
   ]
  },
  {
   "cell_type": "code",
   "execution_count": 210,
   "id": "4635edfe",
   "metadata": {},
   "outputs": [
    {
     "data": {
      "text/plain": [
       "[<matplotlib.lines.Line2D at 0x17ab514a3a0>]"
      ]
     },
     "execution_count": 210,
     "metadata": {},
     "output_type": "execute_result"
    },
    {
     "data": {
      "image/png": "[encoded data removed]",
      "text/plain": [
       "<Figure size 432x288 with 1 Axes>"
      ]
     },
     "metadata": {
      "needs_background": "light"
     },
     "output_type": "display_data"
    }
   ],
   "source": [
    "ind=(df4.station_id == df4.loc[0,'station_id'])\n",
    "\n",
    "plt.plot(df4[ind].time, df4[ind].occupation_class, color='r')\n",
    "plt.plot(df4[ind].time, df4[ind].old_occupation_class+3, color='b')\n"
   ]
  },
  {
   "cell_type": "markdown",
   "id": "2da6d58d",
   "metadata": {},
   "source": [
    "## Définition des features et target"
   ]
  },
  {
   "cell_type": "code",
   "execution_count": 211,
   "id": "e73b554e",
   "metadata": {},
   "outputs": [
    {
     "data": {
      "text/html": [
       "<div>\n",
       "<style scoped>\n",
       "    .dataframe tbody tr th:only-of-type {\n",
       "        vertical-align: middle;\n",
       "    }\n",
       "\n",
       "    .dataframe tbody tr th {\n",
       "        vertical-align: top;\n",
       "    }\n",
       "\n",
       "    .dataframe thead th {\n",
       "        text-align: right;\n",
       "    }\n",
       "</style>\n",
       "<table border=\"1\" class=\"dataframe\">\n",
       "  <thead>\n",
       "    <tr style=\"text-align: right;\">\n",
       "      <th></th>\n",
       "      <th>station_id</th>\n",
       "      <th>num_bikes_available</th>\n",
       "      <th>num_bikes_available_mech</th>\n",
       "      <th>num_bikes_available_elec</th>\n",
       "      <th>num_docks_available</th>\n",
       "      <th>is_installed</th>\n",
       "      <th>is_returning</th>\n",
       "      <th>is_renting</th>\n",
       "      <th>last_reported</th>\n",
       "      <th>time</th>\n",
       "      <th>...</th>\n",
       "      <th>hour</th>\n",
       "      <th>name</th>\n",
       "      <th>lat</th>\n",
       "      <th>lon</th>\n",
       "      <th>capacity</th>\n",
       "      <th>occupation_prct</th>\n",
       "      <th>seconds_since_midnight</th>\n",
       "      <th>occupation_class</th>\n",
       "      <th>old_hour</th>\n",
       "      <th>old_occupation_class</th>\n",
       "    </tr>\n",
       "  </thead>\n",
       "  <tbody>\n",
       "    <tr>\n",
       "      <th>0</th>\n",
       "      <td>213688169</td>\n",
       "      <td>6</td>\n",
       "      <td>2.0</td>\n",
       "      <td>4.0</td>\n",
       "      <td>29</td>\n",
       "      <td>1</td>\n",
       "      <td>1</td>\n",
       "      <td>1</td>\n",
       "      <td>1679264946</td>\n",
       "      <td>2023-03-20 00:00:18</td>\n",
       "      <td>...</td>\n",
       "      <td>0 days 00:00:18</td>\n",
       "      <td>Benjamin Godard - Victor Hugo</td>\n",
       "      <td>48.865983</td>\n",
       "      <td>2.275725</td>\n",
       "      <td>35</td>\n",
       "      <td>17.142857</td>\n",
       "      <td>18</td>\n",
       "      <td>1</td>\n",
       "      <td>0 days 00:00:37</td>\n",
       "      <td>0</td>\n",
       "    </tr>\n",
       "  </tbody>\n",
       "</table>\n",
       "<p>1 rows × 21 columns</p>\n",
       "</div>"
      ],
      "text/plain": [
       "   station_id  num_bikes_available  num_bikes_available_mech  \\\n",
       "0   213688169                    6                       2.0   \n",
       "\n",
       "   num_bikes_available_elec  num_docks_available  is_installed  is_returning  \\\n",
       "0                       4.0                   29             1             1   \n",
       "\n",
       "   is_renting  last_reported                time  ...            hour  \\\n",
       "0           1     1679264946 2023-03-20 00:00:18  ... 0 days 00:00:18   \n",
       "\n",
       "                            name        lat       lon  capacity  \\\n",
       "0  Benjamin Godard - Victor Hugo  48.865983  2.275725        35   \n",
       "\n",
       "   occupation_prct  seconds_since_midnight  occupation_class        old_hour  \\\n",
       "0        17.142857                      18                 1 0 days 00:00:37   \n",
       "\n",
       "  old_occupation_class  \n",
       "0                    0  \n",
       "\n",
       "[1 rows x 21 columns]"
      ]
     },
     "execution_count": 211,
     "metadata": {},
     "output_type": "execute_result"
    }
   ],
   "source": [
    "df4.head(1)"
   ]
  },
  {
   "cell_type": "code",
   "execution_count": 212,
   "id": "7af78b4d",
   "metadata": {},
   "outputs": [],
   "source": [
    "feat=['station_id', 'seconds_since_midnight', 'old_occupation_class']\n",
    "target=['occupation_class']\n",
    "\n",
    "x=df2[feat]\n",
    "y=df2[target]\n",
    "\n",
    "x_train, x_test, y_train, y_test = train_test_split(x, y, test_size=0.2)"
   ]
  },
  {
   "cell_type": "markdown",
   "id": "5b4a634e",
   "metadata": {},
   "source": [
    "Pour information, l'ensemble d'entrainement contient les classes dans les proportions suivantes:"
   ]
  },
  {
   "cell_type": "code",
   "execution_count": 213,
   "id": "5fed0018",
   "metadata": {},
   "outputs": [
    {
     "name": "stdout",
     "output_type": "stream",
     "text": [
      "0 144036\n",
      "1 336875\n",
      "2 400535\n",
      "3 130065\n",
      "4 28099\n"
     ]
    }
   ],
   "source": [
    "for i in set(y.values[:,0]) :\n",
    "    print(i, len(y[y.occupation_class == i]))"
   ]
  },
  {
   "cell_type": "markdown",
   "id": "6b229511",
   "metadata": {},
   "source": [
    "## Entrainement et prédiction"
   ]
  },
  {
   "cell_type": "code",
   "execution_count": 214,
   "id": "f872288a",
   "metadata": {},
   "outputs": [
    {
     "data": {
      "text/plain": [
       "RandomForestClassifier(max_depth=2, random_state=42)"
      ]
     },
     "execution_count": 214,
     "metadata": {},
     "output_type": "execute_result"
    }
   ],
   "source": [
    "clf4=RandomForestClassifier(max_depth=2, random_state=42)\n",
    "clf4.fit(x_train, y_train.values.ravel())"
   ]
  },
  {
   "cell_type": "code",
   "execution_count": 215,
   "id": "f5312ba8",
   "metadata": {},
   "outputs": [
    {
     "data": {
      "text/plain": [
       "0.5230663421860121"
      ]
     },
     "execution_count": 215,
     "metadata": {},
     "output_type": "execute_result"
    }
   ],
   "source": [
    "y_pred = clf4.predict(x_test)\n",
    "accuracy_score(y_test, y_pred)"
   ]
  },
  {
   "cell_type": "code",
   "execution_count": 216,
   "id": "9483004b",
   "metadata": {
    "scrolled": true
   },
   "outputs": [
    {
     "data": {
      "text/plain": [
       "<AxesSubplot:>"
      ]
     },
     "execution_count": 216,
     "metadata": {},
     "output_type": "execute_result"
    },
    {
     "data": {
      "image/png": "[encoded data removed]",
      "text/plain": [
       "<Figure size 432x288 with 2 Axes>"
      ]
     },
     "metadata": {
      "needs_background": "light"
     },
     "output_type": "display_data"
    }
   ],
   "source": [
    "sns.histplot(x=y_test.values.ravel(), y=y_pred, cbar=True)"
   ]
  },
  {
   "cell_type": "code",
   "execution_count": 217,
   "id": "466cfc2d",
   "metadata": {
    "scrolled": true
   },
   "outputs": [
    {
     "data": {
      "text/plain": [
       "<AxesSubplot:>"
      ]
     },
     "execution_count": 217,
     "metadata": {},
     "output_type": "execute_result"
    },
    {
     "data": {
      "image/png": "[encoded data removed]",
      "text/plain": [
       "<Figure size 432x288 with 2 Axes>"
      ]
     },
     "metadata": {
      "needs_background": "light"
     },
     "output_type": "display_data"
    }
   ],
   "source": [
    "co=confusion_matrix(y_test.values.ravel(), y_pred)\n",
    "sns.heatmap(co, annot = True)"
   ]
  },
  {
   "cell_type": "code",
   "execution_count": 218,
   "id": "d032e4db",
   "metadata": {
    "scrolled": true
   },
   "outputs": [
    {
     "name": "stdout",
     "output_type": "stream",
     "text": [
      "['station_id', 'seconds_since_midnight', 'old_occupation_class']\n"
     ]
    },
    {
     "data": {
      "text/plain": [
       "array([0.20508767, 0.29210992, 0.50280242])"
      ]
     },
     "execution_count": 218,
     "metadata": {},
     "output_type": "execute_result"
    }
   ],
   "source": [
    "print(feat)\n",
    "clf4.feature_importances_"
   ]
  },
  {
   "cell_type": "code",
   "execution_count": null,
   "id": "1065287c",
   "metadata": {},
   "outputs": [],
   "source": []
  }
 ],
 "metadata": {
  "kernelspec": {
   "display_name": "Python 3 (ipykernel)",
   "language": "python",
   "name": "python3"
  },
  "language_info": {
   "codemirror_mode": {
    "name": "ipython",
    "version": 3
   },
   "file_extension": ".py",
   "mimetype": "text/x-python",
   "name": "python",
   "nbconvert_exporter": "python",
   "pygments_lexer": "ipython3",
   "version": "3.9.12"
  },
  "toc": {
   "base_numbering": 1,
   "nav_menu": {},
   "number_sections": true,
   "sideBar": true,
   "skip_h1_title": false,
   "title_cell": "Table of Contents",
   "title_sidebar": "Contents",
   "toc_cell": false,
   "toc_position": {
    "height": "calc(100% - 180px)",
    "left": "10px",
    "top": "150px",
    "width": "352px"
   },
   "toc_section_display": true,
   "toc_window_display": true
  },
  "varInspector": {
   "cols": {
    "lenName": 16,
    "lenType": 16,
    "lenVar": 40
   },
   "kernels_config": {
    "python": {
     "delete_cmd_postfix": "",
     "delete_cmd_prefix": "del ",
     "library": "var_list.py",
     "varRefreshCmd": "print(var_dic_list())"
    },
    "r": {
     "delete_cmd_postfix": ") ",
     "delete_cmd_prefix": "rm(",
     "library": "var_list.r",
     "varRefreshCmd": "cat(var_dic_list()) "
    }
   },
   "types_to_exclude": [
    "module",
    "function",
    "builtin_function_or_method",
    "instance",
    "_Feature"
   ],
   "window_display": false
  }
 },
 "nbformat": 4,
 "nbformat_minor": 5
}
