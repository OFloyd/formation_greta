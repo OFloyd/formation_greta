{
 "cells": [
  {
   "cell_type": "markdown",
   "metadata": {
    "id": "6ovxFKAAj2to"
   },
   "source": [
    "# MLA 703. RNN-LSTM et architectures avancées [Analyse de sentiment]"
   ]
  },
  {
   "cell_type": "markdown",
   "metadata": {
    "id": "sTC0SJwEj2tq"
   },
   "source": [
    "# Importation des modules"
   ]
  },
  {
   "cell_type": "code",
   "execution_count": 1,
   "metadata": {
    "id": "DfDpiDv4j2tq"
   },
   "outputs": [],
   "source": [
    "# On importe les librairies usuelless\n",
    "import math\n",
    "import numpy as np\n",
    "import matplotlib.pyplot as plt\n",
    "from tensorflow.keras.datasets import imdb\n",
    "from tensorflow.keras.preprocessing.sequence import pad_sequences\n",
    "from tensorflow.keras.layers import Dense , Input , SimpleRNN, LSTM , Embedding, Dropout\n",
    "from tensorflow.keras.layers import Bidirectional, GlobalMaxPool1D\n",
    "from tensorflow.keras.models import Model, Sequential\n",
    "from tensorflow.keras.layers import Convolution1D,MaxPooling1D\n",
    "from tensorflow.keras.losses import BinaryCrossentropy\n",
    "from tensorflow.keras.optimizers import  Adam\n",
    "\n",
    "import joblib\n",
    "\n",
    "# On désactive les warnings\n",
    "import warnings\n",
    "warnings.filterwarnings('ignore')\n"
   ]
  },
  {
   "cell_type": "markdown",
   "metadata": {
    "id": "kt2bfDIwoZ_3"
   },
   "source": [
    "# Fonction utile "
   ]
  },
  {
   "cell_type": "code",
   "execution_count": 2,
   "metadata": {
    "id": "D4yyKoT-o8hi"
   },
   "outputs": [],
   "source": [
    "def predict(model, x_test):\n",
    "\n",
    "    # On prédit sur les données de test\n",
    "    y_hat = model.predict(x_test)\n",
    "\n",
    "    # On tranforme les prédictions en labels\n",
    "    i_pos = [i for i in range(len(y_hat)) if y_hat[i]>0]\n",
    "    i_neg = [i for i in range(len(y_hat)) if y_hat[i]<=0]\n",
    "\n",
    "    y_pred   = np.zeros(len(y_hat))\n",
    "    y_pred[i_pos] = 1\n",
    "    y_pred[i_neg] = 0\n",
    "    return y_pred"
   ]
  },
  {
   "cell_type": "markdown",
   "metadata": {
    "id": "uwOjTZYej2tq"
   },
   "source": [
    "#  Charger les données"
   ]
  },
  {
   "cell_type": "code",
   "execution_count": 3,
   "metadata": {
    "colab": {
     "base_uri": "https://localhost:8080/"
    },
    "id": "2PcQTK_8j2tq",
    "outputId": "87bbad90-b150-4c27-dfc0-146f19c9783a"
   },
   "outputs": [
    {
     "name": "stdout",
     "output_type": "stream",
     "text": [
      "Downloading data from https://storage.googleapis.com/tensorflow/tf-keras-datasets/imdb.npz\n",
      "17464789/17464789 [==============================] - 12s 1us/step\n"
     ]
    }
   ],
   "source": [
    "# On charge directement la base IMDB par les datasets de Keras\n",
    "# La méthode load_date possède pas mal d'options et de propriétés intéressantes (voir description) :\n",
    "# 1) Sépare les jeux d'entrainement et de test\n",
    "# 2) num_words : Top most frequent words to consider.\n",
    "# 3) skip_top : Top most frequent words to ignore (they will appear as oov_char value in the sequence data).\n",
    "# 4) maxlen : Maximum sequence length. Any longer sequence will be truncated.\n",
    "# 5) seed : Seed for reproducible data shuffling.\n",
    "# 6) start_char : The start of a sequence will be marked with this character. Set to 1 because 0 is usually the\n",
    "#    padding character.\n",
    "# 7) oov_char : words that were cut out because of the num_words or skip_top limit will be replaced with this\n",
    "#    character.\n",
    "# 8) index_from : Index actual words with this index and higher.\n",
    "\n",
    "\n",
    "num_words = 5000\n",
    "max_len   =  100\n",
    "\n",
    "(x_train, y_train), (x_test, y_test) = imdb.load_data(num_words=num_words,\n",
    "                                                      maxlen=max_len)\n",
    "\n",
    "# On padde les séquence de mot\n",
    "x_train     = pad_sequences(x_train, maxlen=max_len, truncating='post')\n",
    "x_test      = pad_sequences(x_test, maxlen=max_len, truncating='post')"
   ]
  },
  {
   "cell_type": "markdown",
   "metadata": {
    "id": "e-CCd_x0nZBr"
   },
   "source": [
    "# Plusieurs couches LSTM."
   ]
  },
  {
   "cell_type": "code",
   "execution_count": 5,
   "metadata": {
    "colab": {
     "base_uri": "https://localhost:8080/"
    },
    "id": "I-IbZE1inAEW",
    "outputId": "c0982810-4397-4477-88a7-ea4b9554d3fc"
   },
   "outputs": [
    {
     "name": "stdout",
     "output_type": "stream",
     "text": [
      "Model: \"sequential\"\n",
      "_________________________________________________________________\n",
      " Layer (type)                Output Shape              Param #   \n",
      "=================================================================\n",
      " embedding (Embedding)       (None, None, 64)          320000    \n",
      "                                                                 \n",
      " bidirectional (Bidirectiona  (None, None, 128)        66048     \n",
      " l)                                                              \n",
      "                                                                 \n",
      " bidirectional_1 (Bidirectio  (None, 64)               41216     \n",
      " nal)                                                            \n",
      "                                                                 \n",
      " dense (Dense)               (None, 64)                4160      \n",
      "                                                                 \n",
      " dropout (Dropout)           (None, 64)                0         \n",
      "                                                                 \n",
      " dense_1 (Dense)             (None, 1)                 65        \n",
      "                                                                 \n",
      "=================================================================\n",
      "Total params: 431,489\n",
      "Trainable params: 431,489\n",
      "Non-trainable params: 0\n",
      "_________________________________________________________________\n"
     ]
    }
   ],
   "source": [
    "embed_size = 64                                                 # dimension de l'embedding\n",
    "RNN_size   = 64\n",
    "\n",
    "model = Sequential()\n",
    "model.add(Embedding(num_words, embed_size, mask_zero=True))   \n",
    "model.add(Bidirectional(LSTM(RNN_size,return_sequences=True)))\n",
    "model.add(Bidirectional(LSTM(32)))\n",
    "model.add(Dense(64,activation='relu'))\n",
    "model.add(Dropout(0.5))\n",
    "model.add(Dense(1))\n",
    "\n",
    "\n",
    "# On spécifie la fonction de perte, l'optimiseur, et la fonction d'évaluation\n",
    "model.compile(loss=BinaryCrossentropy(from_logits=True),\n",
    "              optimizer=Adam(1e-4),\n",
    "              metrics=['accuracy'])"
   ]
  },
  {
   "cell_type": "code",
   "execution_count": 6,
   "metadata": {
    "colab": {
     "base_uri": "https://localhost:8080/"
    },
    "id": "VyQ8jHXU5XA3",
    "outputId": "d9d0307f-7603-47bc-cf74-5ab77cd31e0a"
   },
   "outputs": [
    {
     "name": "stdout",
     "output_type": "stream",
     "text": [
      "Epoch 1/10\n",
      "87/87 [==============================] - 33s 176ms/step - loss: 0.6917 - accuracy: 0.4457 - val_loss: 0.6907 - val_accuracy: 0.4587\n",
      "Epoch 2/10\n",
      "87/87 [==============================] - 9s 102ms/step - loss: 0.6864 - accuracy: 0.4457 - val_loss: 0.6838 - val_accuracy: 0.4587\n",
      "Epoch 3/10\n",
      "87/87 [==============================] - 10s 111ms/step - loss: 0.6351 - accuracy: 0.5972 - val_loss: 0.5872 - val_accuracy: 0.7580\n",
      "Epoch 4/10\n",
      "87/87 [==============================] - 10s 115ms/step - loss: 0.3985 - accuracy: 0.8312 - val_loss: 0.4031 - val_accuracy: 0.8286\n",
      "Epoch 5/10\n",
      "87/87 [==============================] - 10s 113ms/step - loss: 0.2291 - accuracy: 0.9196 - val_loss: 0.4116 - val_accuracy: 0.8404\n",
      "Epoch 6/10\n",
      "87/87 [==============================] - 13s 148ms/step - loss: 0.1581 - accuracy: 0.9495 - val_loss: 0.4400 - val_accuracy: 0.8444\n",
      "Epoch 7/10\n",
      "87/87 [==============================] - 12s 139ms/step - loss: 0.1151 - accuracy: 0.9668 - val_loss: 0.5340 - val_accuracy: 0.8316\n",
      "Epoch 8/10\n",
      "87/87 [==============================] - 10s 114ms/step - loss: 0.0946 - accuracy: 0.9708 - val_loss: 0.4701 - val_accuracy: 0.8498\n",
      "Epoch 9/10\n",
      "87/87 [==============================] - 9s 104ms/step - loss: 0.0720 - accuracy: 0.9823 - val_loss: 0.5757 - val_accuracy: 0.8444\n",
      "Epoch 10/10\n",
      "87/87 [==============================] - 10s 111ms/step - loss: 0.0599 - accuracy: 0.9838 - val_loss: 0.5573 - val_accuracy: 0.8454\n"
     ]
    }
   ],
   "source": [
    "history = model.fit(x_train,y_train, epochs=10,\n",
    "                    validation_data=(x_test,y_test),\n",
    "                    validation_steps=30)"
   ]
  },
  {
   "cell_type": "markdown",
   "metadata": {},
   "source": [
    "# Sauvegarde des résultats"
   ]
  },
  {
   "cell_type": "code",
   "execution_count": 13,
   "metadata": {},
   "outputs": [
    {
     "name": "stdout",
     "output_type": "stream",
     "text": [
      "Keras weights file (<HDF5 file \"variables.h5\" (mode r+)>) saving:\n",
      "...layers\\bidirectional\n",
      "......vars\n",
      "...layers\\bidirectional\\backward_layer\n",
      "......vars\n",
      "...layers\\bidirectional\\backward_layer\\cell\n",
      "......vars\n",
      ".........0\n",
      ".........1\n",
      ".........2\n",
      "...layers\\bidirectional\\forward_layer\n",
      "......vars\n",
      "...layers\\bidirectional\\forward_layer\\cell\n",
      "......vars\n",
      ".........0\n",
      ".........1\n",
      ".........2\n",
      "...layers\\bidirectional\\layer\n",
      "......vars\n",
      "...layers\\bidirectional\\layer\\cell\n",
      "......vars\n",
      "...layers\\bidirectional_1\n",
      "......vars\n",
      "...layers\\bidirectional_1\\backward_layer\n",
      "......vars\n",
      "...layers\\bidirectional_1\\backward_layer\\cell\n",
      "......vars\n",
      ".........0\n",
      ".........1\n",
      ".........2\n",
      "...layers\\bidirectional_1\\forward_layer\n",
      "......vars\n",
      "...layers\\bidirectional_1\\forward_layer\\cell\n",
      "......vars\n",
      ".........0\n",
      ".........1\n",
      ".........2\n",
      "...layers\\bidirectional_1\\layer\n",
      "......vars\n",
      "...layers\\bidirectional_1\\layer\\cell\n",
      "......vars\n",
      "...layers\\dense\n",
      "......vars\n",
      ".........0\n",
      ".........1\n",
      "...layers\\dense_1\n",
      "......vars\n",
      ".........0\n",
      ".........1\n",
      "...layers\\dropout\n",
      "......vars\n",
      "...layers\\embedding\n",
      "......vars\n",
      ".........0\n",
      "...metrics\\mean\n",
      "......vars\n",
      ".........0\n",
      ".........1\n",
      "...metrics\\mean_metric_wrapper\n",
      "......vars\n",
      ".........0\n",
      ".........1\n",
      "...optimizer\n",
      "......vars\n",
      ".........0\n",
      ".........1\n",
      ".........10\n",
      ".........11\n",
      ".........12\n",
      ".........13\n",
      ".........14\n",
      ".........15\n",
      ".........16\n",
      ".........17\n",
      ".........18\n",
      ".........19\n",
      ".........2\n",
      ".........20\n",
      ".........21\n",
      ".........22\n",
      ".........23\n",
      ".........24\n",
      ".........25\n",
      ".........26\n",
      ".........27\n",
      ".........28\n",
      ".........29\n",
      ".........3\n",
      ".........30\n",
      ".........31\n",
      ".........32\n",
      ".........33\n",
      ".........34\n",
      ".........4\n",
      ".........5\n",
      ".........6\n",
      ".........7\n",
      ".........8\n",
      ".........9\n",
      "...vars\n",
      "Keras model archive saving:\n",
      "File Name                                             Modified             Size\n",
      "config.json                                    2023-03-08 14:44:48         4521\n",
      "metadata.json                                  2023-03-08 14:44:48           64\n",
      "variables.h5                                   2023-03-08 14:44:49      5240288\n"
     ]
    },
    {
     "data": {
      "text/plain": [
       "['rnn_sentiment.joblib.z']"
      ]
     },
     "execution_count": 13,
     "metadata": {},
     "output_type": "execute_result"
    }
   ],
   "source": [
    "#save weights \n",
    "model_filename = \"rnn_sentiment.joblib.z\"\n",
    "joblib.dump((model), model_filename)"
   ]
  },
  {
   "cell_type": "code",
   "execution_count": null,
   "metadata": {},
   "outputs": [],
   "source": []
  }
 ],
 "metadata": {
  "colab": {
   "name": "RNN_sentiment_analysis_problem.ipynb",
   "provenance": []
  },
  "kernelspec": {
   "display_name": "Python 3 (ipykernel)",
   "language": "python",
   "name": "python3"
  },
  "language_info": {
   "codemirror_mode": {
    "name": "ipython",
    "version": 3
   },
   "file_extension": ".py",
   "mimetype": "text/x-python",
   "name": "python",
   "nbconvert_exporter": "python",
   "pygments_lexer": "ipython3",
   "version": "3.9.12"
  },
  "toc": {
   "base_numbering": 1,
   "nav_menu": {},
   "number_sections": true,
   "sideBar": true,
   "skip_h1_title": false,
   "title_cell": "Table of Contents",
   "title_sidebar": "Contents",
   "toc_cell": false,
   "toc_position": {
    "height": "calc(100% - 180px)",
    "left": "10px",
    "top": "150px",
    "width": "352px"
   },
   "toc_section_display": true,
   "toc_window_display": true
  },
  "varInspector": {
   "cols": {
    "lenName": 16,
    "lenType": 16,
    "lenVar": 40
   },
   "kernels_config": {
    "python": {
     "delete_cmd_postfix": "",
     "delete_cmd_prefix": "del ",
     "library": "var_list.py",
     "varRefreshCmd": "print(var_dic_list())"
    },
    "r": {
     "delete_cmd_postfix": ") ",
     "delete_cmd_prefix": "rm(",
     "library": "var_list.r",
     "varRefreshCmd": "cat(var_dic_list()) "
    }
   },
   "types_to_exclude": [
    "module",
    "function",
    "builtin_function_or_method",
    "instance",
    "_Feature"
   ],
   "window_display": false
  }
 },
 "nbformat": 4,
 "nbformat_minor": 1
}
