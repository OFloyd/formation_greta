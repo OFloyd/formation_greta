{
 "cells": [
  {
   "cell_type": "markdown",
   "id": "077810bf",
   "metadata": {},
   "source": [
    "# Import"
   ]
  },
  {
   "cell_type": "code",
   "execution_count": 1,
   "id": "149d5c47",
   "metadata": {},
   "outputs": [],
   "source": [
    "import pandas as pd\n",
    "import numpy as np\n",
    "import seaborn as sns\n",
    "import matplotlib.pyplot as plt\n",
    "import datetime\n",
    "import time\n",
    "# import re\n",
    "import random\n",
    "import pickle\n",
    "import datasets as dst\n",
    "\n",
    "import sklearn as skl\n",
    "from sklearn.metrics import accuracy_score\n",
    "from sklearn.ensemble import RandomForestClassifier\n",
    "from sklearn.ensemble import GradientBoostingClassifier, GradientBoostingRegressor\n",
    "from sklearn.model_selection import train_test_split\n",
    "from sklearn.metrics import classification_report, auc, roc_curve, confusion_matrix\n"
   ]
  },
  {
   "cell_type": "markdown",
   "id": "096600b6",
   "metadata": {},
   "source": [
    "# Chargement des données et prétraitement"
   ]
  },
  {
   "cell_type": "code",
   "execution_count": 2,
   "id": "22fdfcc0",
   "metadata": {},
   "outputs": [],
   "source": [
    "def preProcessDataframe(df: object) -> object:\n",
    "    dfret = df.dropna(subset = [\n",
    "        \"station_id\", \n",
    "        \"lat\", \n",
    "        \"lon\", \n",
    "        \"occupation_prct\", \n",
    "        \"occupation_class\"\n",
    "    ]).copy()\n",
    "    \n",
    "    dfret['jour'] = dfret[\"time\"].dt.day\n",
    "    dfret['heure'] = dfret[\"time\"].dt.hour\n",
    "    dfret['minute'] = dfret[\"time\"].dt.minute\n",
    "    \n",
    "    return dfret"
   ]
  },
  {
   "cell_type": "code",
   "execution_count": 3,
   "id": "681ffbb3",
   "metadata": {},
   "outputs": [],
   "source": [
    "\n",
    "\n",
    "df0 = dst.getDataset(\"2023_03_17\", path)\n",
    "df1 = dst.getDataset(\"2023_03_18\", path)\n",
    "df2 = dst.getDataset(\"2023_03_19\", path)\n",
    "df3 = dst.getDataset(\"2023_03_20\", path)\n",
    "df4 = dst.getDataset(\"2023_03_21\", path)\n",
    "df5 = dst.getDataset(\"2023_03_22\", path)\n",
    "\n",
    "#Je réduis systématiquement la résolution en temps par 10 sur ce classeur\n",
    "step=10\n",
    "df0=df0.iloc[0::step]\n",
    "df1=df1.iloc[0::step]\n",
    "df2=df2.iloc[0::step]\n",
    "df3=df3.iloc[0::step]\n",
    "df4=df4.iloc[0::step]\n",
    "df5=df5.iloc[0::step]\n",
    "\n",
    "\n",
    "df0=preProcessDataframe(df0)\n",
    "df1=preProcessDataframe(df1)\n",
    "df2=preProcessDataframe(df2)\n",
    "df3=preProcessDataframe(df3)\n",
    "df4=preProcessDataframe(df4)\n",
    "df5=preProcessDataframe(df5)"
   ]
  },
  {
   "cell_type": "code",
   "execution_count": 4,
   "id": "ca4cbf7e",
   "metadata": {},
   "outputs": [
    {
     "name": "stdout",
     "output_type": "stream",
     "text": [
      "22 22\n"
     ]
    }
   ],
   "source": [
    "#On vérifie que prendre une ligne sur 10 laisse un meme nombre de points par station\n",
    "df=df1\n",
    "station_list=list(set(df.station_id))\n",
    "Nst=len(station_list)\n",
    "Nt=len(set(df[df['station_id'] == station_list[0]].time))\n",
    "station_timeserie=np.ndarray([Nst,Nt])\n",
    "\n",
    "foo=[]\n",
    "for i in station_list : \n",
    "    foo.append(len(set(df[df['station_id'] == i]) ))\n",
    "print(np.min(foo) , np.max(foo) )"
   ]
  },
  {
   "cell_type": "code",
   "execution_count": null,
   "id": "42fbd73d",
   "metadata": {},
   "outputs": [],
   "source": []
  },
  {
   "cell_type": "code",
   "execution_count": 5,
   "id": "c6e34770",
   "metadata": {},
   "outputs": [],
   "source": [
    "## Ajout de valeurs d'occupation 6h plus tot :\n",
    "def add_old_values(df, df_old=None):\n",
    "    dec1=6*3 #on a une valeur toutes les 20 minutes, et on regarde 6 heures avant\n",
    "    dec2=6*3+24*3 #on a une valeur toutes les 20 minutes, et on regarde 6+24 heures avant\n",
    "    \n",
    "    if df_old is None:\n",
    "        df_main=df.copy()\n",
    "    else : \n",
    "        df_main=pd.concat([df_old, df])\n",
    "        \n",
    "    df_main[\"occupation_diff\"]=df_main[\"occupation_prct\"].shift(periods=dec1, axis=0)-df_main[\"occupation_prct\"].shift(periods=dec2, axis=0)\n",
    "\n",
    "   \n",
    "    df_main=df_main[df_main['jour'] == df['jour'].median()]\n",
    "    \n",
    "    \n",
    "    return df_main\n"
   ]
  },
  {
   "cell_type": "code",
   "execution_count": 7,
   "id": "1c1c49bd",
   "metadata": {},
   "outputs": [],
   "source": [
    "df5=add_old_values(df5, df4)\n",
    "df4=add_old_values(df4, df3)\n",
    "df3=add_old_values(df3, df2)\n",
    "df2=add_old_values(df2, df1)\n",
    "df1=add_old_values(df1, df0)\n",
    "df0=add_old_values(df0)\n",
    "# df0=df0.dropna(subset=['old_occupation_prct','old_occupation_class'])"
   ]
  },
  {
   "cell_type": "code",
   "execution_count": 90,
   "id": "55cd0dbc",
   "metadata": {},
   "outputs": [],
   "source": []
  },
  {
   "cell_type": "code",
   "execution_count": null,
   "id": "7986d1d2",
   "metadata": {},
   "outputs": [],
   "source": []
  },
  {
   "cell_type": "markdown",
   "id": "53d90ca2",
   "metadata": {},
   "source": [
    "## Entrainement et prédiction"
   ]
  },
  {
   "cell_type": "markdown",
   "id": "9686bcbb",
   "metadata": {},
   "source": [
    "### Une station à la fois"
   ]
  },
  {
   "cell_type": "code",
   "execution_count": 11,
   "id": "cf623b54",
   "metadata": {},
   "outputs": [],
   "source": [
    "df_tot=pd.concat([df0,df1])\n",
    "df_tot=pd.concat([df_tot,df2])\n",
    "df_tot=pd.concat([df_tot,df3])\n",
    "df_tot=pd.concat([df_tot,df4])\n",
    "df_tot=pd.concat([df_tot,df5])\n",
    "\n",
    "df_tot=df_tot.dropna(subset=[\"occupation_diff\"])\n",
    "\n",
    "df_train=df_tot[df_tot[\"jour\"] == 22]\n",
    "df_test=df_tot[df_tot[\"jour\"] == 21]\n"
   ]
  },
  {
   "cell_type": "code",
   "execution_count": 51,
   "id": "46c986f8",
   "metadata": {},
   "outputs": [],
   "source": [
    "def test_one_regr(df_train_in: object, df_test_in, feat_supp=[], station=None) -> None:\n",
    "    \n",
    "    if station is None :\n",
    "        station=random.sample(station_list,1)[0]\n",
    "    print(station)\n",
    "    \n",
    "    \n",
    "    df_train=df_train_in[df_train_in['station_id'] == station]\n",
    "    df_test=df_test_in[df_test_in['station_id'] == station]\n",
    "\n",
    "    feat1 = [\"station_id\", \"lon\", \"lat\", \"jour\", \"heure\", \"minute\"]\n",
    "    feat2 = feat1+[\"occupation_diff\",\"occupation_diff\"]\n",
    "    target = [\"occupation_prct\"]\n",
    "\n",
    "    x_train1=df_train[feat1]\n",
    "    x_train2=df_train[feat2]\n",
    "    y_train=df_train[target]\n",
    "\n",
    "    x_test1=df_test[feat1]\n",
    "    x_test2=df_test[feat2]\n",
    "    y_test=df_test[target]\n",
    "\n",
    "    clf1 = GradientBoostingRegressor(random_state=0)\n",
    "    clf1.fit(x_train1, y_train.values.ravel())\n",
    "\n",
    "    clf2 = GradientBoostingRegressor(random_state=0)\n",
    "    clf2.fit(x_train2, y_train.values.ravel())\n",
    "\n",
    "\n",
    "    y_pred1 = clf1.predict(x_test1)\n",
    "    y_pred2 = clf2.predict(x_test2)\n",
    "\n",
    "    x=df_test['time']\n",
    "    \n",
    "    print(x.shape, y_test.shape, y_pred1.shape)\n",
    "    \n",
    "    plt.figure(figsize=(16,6))\n",
    "    plt.plot(x, y_test.values.ravel(), color='black', label='True')\n",
    "    plt.plot(x, y_pred1, color='red', label='Pred. basic')\n",
    "    plt.plot(x, y_pred2, color='blue', label='Pred. basic+old values')\n",
    "    \n",
    "    plt.plot(x, y_train.values.ravel(), color='green', label='Veille')\n",
    "    \n",
    "    plt.legend()\n",
    "    plt.show()\n",
    "\n",
    "    \n",
    "    #create a dataframe with the variable importances of the model\n",
    "    df_importances = pd.DataFrame({\n",
    "        'feature': clf1.feature_names_in_,\n",
    "        'importance': clf1.feature_importances_\n",
    "    }).sort_values(by='importance', ascending=False)\n",
    "    \n",
    "#     print('feature', clf1.feature_names_in_,)\n",
    "#     print(clf1.coef_)\n",
    "    \n",
    "    #plot variable importances of the model\n",
    "    plt.title('Variable Importances : basic prediction', fontsize=16)\n",
    "    sns.barplot(x = df_importances.importance, y = df_importances.feature, orient='h')\n",
    "    plt.show()\n",
    "    \n",
    "    #create a dataframe with the variable importances of the model\n",
    "    df_importances = pd.DataFrame({\n",
    "        'feature': clf2.feature_names_in_,\n",
    "        'importance': clf2.feature_importances_\n",
    "    }).sort_values(by='importance', ascending=False)\n",
    "    \n",
    "    #plot variable importances of the model\n",
    "    plt.title('Variable Importances ; basic + old values', fontsize=16)\n",
    "    sns.barplot(x = df_importances.importance, y = df_importances.feature, orient='h')\n",
    "    plt.show()\n",
    "    \n",
    "    \n",
    "#     print(dir(clf1))\n",
    "# test_one(df_train, df_test)"
   ]
  },
  {
   "cell_type": "code",
   "execution_count": 53,
   "id": "422f1abb",
   "metadata": {},
   "outputs": [
    {
     "name": "stdout",
     "output_type": "stream",
     "text": [
      "597245295\n",
      "(71,) (71, 1) (71,)\n"
     ]
    },
    {
     "data": {
      "image/png": "[encoded data removed]",
      "text/plain": [
       "<Figure size 1152x432 with 1 Axes>"
      ]
     },
     "metadata": {
      "needs_background": "light"
     },
     "output_type": "display_data"
    },
    {
     "data": {
      "image/png": "[encoded data removed]",
      "text/plain": [
       "<Figure size 432x288 with 1 Axes>"
      ]
     },
     "metadata": {
      "needs_background": "light"
     },
     "output_type": "display_data"
    },
    {
     "data": {
      "image/png": "[encoded data removed]",
      "text/plain": [
       "<Figure size 432x288 with 1 Axes>"
      ]
     },
     "metadata": {
      "needs_background": "light"
     },
     "output_type": "display_data"
    }
   ],
   "source": [
    "# 129021753\n",
    "# 129083553\n",
    "test_one_regr(df_train, df_test)"
   ]
  },
  {
   "cell_type": "code",
   "execution_count": null,
   "id": "b6a52c4d",
   "metadata": {},
   "outputs": [],
   "source": []
  },
  {
   "cell_type": "code",
   "execution_count": null,
   "id": "0f37e741",
   "metadata": {},
   "outputs": [],
   "source": []
  },
  {
   "cell_type": "code",
   "execution_count": 39,
   "id": "b9703e8b",
   "metadata": {},
   "outputs": [
    {
     "data": {
      "text/plain": [
       "GradientBoostingRegressor(random_state=0)"
      ]
     },
     "execution_count": 39,
     "metadata": {},
     "output_type": "execute_result"
    }
   ],
   "source": [
    "    feat1 = [\"station_id\", \"lon\", \"lat\", \"jour\", \"heure\", \"minute\"]\n",
    "    feat2 = feat1+[\"occupation_diff\"]\n",
    "    target = [\"occupation_prct\"]\n",
    "\n",
    "    x_train1=df_train[feat1]\n",
    "    x_train2=df_train[feat2]\n",
    "    y_train=df_train[target]\n",
    "\n",
    "    x_test1=df_test[feat1]\n",
    "    x_test2=df_test[feat2]\n",
    "    y_test=df_test[target]\n",
    "\n",
    "    clf1 = GradientBoostingRegressor(random_state=0)\n",
    "    clf1.fit(x_train1, y_train.values.ravel())\n"
   ]
  },
  {
   "cell_type": "code",
   "execution_count": 45,
   "id": "998b025e",
   "metadata": {},
   "outputs": [
    {
     "data": {
      "text/plain": [
       "array([[DecisionTreeRegressor(criterion='friedman_mse', max_depth=3,\n",
       "                              random_state=RandomState(MT19937) at 0x1DF987D1A40)],\n",
       "       [DecisionTreeRegressor(criterion='friedman_mse', max_depth=3,\n",
       "                              random_state=RandomState(MT19937) at 0x1DF987D1A40)],\n",
       "       [DecisionTreeRegressor(criterion='friedman_mse', max_depth=3,\n",
       "                              random_state=RandomState(MT19937) at 0x1DF987D1A40)],\n",
       "       [DecisionTreeRegressor(criterion='friedman_mse', max_depth=3,\n",
       "                              random_state=RandomState(MT19937) at 0x1DF987D1A40)],\n",
       "       [DecisionTreeRegressor(criterion='friedman_mse', max_depth=3,\n",
       "                              random_state=RandomState(MT19937) at 0x1DF987D1A40)],\n",
       "       [DecisionTreeRegressor(criterion='friedman_mse', max_depth=3,\n",
       "                              random_state=RandomState(MT19937) at 0x1DF987D1A40)],\n",
       "       [DecisionTreeRegressor(criterion='friedman_mse', max_depth=3,\n",
       "                              random_state=RandomState(MT19937) at 0x1DF987D1A40)],\n",
       "       [DecisionTreeRegressor(criterion='friedman_mse', max_depth=3,\n",
       "                              random_state=RandomState(MT19937) at 0x1DF987D1A40)],\n",
       "       [DecisionTreeRegressor(criterion='friedman_mse', max_depth=3,\n",
       "                              random_state=RandomState(MT19937) at 0x1DF987D1A40)],\n",
       "       [DecisionTreeRegressor(criterion='friedman_mse', max_depth=3,\n",
       "                              random_state=RandomState(MT19937) at 0x1DF987D1A40)],\n",
       "       [DecisionTreeRegressor(criterion='friedman_mse', max_depth=3,\n",
       "                              random_state=RandomState(MT19937) at 0x1DF987D1A40)],\n",
       "       [DecisionTreeRegressor(criterion='friedman_mse', max_depth=3,\n",
       "                              random_state=RandomState(MT19937) at 0x1DF987D1A40)],\n",
       "       [DecisionTreeRegressor(criterion='friedman_mse', max_depth=3,\n",
       "                              random_state=RandomState(MT19937) at 0x1DF987D1A40)],\n",
       "       [DecisionTreeRegressor(criterion='friedman_mse', max_depth=3,\n",
       "                              random_state=RandomState(MT19937) at 0x1DF987D1A40)],\n",
       "       [DecisionTreeRegressor(criterion='friedman_mse', max_depth=3,\n",
       "                              random_state=RandomState(MT19937) at 0x1DF987D1A40)],\n",
       "       [DecisionTreeRegressor(criterion='friedman_mse', max_depth=3,\n",
       "                              random_state=RandomState(MT19937) at 0x1DF987D1A40)],\n",
       "       [DecisionTreeRegressor(criterion='friedman_mse', max_depth=3,\n",
       "                              random_state=RandomState(MT19937) at 0x1DF987D1A40)],\n",
       "       [DecisionTreeRegressor(criterion='friedman_mse', max_depth=3,\n",
       "                              random_state=RandomState(MT19937) at 0x1DF987D1A40)],\n",
       "       [DecisionTreeRegressor(criterion='friedman_mse', max_depth=3,\n",
       "                              random_state=RandomState(MT19937) at 0x1DF987D1A40)],\n",
       "       [DecisionTreeRegressor(criterion='friedman_mse', max_depth=3,\n",
       "                              random_state=RandomState(MT19937) at 0x1DF987D1A40)],\n",
       "       [DecisionTreeRegressor(criterion='friedman_mse', max_depth=3,\n",
       "                              random_state=RandomState(MT19937) at 0x1DF987D1A40)],\n",
       "       [DecisionTreeRegressor(criterion='friedman_mse', max_depth=3,\n",
       "                              random_state=RandomState(MT19937) at 0x1DF987D1A40)],\n",
       "       [DecisionTreeRegressor(criterion='friedman_mse', max_depth=3,\n",
       "                              random_state=RandomState(MT19937) at 0x1DF987D1A40)],\n",
       "       [DecisionTreeRegressor(criterion='friedman_mse', max_depth=3,\n",
       "                              random_state=RandomState(MT19937) at 0x1DF987D1A40)],\n",
       "       [DecisionTreeRegressor(criterion='friedman_mse', max_depth=3,\n",
       "                              random_state=RandomState(MT19937) at 0x1DF987D1A40)],\n",
       "       [DecisionTreeRegressor(criterion='friedman_mse', max_depth=3,\n",
       "                              random_state=RandomState(MT19937) at 0x1DF987D1A40)],\n",
       "       [DecisionTreeRegressor(criterion='friedman_mse', max_depth=3,\n",
       "                              random_state=RandomState(MT19937) at 0x1DF987D1A40)],\n",
       "       [DecisionTreeRegressor(criterion='friedman_mse', max_depth=3,\n",
       "                              random_state=RandomState(MT19937) at 0x1DF987D1A40)],\n",
       "       [DecisionTreeRegressor(criterion='friedman_mse', max_depth=3,\n",
       "                              random_state=RandomState(MT19937) at 0x1DF987D1A40)],\n",
       "       [DecisionTreeRegressor(criterion='friedman_mse', max_depth=3,\n",
       "                              random_state=RandomState(MT19937) at 0x1DF987D1A40)],\n",
       "       [DecisionTreeRegressor(criterion='friedman_mse', max_depth=3,\n",
       "                              random_state=RandomState(MT19937) at 0x1DF987D1A40)],\n",
       "       [DecisionTreeRegressor(criterion='friedman_mse', max_depth=3,\n",
       "                              random_state=RandomState(MT19937) at 0x1DF987D1A40)],\n",
       "       [DecisionTreeRegressor(criterion='friedman_mse', max_depth=3,\n",
       "                              random_state=RandomState(MT19937) at 0x1DF987D1A40)],\n",
       "       [DecisionTreeRegressor(criterion='friedman_mse', max_depth=3,\n",
       "                              random_state=RandomState(MT19937) at 0x1DF987D1A40)],\n",
       "       [DecisionTreeRegressor(criterion='friedman_mse', max_depth=3,\n",
       "                              random_state=RandomState(MT19937) at 0x1DF987D1A40)],\n",
       "       [DecisionTreeRegressor(criterion='friedman_mse', max_depth=3,\n",
       "                              random_state=RandomState(MT19937) at 0x1DF987D1A40)],\n",
       "       [DecisionTreeRegressor(criterion='friedman_mse', max_depth=3,\n",
       "                              random_state=RandomState(MT19937) at 0x1DF987D1A40)],\n",
       "       [DecisionTreeRegressor(criterion='friedman_mse', max_depth=3,\n",
       "                              random_state=RandomState(MT19937) at 0x1DF987D1A40)],\n",
       "       [DecisionTreeRegressor(criterion='friedman_mse', max_depth=3,\n",
       "                              random_state=RandomState(MT19937) at 0x1DF987D1A40)],\n",
       "       [DecisionTreeRegressor(criterion='friedman_mse', max_depth=3,\n",
       "                              random_state=RandomState(MT19937) at 0x1DF987D1A40)],\n",
       "       [DecisionTreeRegressor(criterion='friedman_mse', max_depth=3,\n",
       "                              random_state=RandomState(MT19937) at 0x1DF987D1A40)],\n",
       "       [DecisionTreeRegressor(criterion='friedman_mse', max_depth=3,\n",
       "                              random_state=RandomState(MT19937) at 0x1DF987D1A40)],\n",
       "       [DecisionTreeRegressor(criterion='friedman_mse', max_depth=3,\n",
       "                              random_state=RandomState(MT19937) at 0x1DF987D1A40)],\n",
       "       [DecisionTreeRegressor(criterion='friedman_mse', max_depth=3,\n",
       "                              random_state=RandomState(MT19937) at 0x1DF987D1A40)],\n",
       "       [DecisionTreeRegressor(criterion='friedman_mse', max_depth=3,\n",
       "                              random_state=RandomState(MT19937) at 0x1DF987D1A40)],\n",
       "       [DecisionTreeRegressor(criterion='friedman_mse', max_depth=3,\n",
       "                              random_state=RandomState(MT19937) at 0x1DF987D1A40)],\n",
       "       [DecisionTreeRegressor(criterion='friedman_mse', max_depth=3,\n",
       "                              random_state=RandomState(MT19937) at 0x1DF987D1A40)],\n",
       "       [DecisionTreeRegressor(criterion='friedman_mse', max_depth=3,\n",
       "                              random_state=RandomState(MT19937) at 0x1DF987D1A40)],\n",
       "       [DecisionTreeRegressor(criterion='friedman_mse', max_depth=3,\n",
       "                              random_state=RandomState(MT19937) at 0x1DF987D1A40)],\n",
       "       [DecisionTreeRegressor(criterion='friedman_mse', max_depth=3,\n",
       "                              random_state=RandomState(MT19937) at 0x1DF987D1A40)],\n",
       "       [DecisionTreeRegressor(criterion='friedman_mse', max_depth=3,\n",
       "                              random_state=RandomState(MT19937) at 0x1DF987D1A40)],\n",
       "       [DecisionTreeRegressor(criterion='friedman_mse', max_depth=3,\n",
       "                              random_state=RandomState(MT19937) at 0x1DF987D1A40)],\n",
       "       [DecisionTreeRegressor(criterion='friedman_mse', max_depth=3,\n",
       "                              random_state=RandomState(MT19937) at 0x1DF987D1A40)],\n",
       "       [DecisionTreeRegressor(criterion='friedman_mse', max_depth=3,\n",
       "                              random_state=RandomState(MT19937) at 0x1DF987D1A40)],\n",
       "       [DecisionTreeRegressor(criterion='friedman_mse', max_depth=3,\n",
       "                              random_state=RandomState(MT19937) at 0x1DF987D1A40)],\n",
       "       [DecisionTreeRegressor(criterion='friedman_mse', max_depth=3,\n",
       "                              random_state=RandomState(MT19937) at 0x1DF987D1A40)],\n",
       "       [DecisionTreeRegressor(criterion='friedman_mse', max_depth=3,\n",
       "                              random_state=RandomState(MT19937) at 0x1DF987D1A40)],\n",
       "       [DecisionTreeRegressor(criterion='friedman_mse', max_depth=3,\n",
       "                              random_state=RandomState(MT19937) at 0x1DF987D1A40)],\n",
       "       [DecisionTreeRegressor(criterion='friedman_mse', max_depth=3,\n",
       "                              random_state=RandomState(MT19937) at 0x1DF987D1A40)],\n",
       "       [DecisionTreeRegressor(criterion='friedman_mse', max_depth=3,\n",
       "                              random_state=RandomState(MT19937) at 0x1DF987D1A40)],\n",
       "       [DecisionTreeRegressor(criterion='friedman_mse', max_depth=3,\n",
       "                              random_state=RandomState(MT19937) at 0x1DF987D1A40)],\n",
       "       [DecisionTreeRegressor(criterion='friedman_mse', max_depth=3,\n",
       "                              random_state=RandomState(MT19937) at 0x1DF987D1A40)],\n",
       "       [DecisionTreeRegressor(criterion='friedman_mse', max_depth=3,\n",
       "                              random_state=RandomState(MT19937) at 0x1DF987D1A40)],\n",
       "       [DecisionTreeRegressor(criterion='friedman_mse', max_depth=3,\n",
       "                              random_state=RandomState(MT19937) at 0x1DF987D1A40)],\n",
       "       [DecisionTreeRegressor(criterion='friedman_mse', max_depth=3,\n",
       "                              random_state=RandomState(MT19937) at 0x1DF987D1A40)],\n",
       "       [DecisionTreeRegressor(criterion='friedman_mse', max_depth=3,\n",
       "                              random_state=RandomState(MT19937) at 0x1DF987D1A40)],\n",
       "       [DecisionTreeRegressor(criterion='friedman_mse', max_depth=3,\n",
       "                              random_state=RandomState(MT19937) at 0x1DF987D1A40)],\n",
       "       [DecisionTreeRegressor(criterion='friedman_mse', max_depth=3,\n",
       "                              random_state=RandomState(MT19937) at 0x1DF987D1A40)],\n",
       "       [DecisionTreeRegressor(criterion='friedman_mse', max_depth=3,\n",
       "                              random_state=RandomState(MT19937) at 0x1DF987D1A40)],\n",
       "       [DecisionTreeRegressor(criterion='friedman_mse', max_depth=3,\n",
       "                              random_state=RandomState(MT19937) at 0x1DF987D1A40)],\n",
       "       [DecisionTreeRegressor(criterion='friedman_mse', max_depth=3,\n",
       "                              random_state=RandomState(MT19937) at 0x1DF987D1A40)],\n",
       "       [DecisionTreeRegressor(criterion='friedman_mse', max_depth=3,\n",
       "                              random_state=RandomState(MT19937) at 0x1DF987D1A40)],\n",
       "       [DecisionTreeRegressor(criterion='friedman_mse', max_depth=3,\n",
       "                              random_state=RandomState(MT19937) at 0x1DF987D1A40)],\n",
       "       [DecisionTreeRegressor(criterion='friedman_mse', max_depth=3,\n",
       "                              random_state=RandomState(MT19937) at 0x1DF987D1A40)],\n",
       "       [DecisionTreeRegressor(criterion='friedman_mse', max_depth=3,\n",
       "                              random_state=RandomState(MT19937) at 0x1DF987D1A40)],\n",
       "       [DecisionTreeRegressor(criterion='friedman_mse', max_depth=3,\n",
       "                              random_state=RandomState(MT19937) at 0x1DF987D1A40)],\n",
       "       [DecisionTreeRegressor(criterion='friedman_mse', max_depth=3,\n",
       "                              random_state=RandomState(MT19937) at 0x1DF987D1A40)],\n",
       "       [DecisionTreeRegressor(criterion='friedman_mse', max_depth=3,\n",
       "                              random_state=RandomState(MT19937) at 0x1DF987D1A40)],\n",
       "       [DecisionTreeRegressor(criterion='friedman_mse', max_depth=3,\n",
       "                              random_state=RandomState(MT19937) at 0x1DF987D1A40)],\n",
       "       [DecisionTreeRegressor(criterion='friedman_mse', max_depth=3,\n",
       "                              random_state=RandomState(MT19937) at 0x1DF987D1A40)],\n",
       "       [DecisionTreeRegressor(criterion='friedman_mse', max_depth=3,\n",
       "                              random_state=RandomState(MT19937) at 0x1DF987D1A40)],\n",
       "       [DecisionTreeRegressor(criterion='friedman_mse', max_depth=3,\n",
       "                              random_state=RandomState(MT19937) at 0x1DF987D1A40)],\n",
       "       [DecisionTreeRegressor(criterion='friedman_mse', max_depth=3,\n",
       "                              random_state=RandomState(MT19937) at 0x1DF987D1A40)],\n",
       "       [DecisionTreeRegressor(criterion='friedman_mse', max_depth=3,\n",
       "                              random_state=RandomState(MT19937) at 0x1DF987D1A40)],\n",
       "       [DecisionTreeRegressor(criterion='friedman_mse', max_depth=3,\n",
       "                              random_state=RandomState(MT19937) at 0x1DF987D1A40)],\n",
       "       [DecisionTreeRegressor(criterion='friedman_mse', max_depth=3,\n",
       "                              random_state=RandomState(MT19937) at 0x1DF987D1A40)],\n",
       "       [DecisionTreeRegressor(criterion='friedman_mse', max_depth=3,\n",
       "                              random_state=RandomState(MT19937) at 0x1DF987D1A40)],\n",
       "       [DecisionTreeRegressor(criterion='friedman_mse', max_depth=3,\n",
       "                              random_state=RandomState(MT19937) at 0x1DF987D1A40)],\n",
       "       [DecisionTreeRegressor(criterion='friedman_mse', max_depth=3,\n",
       "                              random_state=RandomState(MT19937) at 0x1DF987D1A40)],\n",
       "       [DecisionTreeRegressor(criterion='friedman_mse', max_depth=3,\n",
       "                              random_state=RandomState(MT19937) at 0x1DF987D1A40)],\n",
       "       [DecisionTreeRegressor(criterion='friedman_mse', max_depth=3,\n",
       "                              random_state=RandomState(MT19937) at 0x1DF987D1A40)],\n",
       "       [DecisionTreeRegressor(criterion='friedman_mse', max_depth=3,\n",
       "                              random_state=RandomState(MT19937) at 0x1DF987D1A40)],\n",
       "       [DecisionTreeRegressor(criterion='friedman_mse', max_depth=3,\n",
       "                              random_state=RandomState(MT19937) at 0x1DF987D1A40)],\n",
       "       [DecisionTreeRegressor(criterion='friedman_mse', max_depth=3,\n",
       "                              random_state=RandomState(MT19937) at 0x1DF987D1A40)],\n",
       "       [DecisionTreeRegressor(criterion='friedman_mse', max_depth=3,\n",
       "                              random_state=RandomState(MT19937) at 0x1DF987D1A40)],\n",
       "       [DecisionTreeRegressor(criterion='friedman_mse', max_depth=3,\n",
       "                              random_state=RandomState(MT19937) at 0x1DF987D1A40)],\n",
       "       [DecisionTreeRegressor(criterion='friedman_mse', max_depth=3,\n",
       "                              random_state=RandomState(MT19937) at 0x1DF987D1A40)],\n",
       "       [DecisionTreeRegressor(criterion='friedman_mse', max_depth=3,\n",
       "                              random_state=RandomState(MT19937) at 0x1DF987D1A40)],\n",
       "       [DecisionTreeRegressor(criterion='friedman_mse', max_depth=3,\n",
       "                              random_state=RandomState(MT19937) at 0x1DF987D1A40)],\n",
       "       [DecisionTreeRegressor(criterion='friedman_mse', max_depth=3,\n",
       "                              random_state=RandomState(MT19937) at 0x1DF987D1A40)]],\n",
       "      dtype=object)"
      ]
     },
     "execution_count": 45,
     "metadata": {},
     "output_type": "execute_result"
    }
   ],
   "source": [
    "clf1.estimators_"
   ]
  },
  {
   "cell_type": "code",
   "execution_count": 42,
   "id": "e930cf27",
   "metadata": {},
   "outputs": [
    {
     "data": {
      "text/plain": [
       "['_SUPPORTED_LOSS',\n",
       " '__abstractmethods__',\n",
       " '__annotations__',\n",
       " '__class__',\n",
       " '__delattr__',\n",
       " '__dict__',\n",
       " '__dir__',\n",
       " '__doc__',\n",
       " '__eq__',\n",
       " '__format__',\n",
       " '__ge__',\n",
       " '__getattribute__',\n",
       " '__getitem__',\n",
       " '__getstate__',\n",
       " '__gt__',\n",
       " '__hash__',\n",
       " '__init__',\n",
       " '__init_subclass__',\n",
       " '__iter__',\n",
       " '__le__',\n",
       " '__len__',\n",
       " '__lt__',\n",
       " '__module__',\n",
       " '__ne__',\n",
       " '__new__',\n",
       " '__reduce__',\n",
       " '__reduce_ex__',\n",
       " '__repr__',\n",
       " '__setattr__',\n",
       " '__setstate__',\n",
       " '__sizeof__',\n",
       " '__str__',\n",
       " '__subclasshook__',\n",
       " '__weakref__',\n",
       " '_abc_impl',\n",
       " '_check_feature_names',\n",
       " '_check_initialized',\n",
       " '_check_n_features',\n",
       " '_check_params',\n",
       " '_clear_state',\n",
       " '_compute_partial_dependence_recursion',\n",
       " '_estimator_type',\n",
       " '_fit_stage',\n",
       " '_fit_stages',\n",
       " '_get_param_names',\n",
       " '_get_tags',\n",
       " '_init_state',\n",
       " '_is_initialized',\n",
       " '_make_estimator',\n",
       " '_more_tags',\n",
       " '_raw_predict',\n",
       " '_raw_predict_init',\n",
       " '_repr_html_',\n",
       " '_repr_html_inner',\n",
       " '_repr_mimebundle_',\n",
       " '_required_parameters',\n",
       " '_resize_state',\n",
       " '_rng',\n",
       " '_staged_raw_predict',\n",
       " '_validate_data',\n",
       " '_validate_estimator',\n",
       " '_validate_y',\n",
       " '_warn_mae_for_criterion',\n",
       " 'alpha',\n",
       " 'apply',\n",
       " 'ccp_alpha',\n",
       " 'criterion',\n",
       " 'estimators_',\n",
       " 'feature_importances_',\n",
       " 'feature_names_in_',\n",
       " 'fit',\n",
       " 'get_params',\n",
       " 'init',\n",
       " 'init_',\n",
       " 'learning_rate',\n",
       " 'loss',\n",
       " 'loss_',\n",
       " 'max_depth',\n",
       " 'max_features',\n",
       " 'max_features_',\n",
       " 'max_leaf_nodes',\n",
       " 'min_impurity_decrease',\n",
       " 'min_samples_leaf',\n",
       " 'min_samples_split',\n",
       " 'min_weight_fraction_leaf',\n",
       " 'n_classes_',\n",
       " 'n_estimators',\n",
       " 'n_estimators_',\n",
       " 'n_features_',\n",
       " 'n_features_in_',\n",
       " 'n_iter_no_change',\n",
       " 'predict',\n",
       " 'random_state',\n",
       " 'score',\n",
       " 'set_params',\n",
       " 'staged_predict',\n",
       " 'subsample',\n",
       " 'tol',\n",
       " 'train_score_',\n",
       " 'validation_fraction',\n",
       " 'verbose',\n",
       " 'warm_start']"
      ]
     },
     "execution_count": 42,
     "metadata": {},
     "output_type": "execute_result"
    }
   ],
   "source": [
    "dir(clf1)\n"
   ]
  },
  {
   "cell_type": "code",
   "execution_count": null,
   "id": "738bd608",
   "metadata": {},
   "outputs": [],
   "source": []
  },
  {
   "cell_type": "code",
   "execution_count": 91,
   "id": "1f9c756b",
   "metadata": {},
   "outputs": [],
   "source": [
    "feat1 = [\"station_id\", \"lon\", \"lat\", \"jour\", \"heure\", \"minute\"]\n",
    "feat2 = feat1+[\"occupation_diff\"]\n",
    "target = [\"occupation_class\"]\n",
    "\n",
    "x_train1=df_train[feat1]\n",
    "x_train2=df_train[feat2]\n",
    "y_train=df_train[target]\n",
    "\n",
    "x_test1=df_test[feat1]\n",
    "x_test2=df_test[feat2]\n",
    "y_test=df_test[target]"
   ]
  },
  {
   "cell_type": "code",
   "execution_count": 93,
   "id": "29e22bbf",
   "metadata": {},
   "outputs": [
    {
     "data": {
      "text/plain": [
       "GradientBoostingClassifier(learning_rate=1.0, max_depth=1, random_state=0)"
      ]
     },
     "execution_count": 93,
     "metadata": {},
     "output_type": "execute_result"
    }
   ],
   "source": [
    "clf1 = GradientBoostingClassifier(n_estimators=100, learning_rate=1.0, max_depth=1, random_state=0)\n",
    "clf1.fit(x_train1, y_train.values.ravel())\n",
    "\n",
    "clf2 = GradientBoostingClassifier(n_estimators=100, learning_rate=1.0, max_depth=1, random_state=0)\n",
    "clf2.fit(x_train2, y_train.values.ravel())\n"
   ]
  },
  {
   "cell_type": "code",
   "execution_count": 94,
   "id": "966c845a",
   "metadata": {},
   "outputs": [],
   "source": [
    "y_pred1 = clf1.predict(x_test1)\n",
    "y_pred2 = clf2.predict(x_test2)\n"
   ]
  },
  {
   "cell_type": "code",
   "execution_count": 95,
   "id": "bf27e581",
   "metadata": {},
   "outputs": [
    {
     "data": {
      "text/plain": [
       "0.4228224809092872"
      ]
     },
     "execution_count": 95,
     "metadata": {},
     "output_type": "execute_result"
    }
   ],
   "source": [
    "accuracy_score(y_test, y_pred1)"
   ]
  },
  {
   "cell_type": "code",
   "execution_count": 96,
   "id": "fa636fee",
   "metadata": {},
   "outputs": [
    {
     "data": {
      "text/plain": [
       "0.4221943032135215"
      ]
     },
     "execution_count": 96,
     "metadata": {},
     "output_type": "execute_result"
    }
   ],
   "source": [
    "accuracy_score(y_test, y_pred2)"
   ]
  },
  {
   "cell_type": "code",
   "execution_count": 220,
   "id": "049094f2",
   "metadata": {},
   "outputs": [],
   "source": [
    "def test_one_class(df_train_in: object, df_test_in, feat_supp=[]) -> None:\n",
    "    \n",
    "    station=random.sample(station_list,1)[0]\n",
    "    print(station)\n",
    "    \n",
    "    \n",
    "    df_train=df_train_in[df_train_in['station_id'] == station]\n",
    "    df_test=df_test_in[df_test_in['station_id'] == station]\n",
    "\n",
    "    feat1 = [\"station_id\", \"lon\", \"lat\", \"jour\", \"heure\", \"minute\"]\n",
    "    feat2 = feat1+[\"occupation_diff\"]\n",
    "    target = [\"occupation_class\"]\n",
    "\n",
    "    x_train1=df_train[feat1]\n",
    "    x_train2=df_train[feat2]\n",
    "    y_train=df_train[target]\n",
    "\n",
    "    x_test1=df_test[feat1]\n",
    "    x_test2=df_test[feat2]\n",
    "    y_test=df_test[target]\n",
    "\n",
    "    clf1 = GradientBoostingClassifier(n_estimators=100, learning_rate=1.0, max_depth=1, random_state=0)\n",
    "    clf1.fit(x_train1, y_train.values.ravel())\n",
    "\n",
    "    clf2 = GradientBoostingClassifier(n_estimators=100, learning_rate=1.0, max_depth=1, random_state=0)\n",
    "    clf2.fit(x_train2, y_train.values.ravel())\n",
    "\n",
    "\n",
    "    y_pred1 = clf1.predict(x_test1)\n",
    "    y_pred2 = clf2.predict(x_test2)\n",
    "\n",
    "\n",
    "#     print(feat)\n",
    "#     print(clf.feature_importances_)\n",
    "\n",
    "#     cm1 = confusion_matrix(y_test, y_pred1)\n",
    "    \n",
    "    \n",
    "#     cm2 = confusion_matrix(y_test, y_pred2)\n",
    "\n",
    "#     sns.heatmap(cm1, annot=True, cmap=\"Blues\", fmt=\"g\")\n",
    "#     sns.heatmap(cm2, annot=True, cmap=\"Blues\", fmt=\"g\")    \n",
    "    \n",
    "#     plt.xlabel('Prédictions')\n",
    "#     plt.ylabel('Valeurs réelles')\n",
    "#     plt.show()\n",
    "    \n",
    "#     print(classification_report(y_test,y_pred1))\n",
    "#     print(classification_report(y_test,y_pred2))\n",
    "\n",
    "\n",
    "#     print(len(y_test),len(y_pred1),len(y_pred2))\n",
    "#     print(type(y_test),len(y_pred1),len(y_pred2))\n",
    "\n",
    "    plt.plot(y_test.values.ravel(), color='black', label='True')\n",
    "    plt.plot(y_pred1, color='red', label='Pred. basic')\n",
    "    plt.plot(y_pred2, color='blue', label='Pred. basic+old values')\n",
    "    plt.legend()\n",
    "    plt.show()\n",
    "\n",
    "#     print(y_test.values.ravel())\n",
    "#     print('\\n')\n",
    "#     print(y_pred1)\n",
    "#     print('\\n')\n",
    "#     print(y_pred2)\n",
    "\n",
    "# test_one(df_train, df_test)"
   ]
  },
  {
   "cell_type": "code",
   "execution_count": 221,
   "id": "a7f0c218",
   "metadata": {},
   "outputs": [
    {
     "name": "stdout",
     "output_type": "stream",
     "text": [
      "82445192\n"
     ]
    },
    {
     "data": {
      "image/png": "[encoded data removed]",
      "text/plain": [
       "<Figure size 432x288 with 1 Axes>"
      ]
     },
     "metadata": {
      "needs_background": "light"
     },
     "output_type": "display_data"
    }
   ],
   "source": [
    "test_one_class(df_train, df_test)"
   ]
  },
  {
   "cell_type": "code",
   "execution_count": null,
   "id": "67ba98ed",
   "metadata": {},
   "outputs": [],
   "source": []
  },
  {
   "cell_type": "code",
   "execution_count": null,
   "id": "61cd4174",
   "metadata": {},
   "outputs": [],
   "source": []
  }
 ],
 "metadata": {
  "kernelspec": {
   "display_name": "Python 3 (ipykernel)",
   "language": "python",
   "name": "python3"
  },
  "language_info": {
   "codemirror_mode": {
    "name": "ipython",
    "version": 3
   },
   "file_extension": ".py",
   "mimetype": "text/x-python",
   "name": "python",
   "nbconvert_exporter": "python",
   "pygments_lexer": "ipython3",
   "version": "3.9.12"
  },
  "toc": {
   "base_numbering": 1,
   "nav_menu": {},
   "number_sections": true,
   "sideBar": true,
   "skip_h1_title": false,
   "title_cell": "Table of Contents",
   "title_sidebar": "Contents",
   "toc_cell": false,
   "toc_position": {
    "height": "788px",
    "left": "45px",
    "top": "318px",
    "width": "369.2px"
   },
   "toc_section_display": true,
   "toc_window_display": true
  },
  "varInspector": {
   "cols": {
    "lenName": 16,
    "lenType": 16,
    "lenVar": 40
   },
   "kernels_config": {
    "python": {
     "delete_cmd_postfix": "",
     "delete_cmd_prefix": "del ",
     "library": "var_list.py",
     "varRefreshCmd": "print(var_dic_list())"
    },
    "r": {
     "delete_cmd_postfix": ") ",
     "delete_cmd_prefix": "rm(",
     "library": "var_list.r",
     "varRefreshCmd": "cat(var_dic_list()) "
    }
   },
   "types_to_exclude": [
    "module",
    "function",
    "builtin_function_or_method",
    "instance",
    "_Feature"
   ],
   "window_display": false
  }
 },
 "nbformat": 4,
 "nbformat_minor": 5
}
