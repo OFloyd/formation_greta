{
 "cells": [
  {
   "cell_type": "markdown",
   "metadata": {
    "id": "YZDz7ci7yHVt"
   },
   "source": [
    "## Import libraries"
   ]
  },
  {
   "cell_type": "code",
   "execution_count": 4,
   "metadata": {
    "id": "wXOJK9JEoKj8"
   },
   "outputs": [],
   "source": [
    "import random\n",
    "\n",
    "import numpy as np\n",
    "import pickle, gzip\n",
    "import seaborn as sns\n",
    "np.random.seed(123) # for reproducibility\n",
    "\n",
    "import tensorflow as tf \n",
    "from tensorflow.keras.preprocessing.image import ImageDataGenerator \n",
    "from tensorflow.keras import layers \n",
    "from tensorflow.keras import Model \n",
    "import matplotlib.pyplot as plt\n",
    "\n",
    "from sklearn.metrics import classification_report,confusion_matrix"
   ]
  },
  {
   "cell_type": "markdown",
   "metadata": {
    "id": "tGnJHN4KHfrh"
   },
   "source": [
    "## Problèmatique \n",
    "\n",
    "On a un dataset qui contient des images de scanner sur le torse avec un label associé (Si le patient est atteint de Pneumonie ou pas). On cherche à comparer les differents modéles (Vgg, Inception, ResNet) pour la resolution d'un problème de classification binaire"
   ]
  },
  {
   "cell_type": "markdown",
   "metadata": {
    "id": "daZytrn7yKg2"
   },
   "source": [
    "## Function to plot the accuracy and loss curves of our models "
   ]
  },
  {
   "cell_type": "code",
   "execution_count": 5,
   "metadata": {
    "id": "iXuzAL78OgRv"
   },
   "outputs": [],
   "source": [
    "def affiche(history):\n",
    "    # summarize history for accuracy\n",
    "    plt.plot(history.history['acc'])\n",
    "    plt.plot(history.history['val_acc'])\n",
    "    plt.title('model accuracy')\n",
    "    plt.ylabel('accuracy')\n",
    "    plt.xlabel('epoch')\n",
    "    plt.legend(['train', 'test'], loc='upper left')\n",
    "    plt.show()\n",
    "    # summarize history for loss\n",
    "    plt.plot(history.history['loss'])\n",
    "    plt.plot(history.history['val_loss'])\n",
    "    plt.title('model loss')\n",
    "    plt.ylabel('loss')\n",
    "    plt.xlabel('epoch')\n",
    "    plt.legend(['train', 'test'], loc='upper left')\n",
    "    plt.show()"
   ]
  },
  {
   "cell_type": "markdown",
   "metadata": {
    "id": "qB1aOM5cz9gK"
   },
   "source": [
    "## Import Data:"
   ]
  },
  {
   "cell_type": "code",
   "execution_count": 6,
   "metadata": {
    "id": "jcLF71QYoOSe"
   },
   "outputs": [],
   "source": [
    "with gzip.open(('drive/MyDrive/chest_xray/pneumonia3.pkl.gz'), \"rb\") as file:\n",
    "    [X_train,Y_train,X_test,Y_test] = pickle.load(file)"
   ]
  },
  {
   "cell_type": "markdown",
   "metadata": {
    "id": "obicpSe00KKn"
   },
   "source": [
    "## Data Augmentation"
   ]
  },
  {
   "cell_type": "code",
   "execution_count": 7,
   "metadata": {
    "id": "zwshiXPH0CTC"
   },
   "outputs": [],
   "source": [
    "# Add our data-augmentation parameters to ImageDataGenerator\n",
    "train_datagen = ImageDataGenerator(rotation_range = 40, width_shift_range = 0.2, height_shift_range = 0.2, \n",
    "                                   shear_range = 0.2, zoom_range = 0.2, horizontal_flip = True)\n"
   ]
  },
  {
   "cell_type": "code",
   "execution_count": 14,
   "metadata": {
    "colab": {
     "base_uri": "https://localhost:8080/"
    },
    "id": "6DUWDFJ8En8w",
    "outputId": "3d0ba90e-8abf-4598-fd91-5ed951d1e4fc"
   },
   "outputs": [
    {
     "data": {
      "text/plain": [
       "(5216, 150, 150, 3)"
      ]
     },
     "execution_count": 14,
     "metadata": {},
     "output_type": "execute_result"
    }
   ],
   "source": [
    "X_train.shape"
   ]
  },
  {
   "cell_type": "code",
   "execution_count": 8,
   "metadata": {
    "id": "r1h69r5P-e45"
   },
   "outputs": [],
   "source": [
    "# Flow training images in batches of 20 using train_datagen generator\n",
    "train_generator = train_datagen.flow(X_train,Y_train, batch_size = 20)"
   ]
  },
  {
   "cell_type": "markdown",
   "metadata": {
    "id": "HG6ynBT3d6t6"
   },
   "source": [
    "# Model Building "
   ]
  },
  {
   "cell_type": "markdown",
   "metadata": {
    "id": "KfT7dMTs-ywe"
   },
   "source": [
    "## VGG16"
   ]
  },
  {
   "cell_type": "code",
   "execution_count": 15,
   "metadata": {
    "id": "X22Dk41A-ylV"
   },
   "outputs": [],
   "source": [
    "from tensorflow.keras.applications.vgg16 import VGG16\n",
    "\n",
    "base_model = VGG16(input_shape = (150, 150, 3), # Shape of our images\n",
    "                   include_top = False, # Leave out the last fully connected layer\n",
    "                   weights = 'imagenet')"
   ]
  },
  {
   "cell_type": "code",
   "execution_count": 16,
   "metadata": {
    "id": "xxDwgNu6-yi0"
   },
   "outputs": [],
   "source": [
    "for layer in base_model.layers:\n",
    "    layer.trainable = False"
   ]
  },
  {
   "cell_type": "code",
   "execution_count": 17,
   "metadata": {
    "id": "pcTUsuIK-ygY"
   },
   "outputs": [],
   "source": [
    "# Flatten the output layer to 1 dimension\n",
    "x = layers.Flatten()(base_model.output)\n",
    "\n",
    "# Add a fully connected layer with 512 hidden units and ReLU activation\n",
    "x = layers.Dense(512, activation='relu')(x)\n",
    "\n",
    "# Add a dropout rate of 0.5\n",
    "x = layers.Dropout(0.5)(x)\n",
    "\n",
    "# Add a final sigmoid layer with 1 node for classification output\n",
    "x = layers.Dense(2, activation='softmax')(x)\n",
    "\n",
    "model = tf.keras.models.Model(base_model.input, x)\n",
    "\n",
    "model.compile(optimizer = tf.keras.optimizers.RMSprop(learning_rate=0.0001), loss = 'binary_crossentropy',\n",
    "              metrics = ['acc'])"
   ]
  },
  {
   "cell_type": "code",
   "execution_count": 18,
   "metadata": {
    "colab": {
     "base_uri": "https://localhost:8080/"
    },
    "id": "GnBNk5Ik-yd3",
    "outputId": "2e6d1ea2-dacc-43ef-b01d-867ce7e2e2a8"
   },
   "outputs": [
    {
     "name": "stdout",
     "output_type": "stream",
     "text": [
      "Epoch 1/10\n",
      "250/250 [==============================] - 37s 140ms/step - loss: 1.4023 - acc: 0.8677 - val_loss: 1.1709 - val_acc: 0.8285\n",
      "Epoch 2/10\n",
      "250/250 [==============================] - 33s 132ms/step - loss: 0.5895 - acc: 0.9037 - val_loss: 0.8483 - val_acc: 0.8478\n",
      "Epoch 3/10\n",
      "250/250 [==============================] - 31s 123ms/step - loss: 0.3890 - acc: 0.9093 - val_loss: 0.5097 - val_acc: 0.8830\n",
      "Epoch 4/10\n",
      "250/250 [==============================] - 31s 123ms/step - loss: 0.3133 - acc: 0.9203 - val_loss: 0.4572 - val_acc: 0.8878\n",
      "Epoch 5/10\n",
      "250/250 [==============================] - 30s 121ms/step - loss: 0.2909 - acc: 0.9253 - val_loss: 0.5576 - val_acc: 0.8734\n",
      "Epoch 6/10\n",
      "250/250 [==============================] - 31s 126ms/step - loss: 0.2985 - acc: 0.9211 - val_loss: 0.4900 - val_acc: 0.8814\n",
      "Epoch 7/10\n",
      "250/250 [==============================] - 32s 127ms/step - loss: 0.2774 - acc: 0.9249 - val_loss: 0.5620 - val_acc: 0.8814\n",
      "Epoch 8/10\n",
      "250/250 [==============================] - 32s 130ms/step - loss: 0.2907 - acc: 0.9238 - val_loss: 0.5210 - val_acc: 0.8750\n",
      "Epoch 9/10\n",
      "250/250 [==============================] - 31s 123ms/step - loss: 0.2787 - acc: 0.9305 - val_loss: 0.5469 - val_acc: 0.8878\n",
      "Epoch 10/10\n",
      "250/250 [==============================] - 30s 121ms/step - loss: 0.2444 - acc: 0.9380 - val_loss: 0.4524 - val_acc: 0.9054\n"
     ]
    }
   ],
   "source": [
    "vgghist = model.fit(train_generator, validation_data = (X_test,Y_test), steps_per_epoch = 250, epochs = 10)"
   ]
  },
  {
   "cell_type": "markdown",
   "metadata": {
    "id": "yNvZaDNqd-Bk"
   },
   "source": [
    "### Evaluation of VGG model"
   ]
  },
  {
   "cell_type": "code",
   "execution_count": 19,
   "metadata": {
    "colab": {
     "base_uri": "https://localhost:8080/",
     "height": 573
    },
    "id": "x0bKf4HTOW2Y",
    "outputId": "0d68a94c-4858-419d-ad89-4cf771e90c40"
   },
   "outputs": [
    {
     "data": {
      "image/png": "[encoded data removed]",
      "text/plain": [
       "<Figure size 432x288 with 1 Axes>"
      ]
     },
     "metadata": {
      "needs_background": "light"
     },
     "output_type": "display_data"
    },
    {
     "data": {
      "image/png": "[encoded data removed]",
      "text/plain": [
       "<Figure size 432x288 with 1 Axes>"
      ]
     },
     "metadata": {
      "needs_background": "light"
     },
     "output_type": "display_data"
    }
   ],
   "source": [
    "affiche(vgghist) #donnee en annexe"
   ]
  },
  {
   "cell_type": "code",
   "execution_count": 20,
   "metadata": {
    "colab": {
     "base_uri": "https://localhost:8080/"
    },
    "id": "okntpuiqNLGP",
    "outputId": "0abe9536-e89a-42f5-84bf-bb0c3e0268a4"
   },
   "outputs": [
    {
     "name": "stdout",
     "output_type": "stream",
     "text": [
      "20/20 [==============================] - 2s 68ms/step\n"
     ]
    }
   ],
   "source": [
    "predictions = model.predict(X_test)\n",
    "predicted_classes = np.argmax(predictions, axis=1)\n",
    "Y_truth=np.argmax(Y_test, axis=1)"
   ]
  },
  {
   "cell_type": "code",
   "execution_count": 21,
   "metadata": {
    "colab": {
     "base_uri": "https://localhost:8080/",
     "height": 513
    },
    "id": "0fplQhdGNLDx",
    "outputId": "442d4ec8-e939-4de6-f802-cb8fc1726cb1"
   },
   "outputs": [
    {
     "data": {
      "image/png": "[encoded data removed]",
      "text/plain": [
       "<Figure size 576x576 with 1 Axes>"
      ]
     },
     "metadata": {
      "needs_background": "light"
     },
     "output_type": "display_data"
    }
   ],
   "source": [
    "classnames = ['Pneumonia', 'Normal']\n",
    "plt.figure(figsize=(8,8))\n",
    "plt.title('Confusion matrix')\n",
    "sns.heatmap(confusion_matrix(Y_truth, predicted_classes), cbar=False, xticklabels=classnames, yticklabels=classnames, fmt='d', annot=True)\n",
    "plt.xlabel('Predicted')\n",
    "plt.ylabel('Actual')\n",
    "plt.show()"
   ]
  },
  {
   "cell_type": "code",
   "execution_count": 22,
   "metadata": {
    "colab": {
     "base_uri": "https://localhost:8080/"
    },
    "id": "_zMekhuXNLA_",
    "outputId": "71cfa31c-f69b-4aaf-c07c-4c295ab56e14"
   },
   "outputs": [
    {
     "name": "stdout",
     "output_type": "stream",
     "text": [
      "              precision    recall  f1-score   support\n",
      "\n",
      "           0       0.91      0.94      0.93       390\n",
      "           1       0.90      0.85      0.87       234\n",
      "\n",
      "    accuracy                           0.91       624\n",
      "   macro avg       0.90      0.89      0.90       624\n",
      "weighted avg       0.91      0.91      0.90       624\n",
      "\n"
     ]
    }
   ],
   "source": [
    "print(classification_report(Y_truth, predicted_classes))"
   ]
  },
  {
   "cell_type": "markdown",
   "metadata": {
    "id": "mC70yXwyAD2T"
   },
   "source": [
    "## Inception V3"
   ]
  },
  {
   "cell_type": "code",
   "execution_count": 2,
   "metadata": {
    "colab": {
     "base_uri": "https://localhost:8080/"
    },
    "id": "rlUqfgdk-ybb",
    "outputId": "70d8237e-7b0f-45b1-d3fe-e69f49400304"
   },
   "outputs": [],
   "source": [
    "from tensorflow.keras.applications.inception_v3 import InceptionV3\n",
    "base_model = InceptionV3(input_shape = (150, 150, 3), include_top = False, weights = 'imagenet')"
   ]
  },
  {
   "cell_type": "code",
   "execution_count": null,
   "metadata": {
    "id": "yuNxkX_p-yYo"
   },
   "outputs": [],
   "source": [
    "for layer in base_model.layers:\n",
    "    layer.trainable = False"
   ]
  },
  {
   "cell_type": "code",
   "execution_count": 24,
   "metadata": {
    "id": "zVIo6Z4gAhWW"
   },
   "outputs": [],
   "source": [
    "from tensorflow.keras.optimizers import RMSprop\n",
    "\n",
    "x = layers.Flatten()(base_model.output)\n",
    "x = layers.Dense(1024, activation='relu')(x)\n",
    "x = layers.Dropout(0.2)(x)\n",
    "\n",
    "# Add a final sigmoid layer with 1 node for classification output\n",
    "x = layers.Dense(2, activation='softmax')(x)\n",
    "\n",
    "model = tf.keras.models.Model(base_model.input, x)\n",
    "\n",
    "model.compile(optimizer = RMSprop(learning_rate=0.0001), loss = 'binary_crossentropy', metrics = ['acc'])"
   ]
  },
  {
   "cell_type": "code",
   "execution_count": 25,
   "metadata": {
    "colab": {
     "base_uri": "https://localhost:8080/"
    },
    "id": "dy7Kl4ukA3Xx",
    "outputId": "987484df-6158-4f3a-a185-8cb4b675a049"
   },
   "outputs": [
    {
     "name": "stdout",
     "output_type": "stream",
     "text": [
      "Epoch 1/10\n",
      "250/250 [==============================] - 76s 184ms/step - loss: 0.2631 - acc: 0.8997 - val_loss: 0.6051 - val_acc: 0.9135\n",
      "Epoch 2/10\n",
      "250/250 [==============================] - 34s 133ms/step - loss: 0.1560 - acc: 0.9428 - val_loss: 1.4899 - val_acc: 0.9103\n",
      "Epoch 3/10\n",
      "250/250 [==============================] - 38s 150ms/step - loss: 0.1272 - acc: 0.9590 - val_loss: 0.4592 - val_acc: 0.9231\n",
      "Epoch 4/10\n",
      "250/250 [==============================] - 41s 166ms/step - loss: 0.1225 - acc: 0.9578 - val_loss: 0.2760 - val_acc: 0.9327\n",
      "Epoch 5/10\n",
      "250/250 [==============================] - 42s 166ms/step - loss: 0.0968 - acc: 0.9648 - val_loss: 0.7882 - val_acc: 0.9279\n",
      "Epoch 6/10\n",
      "250/250 [==============================] - 35s 138ms/step - loss: 0.0914 - acc: 0.9694 - val_loss: 0.9015 - val_acc: 0.9327\n",
      "Epoch 7/10\n",
      "250/250 [==============================] - 37s 147ms/step - loss: 0.0885 - acc: 0.9682 - val_loss: 0.5355 - val_acc: 0.9231\n",
      "Epoch 8/10\n",
      "250/250 [==============================] - 36s 142ms/step - loss: 0.0825 - acc: 0.9724 - val_loss: 0.2338 - val_acc: 0.9151\n",
      "Epoch 9/10\n",
      "250/250 [==============================] - 36s 143ms/step - loss: 0.0785 - acc: 0.9706 - val_loss: 0.5881 - val_acc: 0.8990\n",
      "Epoch 10/10\n",
      "250/250 [==============================] - 42s 167ms/step - loss: 0.0821 - acc: 0.9726 - val_loss: 0.2229 - val_acc: 0.9231\n"
     ]
    }
   ],
   "source": [
    "inception = model.fit(train_generator, validation_data = (X_test,Y_test), steps_per_epoch = 250, epochs = 10)\n"
   ]
  },
  {
   "cell_type": "markdown",
   "metadata": {
    "id": "K2DidnMaeG8a"
   },
   "source": [
    "### Evaluation of Inception model"
   ]
  },
  {
   "cell_type": "code",
   "execution_count": 30,
   "metadata": {
    "colab": {
     "base_uri": "https://localhost:8080/",
     "height": 573
    },
    "id": "gowrzGPbNx20",
    "outputId": "1d89a3d4-2207-463d-aa10-03acef5a6d44"
   },
   "outputs": [
    {
     "data": {
      "image/png": "[encoded data removed]",
      "text/plain": [
       "<Figure size 432x288 with 1 Axes>"
      ]
     },
     "metadata": {
      "needs_background": "light"
     },
     "output_type": "display_data"
    },
    {
     "data": {
      "image/png": "[encoded data removed]",
      "text/plain": [
       "<Figure size 432x288 with 1 Axes>"
      ]
     },
     "metadata": {
      "needs_background": "light"
     },
     "output_type": "display_data"
    }
   ],
   "source": [
    "affiche(inception) #donnee en annexe"
   ]
  },
  {
   "cell_type": "code",
   "execution_count": 31,
   "metadata": {
    "colab": {
     "base_uri": "https://localhost:8080/"
    },
    "id": "H1j-R81iNMao",
    "outputId": "311ab155-053c-43a6-8ad2-cbec0b8b8cdd"
   },
   "outputs": [
    {
     "name": "stdout",
     "output_type": "stream",
     "text": [
      "20/20 [==============================] - 1s 36ms/step\n"
     ]
    }
   ],
   "source": [
    "predictions = model.predict(X_test)\n",
    "predicted_classes = np.argmax(predictions, axis=1)\n",
    "Y_truth=np.argmax(Y_test, axis=1)"
   ]
  },
  {
   "cell_type": "code",
   "execution_count": 32,
   "metadata": {
    "colab": {
     "base_uri": "https://localhost:8080/",
     "height": 513
    },
    "id": "jxhMTFN4NMTY",
    "outputId": "b350d705-91a6-4294-ae14-3ae9ca9f76df"
   },
   "outputs": [
    {
     "data": {
      "image/png": "[encoded data removed]",
      "text/plain": [
       "<Figure size 576x576 with 1 Axes>"
      ]
     },
     "metadata": {
      "needs_background": "light"
     },
     "output_type": "display_data"
    }
   ],
   "source": [
    "classnames = ['Pneumonia', 'Normal']\n",
    "plt.figure(figsize=(8,8))\n",
    "plt.title('Confusion matrix')\n",
    "sns.heatmap(confusion_matrix(Y_truth, predicted_classes), cbar=False, xticklabels=classnames, yticklabels=classnames, fmt='d', annot=True)\n",
    "plt.xlabel('Predicted')\n",
    "plt.ylabel('Actual')\n",
    "plt.show()"
   ]
  },
  {
   "cell_type": "code",
   "execution_count": 33,
   "metadata": {
    "colab": {
     "base_uri": "https://localhost:8080/"
    },
    "id": "dM1ivMm2N72d",
    "outputId": "9f9b4fce-4900-4ff0-c3c2-af20f467d7a5"
   },
   "outputs": [
    {
     "name": "stdout",
     "output_type": "stream",
     "text": [
      "              precision    recall  f1-score   support\n",
      "\n",
      "           0       0.95      0.93      0.94       390\n",
      "           1       0.88      0.92      0.90       234\n",
      "\n",
      "    accuracy                           0.92       624\n",
      "   macro avg       0.92      0.92      0.92       624\n",
      "weighted avg       0.92      0.92      0.92       624\n",
      "\n"
     ]
    }
   ],
   "source": [
    "print(classification_report(Y_truth, predicted_classes))"
   ]
  },
  {
   "cell_type": "markdown",
   "metadata": {
    "id": "h9r9S-W5BAFQ"
   },
   "source": [
    "## ResNet50"
   ]
  },
  {
   "cell_type": "code",
   "execution_count": 38,
   "metadata": {
    "id": "MunhPAoqBHl_"
   },
   "outputs": [],
   "source": [
    "from tensorflow.keras.applications import ResNet50\n",
    "\n",
    "base_model = ResNet50(input_shape=(150, 150,3), include_top=False, weights=\"imagenet\")"
   ]
  },
  {
   "cell_type": "code",
   "execution_count": 39,
   "metadata": {
    "id": "cQS5cde7BHjr"
   },
   "outputs": [],
   "source": [
    "for layer in base_model.layers:\n",
    "    layer.trainable = False"
   ]
  },
  {
   "cell_type": "code",
   "execution_count": 40,
   "metadata": {
    "id": "lo52Y1_2BHhT"
   },
   "outputs": [],
   "source": [
    "from tensorflow.python.keras.models import Sequential\n",
    "from tensorflow.python.keras.layers import Dense, Flatten, GlobalAveragePooling2D\n",
    "\n",
    "# Flatten the output layer to 1 dimension\n",
    "x = layers.Flatten()(base_model.output)\n",
    "\n",
    "# Add a fully connected layer with 512 hidden units and ReLU activation\n",
    "x = layers.Dense(512, activation='relu')(x)\n",
    "\n",
    "# Add a dropout rate of 0.5\n",
    "x = layers.Dropout(0.5)(x)\n",
    "\n",
    "# Add a final sigmoid layer with 1 node for classification output\n",
    "x = layers.Dense(2, activation='softmax')(x)\n",
    "\n",
    "model = tf.keras.models.Model(base_model.input, x)\n",
    "\n",
    "model.compile(optimizer = tf.keras.optimizers.RMSprop(learning_rate=0.001), loss = 'binary_crossentropy',\n",
    "              metrics = ['acc'])"
   ]
  },
  {
   "cell_type": "code",
   "execution_count": 41,
   "metadata": {
    "colab": {
     "base_uri": "https://localhost:8080/"
    },
    "id": "7rOHR4lKBHaT",
    "outputId": "1a078566-8364-4158-b84c-5ce3ebfe99e6"
   },
   "outputs": [
    {
     "name": "stdout",
     "output_type": "stream",
     "text": [
      "Epoch 1/10\n",
      "250/250 [==============================] - 37s 131ms/step - loss: 2.0397 - acc: 0.8587 - val_loss: 0.4699 - val_acc: 0.8269\n",
      "Epoch 2/10\n",
      "250/250 [==============================] - 31s 122ms/step - loss: 0.3292 - acc: 0.9023 - val_loss: 0.5822 - val_acc: 0.8349\n",
      "Epoch 3/10\n",
      "250/250 [==============================] - 30s 119ms/step - loss: 0.2721 - acc: 0.9139 - val_loss: 0.7495 - val_acc: 0.7468\n",
      "Epoch 4/10\n",
      "250/250 [==============================] - 30s 119ms/step - loss: 0.2497 - acc: 0.9253 - val_loss: 0.4315 - val_acc: 0.8622\n",
      "Epoch 5/10\n",
      "250/250 [==============================] - 31s 122ms/step - loss: 0.2528 - acc: 0.9179 - val_loss: 0.5810 - val_acc: 0.8478\n",
      "Epoch 6/10\n",
      "250/250 [==============================] - 30s 120ms/step - loss: 0.2394 - acc: 0.9265 - val_loss: 0.2801 - val_acc: 0.8846\n",
      "Epoch 7/10\n",
      "250/250 [==============================] - 29s 118ms/step - loss: 0.2024 - acc: 0.9301 - val_loss: 0.5069 - val_acc: 0.8734\n",
      "Epoch 8/10\n",
      "250/250 [==============================] - 30s 119ms/step - loss: 0.2174 - acc: 0.9333 - val_loss: 0.3898 - val_acc: 0.8670\n",
      "Epoch 9/10\n",
      "250/250 [==============================] - 31s 124ms/step - loss: 0.1914 - acc: 0.9373 - val_loss: 0.3152 - val_acc: 0.8974\n",
      "Epoch 10/10\n",
      "250/250 [==============================] - 29s 118ms/step - loss: 0.1857 - acc: 0.9394 - val_loss: 0.4047 - val_acc: 0.8814\n"
     ]
    }
   ],
   "source": [
    "resnet_history = model.fit(train_generator, validation_data = (X_test,Y_test), steps_per_epoch = 250, \n",
    "                           epochs = 10)\n"
   ]
  },
  {
   "cell_type": "markdown",
   "metadata": {
    "id": "IvRN7-ajeK_H"
   },
   "source": [
    "### Evaluation of ResNet 50 model"
   ]
  },
  {
   "cell_type": "code",
   "execution_count": 42,
   "metadata": {
    "colab": {
     "base_uri": "https://localhost:8080/",
     "height": 573
    },
    "id": "-Di8yK1nOT10",
    "outputId": "8a395f44-944d-4037-bbf2-2261d1a73f33"
   },
   "outputs": [
    {
     "data": {
      "image/png": "[encoded data removed]",
      "text/plain": [
       "<Figure size 432x288 with 1 Axes>"
      ]
     },
     "metadata": {
      "needs_background": "light"
     },
     "output_type": "display_data"
    },
    {
     "data": {
      "image/png": "[encoded data removed]",
      "text/plain": [
       "<Figure size 432x288 with 1 Axes>"
      ]
     },
     "metadata": {
      "needs_background": "light"
     },
     "output_type": "display_data"
    }
   ],
   "source": [
    "affiche(resnet_history) #donnee en annexe"
   ]
  },
  {
   "cell_type": "code",
   "execution_count": 43,
   "metadata": {
    "colab": {
     "base_uri": "https://localhost:8080/"
    },
    "id": "8GgmRxnV0zAi",
    "outputId": "19fda2a2-eb27-4dc3-ffdc-117401770d4b"
   },
   "outputs": [
    {
     "name": "stdout",
     "output_type": "stream",
     "text": [
      "20/20 [==============================] - 2s 51ms/step\n"
     ]
    }
   ],
   "source": [
    "predictions = model.predict(X_test)\n",
    "predicted_classes = np.argmax(predictions, axis=1)\n",
    "Y_truth=np.argmax(Y_test, axis=1)"
   ]
  },
  {
   "cell_type": "code",
   "execution_count": 44,
   "metadata": {
    "colab": {
     "base_uri": "https://localhost:8080/",
     "height": 513
    },
    "id": "zex1nq4a0y6r",
    "outputId": "205f12f6-8ee0-4c08-9119-387e71e887a2"
   },
   "outputs": [
    {
     "data": {
      "image/png": "[encoded data removed]",
      "text/plain": [
       "<Figure size 576x576 with 1 Axes>"
      ]
     },
     "metadata": {
      "needs_background": "light"
     },
     "output_type": "display_data"
    }
   ],
   "source": [
    "classnames = ['Pneumonia', 'Normal']\n",
    "plt.figure(figsize=(8,8))\n",
    "plt.title('Confusion matrix')\n",
    "sns.heatmap(confusion_matrix(Y_truth, predicted_classes), cbar=False, xticklabels=classnames, \n",
    "            yticklabels=classnames, fmt='d', annot=True)\n",
    "plt.xlabel('Predicted')\n",
    "plt.ylabel('Actual')\n",
    "plt.show()"
   ]
  },
  {
   "cell_type": "code",
   "execution_count": 45,
   "metadata": {
    "colab": {
     "base_uri": "https://localhost:8080/"
    },
    "id": "UXNiS4i40y3-",
    "outputId": "09162388-0738-4263-e2ca-66de311bcdfe"
   },
   "outputs": [
    {
     "name": "stdout",
     "output_type": "stream",
     "text": [
      "              precision    recall  f1-score   support\n",
      "\n",
      "           0       0.90      0.92      0.91       390\n",
      "           1       0.85      0.82      0.84       234\n",
      "\n",
      "    accuracy                           0.88       624\n",
      "   macro avg       0.88      0.87      0.87       624\n",
      "weighted avg       0.88      0.88      0.88       624\n",
      "\n"
     ]
    }
   ],
   "source": [
    "print(classification_report(Y_truth, predicted_classes))"
   ]
  },
  {
   "cell_type": "code",
   "execution_count": 45,
   "metadata": {
    "id": "-_EWIk1GsJp7"
   },
   "outputs": [],
   "source": []
  }
 ],
 "metadata": {
  "accelerator": "GPU",
  "colab": {
   "name": "ResNet-VGG16-Inception.ipynb",
   "provenance": []
  },
  "kernelspec": {
   "display_name": "Python 3 (ipykernel)",
   "language": "python",
   "name": "python3"
  },
  "language_info": {
   "codemirror_mode": {
    "name": "ipython",
    "version": 3
   },
   "file_extension": ".py",
   "mimetype": "text/x-python",
   "name": "python",
   "nbconvert_exporter": "python",
   "pygments_lexer": "ipython3",
   "version": "3.9.13"
  },
  "toc": {
   "base_numbering": 1,
   "nav_menu": {},
   "number_sections": true,
   "sideBar": true,
   "skip_h1_title": false,
   "title_cell": "Table of Contents",
   "title_sidebar": "Contents",
   "toc_cell": false,
   "toc_position": {},
   "toc_section_display": true,
   "toc_window_display": false
  },
  "varInspector": {
   "cols": {
    "lenName": 16,
    "lenType": 16,
    "lenVar": 40
   },
   "kernels_config": {
    "python": {
     "delete_cmd_postfix": "",
     "delete_cmd_prefix": "del ",
     "library": "var_list.py",
     "varRefreshCmd": "print(var_dic_list())"
    },
    "r": {
     "delete_cmd_postfix": ") ",
     "delete_cmd_prefix": "rm(",
     "library": "var_list.r",
     "varRefreshCmd": "cat(var_dic_list()) "
    }
   },
   "types_to_exclude": [
    "module",
    "function",
    "builtin_function_or_method",
    "instance",
    "_Feature"
   ],
   "window_display": false
  }
 },
 "nbformat": 4,
 "nbformat_minor": 1
}
