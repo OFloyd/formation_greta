{
 "cells": [
  {
   "cell_type": "code",
   "execution_count": 8,
   "id": "74653d8c",
   "metadata": {},
   "outputs": [],
   "source": [
    "import pandas as pd\n",
    "import re\n",
    "import joblib"
   ]
  },
  {
   "cell_type": "code",
   "execution_count": 1,
   "id": "b69a59b7",
   "metadata": {},
   "outputs": [],
   "source": [
    "#petit clean \n",
    "df = pd.read_csv(\"../data/labeled_data.csv\", usecols=['class', 'tweet'])\n",
    "df['tweet'] = df['tweet'].apply(lambda tweet: re.sub('[^A-Za-z]+', ' ', tweet.lower()))"
   ]
  },
  {
   "cell_type": "code",
   "execution_count": 2,
   "id": "24ece3e7",
   "metadata": {},
   "outputs": [],
   "source": [
    "#labels \n",
    "# 0 - hate speech 1 - offensive language 2 - neither\n",
    "from sklearn.pipeline import make_pipeline\n",
    "from sklearn.feature_extraction.text import TfidfVectorizer\n",
    "from sklearn.multiclass import OneVsRestClassifier\n",
    "from sklearn.svm import SVC\n",
    "from stop_words import get_stop_words"
   ]
  },
  {
   "cell_type": "code",
   "execution_count": null,
   "id": "6cf8a503",
   "metadata": {},
   "outputs": [],
   "source": [
    "#pipeline \n",
    "clf = make_pipeline(\n",
    "    TfidfVectorizer(stop_words=get_stop_words('en')),\n",
    "    OneVsRestClassifier(SVC(kernel='linear', probability=True))\n",
    ")\n",
    "\n",
    "#fit \n",
    "clf = clf.fit(X=df['tweet'], y=df['class'])"
   ]
  },
  {
   "cell_type": "code",
   "execution_count": 9,
   "id": "f69f05bd",
   "metadata": {},
   "outputs": [
    {
     "data": {
      "text/plain": [
       "['hatespeech.joblib.z']"
      ]
     },
     "execution_count": 9,
     "metadata": {},
     "output_type": "execute_result"
    }
   ],
   "source": [
    "#test \n",
    "text = \"I hate you, please die!\"\n",
    "clf.predict_proba([text])\n",
    "\n",
    "#save weights \n",
    "model_filename = \"hatespeech.joblib.z\"\n",
    "joblib.dump((clf), model_filename)"
   ]
  },
  {
   "cell_type": "code",
   "execution_count": 10,
   "id": "6100ca51",
   "metadata": {},
   "outputs": [
    {
     "name": "stdout",
     "output_type": "stream",
     "text": [
      "[[0.64189262 0.1391489  0.21895848]]\n"
     ]
    }
   ],
   "source": [
    "print(clf.predict_proba([text]))"
   ]
  },
  {
   "cell_type": "code",
   "execution_count": null,
   "id": "6d9ac9a3",
   "metadata": {},
   "outputs": [],
   "source": []
  }
 ],
 "metadata": {
  "kernelspec": {
   "display_name": "Python 3 (ipykernel)",
   "language": "python",
   "name": "python3"
  },
  "language_info": {
   "codemirror_mode": {
    "name": "ipython",
    "version": 3
   },
   "file_extension": ".py",
   "mimetype": "text/x-python",
   "name": "python",
   "nbconvert_exporter": "python",
   "pygments_lexer": "ipython3",
   "version": "3.9.13"
  },
  "toc": {
   "base_numbering": 1,
   "nav_menu": {},
   "number_sections": true,
   "sideBar": true,
   "skip_h1_title": false,
   "title_cell": "Table of Contents",
   "title_sidebar": "Contents",
   "toc_cell": false,
   "toc_position": {},
   "toc_section_display": true,
   "toc_window_display": false
  },
  "varInspector": {
   "cols": {
    "lenName": 16,
    "lenType": 16,
    "lenVar": 40
   },
   "kernels_config": {
    "python": {
     "delete_cmd_postfix": "",
     "delete_cmd_prefix": "del ",
     "library": "var_list.py",
     "varRefreshCmd": "print(var_dic_list())"
    },
    "r": {
     "delete_cmd_postfix": ") ",
     "delete_cmd_prefix": "rm(",
     "library": "var_list.r",
     "varRefreshCmd": "cat(var_dic_list()) "
    }
   },
   "types_to_exclude": [
    "module",
    "function",
    "builtin_function_or_method",
    "instance",
    "_Feature"
   ],
   "window_display": false
  }
 },
 "nbformat": 4,
 "nbformat_minor": 5
}
