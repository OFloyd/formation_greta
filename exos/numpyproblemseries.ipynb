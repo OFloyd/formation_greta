{
 "cells": [
  {
   "cell_type": "code",
   "execution_count": 1,
   "metadata": {
    "id": "M_MvUNbwAzyM"
   },
   "outputs": [],
   "source": [
    "import numpy as np"
   ]
  },
  {
   "cell_type": "markdown",
   "metadata": {
    "id": "OXI9gLlFd4yM"
   },
   "source": [
    "### Exercice 1:\n",
    "Create a 1-dimensional NumPy array with 5 integers from 0 to 4."
   ]
  },
  {
   "cell_type": "code",
   "execution_count": 2,
   "metadata": {
    "id": "MRBvaaSCVZOS"
   },
   "outputs": [
    {
     "data": {
      "text/plain": [
       "array([0, 1, 2, 3, 4])"
      ]
     },
     "execution_count": 2,
     "metadata": {},
     "output_type": "execute_result"
    }
   ],
   "source": [
    "np.arange(5)"
   ]
  },
  {
   "cell_type": "markdown",
   "metadata": {
    "id": "uxF4VxyNdE1f"
   },
   "source": [
    " ### Exercice 2:\n",
    " Create a 2-dimensional NumPy array with shape (2, 3) containing only ones."
   ]
  },
  {
   "cell_type": "code",
   "execution_count": 3,
   "metadata": {
    "id": "cgh73GheVj0G"
   },
   "outputs": [
    {
     "data": {
      "text/plain": [
       "array([[1., 1., 1.],\n",
       "       [1., 1., 1.]])"
      ]
     },
     "execution_count": 3,
     "metadata": {},
     "output_type": "execute_result"
    }
   ],
   "source": [
    "np.ones((2,3))"
   ]
  },
  {
   "cell_type": "markdown",
   "metadata": {
    "id": "5lZ_Kas9dF_a"
   },
   "source": [
    "### Exercice 3:\n",
    "Create a 3-dimensional NumPy array with shape (2, 3, 4) containing only zeros."
   ]
  },
  {
   "cell_type": "code",
   "execution_count": 4,
   "metadata": {
    "id": "7xaPkSPDVlCS"
   },
   "outputs": [
    {
     "data": {
      "text/plain": [
       "array([[[0., 0., 0., 0.],\n",
       "        [0., 0., 0., 0.],\n",
       "        [0., 0., 0., 0.]],\n",
       "\n",
       "       [[0., 0., 0., 0.],\n",
       "        [0., 0., 0., 0.],\n",
       "        [0., 0., 0., 0.]]])"
      ]
     },
     "execution_count": 4,
     "metadata": {},
     "output_type": "execute_result"
    }
   ],
   "source": [
    "np.zeros((2,3,4))"
   ]
  },
  {
   "cell_type": "markdown",
   "metadata": {
    "id": "0xD6apZpdL4u"
   },
   "source": [
    "### Exercice 4:\n",
    "Create a 2-dimensional NumPy array with shape (3, 4) containing random integers between 0 and 9."
   ]
  },
  {
   "cell_type": "code",
   "execution_count": 5,
   "metadata": {
    "id": "piZgXDK4Prda"
   },
   "outputs": [
    {
     "data": {
      "text/plain": [
       "array([[3, 8, 6, 8],\n",
       "       [0, 2, 3, 0],\n",
       "       [6, 5, 8, 2]])"
      ]
     },
     "execution_count": 5,
     "metadata": {},
     "output_type": "execute_result"
    }
   ],
   "source": [
    "np.random.randint(0,9,(3,4))"
   ]
  },
  {
   "cell_type": "markdown",
   "metadata": {
    "id": "-Mln-90sdNpw"
   },
   "source": [
    "### Exercice 5:\n",
    "Create a 2-dimensional NumPy array with shape (3, 4) and find its dimensions and size."
   ]
  },
  {
   "cell_type": "code",
   "execution_count": 6,
   "metadata": {
    "id": "zpE8Tj1mPr2o"
   },
   "outputs": [
    {
     "name": "stdout",
     "output_type": "stream",
     "text": [
      "(3, 4) 2 12\n"
     ]
    }
   ],
   "source": [
    "foo=np.random.randint(0,9,(3,4))\n",
    "print(foo.shape, foo.ndim, foo.size)"
   ]
  },
  {
   "cell_type": "markdown",
   "metadata": {
    "id": "JECID7F1dOUe"
   },
   "source": [
    "### Exercice 6:\n",
    "Create a 2-dimensional NumPy array with shape (3, 4) and calculate the sum of all its elements."
   ]
  },
  {
   "cell_type": "code",
   "execution_count": 7,
   "metadata": {
    "id": "j8fNeTqiPsiI"
   },
   "outputs": [
    {
     "name": "stdout",
     "output_type": "stream",
     "text": [
      "[[6 2 0 0]\n",
      " [3 1 1 6]\n",
      " [8 7 6 7]] 47\n"
     ]
    }
   ],
   "source": [
    "foo=np.random.randint(0,9,(3,4))\n",
    "print(foo, foo.sum())"
   ]
  },
  {
   "cell_type": "markdown",
   "metadata": {
    "id": "FUEt_rFpdZay"
   },
   "source": [
    "### Exercice 7:\n",
    "Create a 2-dimensional NumPy array with shape (3, 4) and find the minimum and maximum value in each row."
   ]
  },
  {
   "cell_type": "code",
   "execution_count": 8,
   "metadata": {
    "id": "bgsH9u_UPtCs"
   },
   "outputs": [
    {
     "name": "stdout",
     "output_type": "stream",
     "text": [
      "colonne  0 : 0 6\n",
      "colonne  1 : 3 8\n",
      "colonne  2 : 6 6\n",
      "colonne  3 : 3 7\n",
      "ligne  0 : 6 7\n",
      "ligne  1 : 3 8\n",
      "ligne  2 : 0 6\n"
     ]
    }
   ],
   "source": [
    "foo=np.random.randint(0,9,(3,4))\n",
    "for i in range(4) : \n",
    "    print('colonne ', i, ':', np.min(foo[:,i]), np.max(foo[:,i]))\n",
    "for i in range(3) :\n",
    "    print('ligne ', i, ':', np.min(foo[i,:]), np.max(foo[i,:]))"
   ]
  },
  {
   "cell_type": "code",
   "execution_count": 9,
   "metadata": {
    "id": "oIZxRv6aFZRm"
   },
   "outputs": [],
   "source": [
    "# np.apply_over_axes(np.min, foo, 0)"
   ]
  },
  {
   "cell_type": "markdown",
   "metadata": {
    "id": "LCHEvMbLdcWg"
   },
   "source": [
    "### Exercice 8:\n",
    "Create a 2-dimensional NumPy array with shape (3, 4) and replace all the odd numbers with -1."
   ]
  },
  {
   "cell_type": "code",
   "execution_count": 10,
   "metadata": {
    "id": "cnh8SjuSPtjP"
   },
   "outputs": [
    {
     "name": "stdout",
     "output_type": "stream",
     "text": [
      "[[ 0 -1  0 -1]\n",
      " [ 0  8  4 -1]\n",
      " [-1  0  6 -1]]\n"
     ]
    }
   ],
   "source": [
    "foo=np.random.randint(0,9,(3,4))\n",
    "foo[foo%2 == 1]=-1\n",
    "print(foo)"
   ]
  },
  {
   "cell_type": "markdown",
   "metadata": {
    "id": "ZiFcLInIdfOK"
   },
   "source": [
    "### Exercice 9:\n",
    "Create a 2-dimensional NumPy array with shape (3, 4) and extract the elements in the second and third row and the second and third column."
   ]
  },
  {
   "cell_type": "code",
   "execution_count": 11,
   "metadata": {
    "id": "ZaVIzEeeWA_H"
   },
   "outputs": [
    {
     "name": "stdout",
     "output_type": "stream",
     "text": [
      "[[4 1 4 7]\n",
      " [6 1 4 5]\n",
      " [6 5 8 0]] \n",
      " [[1 4]\n",
      " [5 8]]\n"
     ]
    }
   ],
   "source": [
    "foo=np.random.randint(0,9,(3,4))\n",
    "bar=foo[1:3, 1:3]\n",
    "print(foo, '\\n', bar)"
   ]
  },
  {
   "cell_type": "markdown",
   "metadata": {
    "id": "xmRnLq1bdhaN"
   },
   "source": [
    "### Exercice 10:\n",
    "Create a 2-dimensional NumPy array with shape (3, 4) and multiply each element by 2."
   ]
  },
  {
   "cell_type": "code",
   "execution_count": 12,
   "metadata": {
    "id": "uNShpo4RKl-J"
   },
   "outputs": [
    {
     "name": "stdout",
     "output_type": "stream",
     "text": [
      "[[2 7 0 4]\n",
      " [5 7 7 7]\n",
      " [4 3 7 7]] \n",
      " [[ 4 14  0  8]\n",
      " [10 14 14 14]\n",
      " [ 8  6 14 14]]\n"
     ]
    }
   ],
   "source": [
    "foo=np.random.randint(0,9,(3,4))\n",
    "bar=2*foo\n",
    "print(foo, '\\n', bar)"
   ]
  },
  {
   "cell_type": "code",
   "execution_count": null,
   "metadata": {
    "id": "KoyWPXVDYpY8"
   },
   "outputs": [],
   "source": []
  }
 ],
 "metadata": {
  "colab": {
   "provenance": []
  },
  "kernelspec": {
   "display_name": "Python 3 (ipykernel)",
   "language": "python",
   "name": "python3"
  },
  "language_info": {
   "codemirror_mode": {
    "name": "ipython",
    "version": 3
   },
   "file_extension": ".py",
   "mimetype": "text/x-python",
   "name": "python",
   "nbconvert_exporter": "python",
   "pygments_lexer": "ipython3",
   "version": "3.9.13"
  },
  "toc": {
   "base_numbering": 1,
   "nav_menu": {},
   "number_sections": true,
   "sideBar": true,
   "skip_h1_title": false,
   "title_cell": "Table of Contents",
   "title_sidebar": "Contents",
   "toc_cell": false,
   "toc_position": {},
   "toc_section_display": true,
   "toc_window_display": false
  },
  "varInspector": {
   "cols": {
    "lenName": 16,
    "lenType": 16,
    "lenVar": 40
   },
   "kernels_config": {
    "python": {
     "delete_cmd_postfix": "",
     "delete_cmd_prefix": "del ",
     "library": "var_list.py",
     "varRefreshCmd": "print(var_dic_list())"
    },
    "r": {
     "delete_cmd_postfix": ") ",
     "delete_cmd_prefix": "rm(",
     "library": "var_list.r",
     "varRefreshCmd": "cat(var_dic_list()) "
    }
   },
   "types_to_exclude": [
    "module",
    "function",
    "builtin_function_or_method",
    "instance",
    "_Feature"
   ],
   "window_display": false
  }
 },
 "nbformat": 4,
 "nbformat_minor": 1
}
