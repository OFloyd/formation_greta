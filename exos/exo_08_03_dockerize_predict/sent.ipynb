{
 "cells": [
  {
   "cell_type": "markdown",
   "id": "829d4ab1",
   "metadata": {},
   "source": [
    "# MLA 703. RNN-LSTM et architectures avancées [Analyse de sentiment]"
   ]
  },
  {
   "cell_type": "markdown",
   "id": "bfd9fc71",
   "metadata": {},
   "source": [
    "Ce fichier génère une prédiction à partir d'un commentaire sur un film. "
   ]
  },
  {
   "cell_type": "markdown",
   "id": "584df8d3",
   "metadata": {},
   "source": [
    "# Importation"
   ]
  },
  {
   "cell_type": "code",
   "execution_count": 7,
   "id": "85b63256",
   "metadata": {},
   "outputs": [],
   "source": [
    "import re\n",
    "import joblib\n",
    "import numpy as np\n",
    "from tensorflow import keras\n",
    "from tensorflow.keras.datasets import imdb\n",
    "from tensorflow.keras.preprocessing.sequence import pad_sequences"
   ]
  },
  {
   "cell_type": "markdown",
   "id": "67ab45cf",
   "metadata": {},
   "source": [
    "# Fonctions et dictionnaires"
   ]
  },
  {
   "cell_type": "code",
   "execution_count": 2,
   "id": "b5c8dc15",
   "metadata": {},
   "outputs": [],
   "source": [
    "max_len   =  100\n",
    "\n",
    "INDEX_FROM=3 \n",
    "\n",
    "word_to_id = keras.datasets.imdb.get_word_index()\n",
    "word_to_id = {k:(v+INDEX_FROM) for k,v in word_to_id.items()}\n",
    "word_to_id[\"<PAD>\"] = 0\n",
    "word_to_id[\"<START>\"] = 1\n",
    "word_to_id[\"<UNK>\"] = 2\n",
    "word_to_id[\"<UNUSED>\"] = 3"
   ]
  },
  {
   "cell_type": "code",
   "execution_count": null,
   "id": "5ba8cb99",
   "metadata": {},
   "outputs": [],
   "source": [
    "\n",
    "\n"
   ]
  },
  {
   "cell_type": "code",
   "execution_count": 3,
   "id": "c6ba1c7a",
   "metadata": {},
   "outputs": [
    {
     "data": {
      "text/plain": [
       "88588"
      ]
     },
     "execution_count": 3,
     "metadata": {},
     "output_type": "execute_result"
    }
   ],
   "source": [
    "len(word_to_id.keys())"
   ]
  },
  {
   "cell_type": "code",
   "execution_count": 4,
   "id": "e97947c2",
   "metadata": {},
   "outputs": [],
   "source": [
    "def predict(model, x_test):\n",
    "\n",
    "    # On prédit sur les données de test\n",
    "    y_hat = model.predict(x_test)\n",
    "\n",
    "    # On tranforme les prédictions en labels\n",
    "    i_pos = [i for i in range(len(y_hat)) if y_hat[i]>0]\n",
    "    i_neg = [i for i in range(len(y_hat)) if y_hat[i]<=0]\n",
    "\n",
    "    y_pred   = np.zeros(len(y_hat))\n",
    "    y_pred[i_pos] = 1\n",
    "    y_pred[i_neg] = 0\n",
    "    return y_pred"
   ]
  },
  {
   "cell_type": "code",
   "execution_count": 5,
   "id": "9ddc23ea",
   "metadata": {},
   "outputs": [],
   "source": [
    "\n",
    "def encode_txt(txt) :\n",
    "    txt=re.sub(r\"[^a-zA-Z'-]\", ' ', txt)\n",
    "    res=[ word_to_id.get(i.lower(), 2) for i in txt.split()]\n",
    "    res=np.asarray(res)\n",
    "    res=res.reshape((1,res.shape[0]))\n",
    "    res=pad_sequences(res, maxlen=max_len, truncating='post')\n",
    "    return res"
   ]
  },
  {
   "cell_type": "markdown",
   "id": "71cb15c5",
   "metadata": {},
   "source": [
    "# Chargement du modèle"
   ]
  },
  {
   "cell_type": "code",
   "execution_count": 10,
   "id": "4de746b9",
   "metadata": {},
   "outputs": [
    {
     "name": "stdout",
     "output_type": "stream",
     "text": [
      "Keras model archive loading:\n",
      "File Name                                             Modified             Size\n",
      "config.json                                    2023-03-08 14:44:48         4521\n",
      "metadata.json                                  2023-03-08 14:44:48           64\n",
      "variables.h5                                   2023-03-08 14:44:48      5240288\n",
      "Keras weights file (<HDF5 file \"variables.h5\" (mode r)>) loading:\n",
      "...layers\\bidirectional\n",
      "......vars\n",
      "...layers\\bidirectional\\backward_layer\n",
      "......vars\n",
      "...layers\\bidirectional\\backward_layer\\cell\n",
      "......vars\n",
      ".........0\n",
      ".........1\n",
      ".........2\n",
      "...layers\\bidirectional\\forward_layer\n",
      "......vars\n",
      "...layers\\bidirectional\\forward_layer\\cell\n",
      "......vars\n",
      ".........0\n",
      ".........1\n",
      ".........2\n",
      "...layers\\bidirectional\\layer\n",
      "......vars\n",
      "...layers\\bidirectional\\layer\\cell\n",
      "......vars\n",
      "...layers\\bidirectional_1\n",
      "......vars\n",
      "...layers\\bidirectional_1\\backward_layer\n",
      "......vars\n",
      "...layers\\bidirectional_1\\backward_layer\\cell\n",
      "......vars\n",
      ".........0\n",
      ".........1\n",
      ".........2\n",
      "...layers\\bidirectional_1\\forward_layer\n",
      "......vars\n",
      "...layers\\bidirectional_1\\forward_layer\\cell\n",
      "......vars\n",
      ".........0\n",
      ".........1\n",
      ".........2\n",
      "...layers\\bidirectional_1\\layer\n",
      "......vars\n",
      "...layers\\bidirectional_1\\layer\\cell\n",
      "......vars\n",
      "...layers\\dense\n",
      "......vars\n",
      ".........0\n",
      ".........1\n",
      "...layers\\dense_1\n",
      "......vars\n",
      ".........0\n",
      ".........1\n",
      "...layers\\dropout\n",
      "......vars\n",
      "...layers\\embedding\n",
      "......vars\n",
      ".........0\n",
      "...metrics\\mean\n",
      "......vars\n",
      ".........0\n",
      ".........1\n",
      "...metrics\\mean_metric_wrapper\n",
      "......vars\n",
      ".........0\n",
      ".........1\n",
      "...optimizer\n",
      "......vars\n",
      ".........0\n",
      ".........1\n",
      ".........10\n",
      ".........11\n",
      ".........12\n",
      ".........13\n",
      ".........14\n",
      ".........15\n",
      ".........16\n",
      ".........17\n",
      ".........18\n",
      ".........19\n",
      ".........2\n",
      ".........20\n",
      ".........21\n",
      ".........22\n",
      ".........23\n",
      ".........24\n",
      ".........25\n",
      ".........26\n",
      ".........27\n",
      ".........28\n",
      ".........29\n",
      ".........3\n",
      ".........30\n",
      ".........31\n",
      ".........32\n",
      ".........33\n",
      ".........34\n",
      ".........4\n",
      ".........5\n",
      ".........6\n",
      ".........7\n",
      ".........8\n",
      ".........9\n",
      "...vars\n"
     ]
    }
   ],
   "source": [
    "model=joblib.load(\"./model/rnn_sentiment.joblib.z\")"
   ]
  },
  {
   "cell_type": "markdown",
   "id": "958517fe",
   "metadata": {},
   "source": [
    "# Prédiction"
   ]
  },
  {
   "cell_type": "code",
   "execution_count": 11,
   "id": "66e38561",
   "metadata": {},
   "outputs": [
    {
     "name": "stdout",
     "output_type": "stream",
     "text": [
      "[[   0    0    0    0    0    0    0    0    0    0    0    0    0    0\n",
      "     0    0    0    0    0    0    0    0    0    0    0    0    0    0\n",
      "     0    0    0    0    0    0    0    0    0    0    0    0    0    0\n",
      "     0    0    0    0    0    0    0    0    0    0    0    0    0    0\n",
      "     0    0    0    0    0    0    0    0    0    0    0    0    0    0\n",
      "     0    0    0    0    0    0    0    0    0    0    0    0    0    0\n",
      "     0    0    0    0    0    0    0    0    0    0    0    0    0   14\n",
      "    20 1870]]\n"
     ]
    }
   ],
   "source": [
    "# txt='Hello, how are you'\n",
    "txt='This movie sucks'\n",
    "\n",
    "li=encode_txt(txt)\n",
    "\n",
    "print(li)"
   ]
  },
  {
   "cell_type": "code",
   "execution_count": 25,
   "id": "f218dadb",
   "metadata": {},
   "outputs": [
    {
     "name": "stdout",
     "output_type": "stream",
     "text": [
      "1/1 [==============================] - 0s 27ms/step\n"
     ]
    }
   ],
   "source": [
    "res=predict(model, li)"
   ]
  },
  {
   "cell_type": "code",
   "execution_count": 33,
   "id": "3738bc7a",
   "metadata": {},
   "outputs": [
    {
     "name": "stdout",
     "output_type": "stream",
     "text": [
      "Negative commentary\n"
     ]
    }
   ],
   "source": [
    "label_pred=[\"Negative commentary\", \"Positive or neutral commentary\"]\n",
    "print(label_pred[int(res[0])])"
   ]
  },
  {
   "cell_type": "code",
   "execution_count": null,
   "id": "c932fa3f",
   "metadata": {},
   "outputs": [],
   "source": []
  }
 ],
 "metadata": {
  "kernelspec": {
   "display_name": "Python 3 (ipykernel)",
   "language": "python",
   "name": "python3"
  },
  "language_info": {
   "codemirror_mode": {
    "name": "ipython",
    "version": 3
   },
   "file_extension": ".py",
   "mimetype": "text/x-python",
   "name": "python",
   "nbconvert_exporter": "python",
   "pygments_lexer": "ipython3",
   "version": "3.9.12"
  },
  "toc": {
   "base_numbering": 1,
   "nav_menu": {},
   "number_sections": true,
   "sideBar": true,
   "skip_h1_title": false,
   "title_cell": "Table of Contents",
   "title_sidebar": "Contents",
   "toc_cell": false,
   "toc_position": {
    "height": "calc(100% - 180px)",
    "left": "10px",
    "top": "150px",
    "width": "352px"
   },
   "toc_section_display": true,
   "toc_window_display": true
  },
  "varInspector": {
   "cols": {
    "lenName": 16,
    "lenType": 16,
    "lenVar": 40
   },
   "kernels_config": {
    "python": {
     "delete_cmd_postfix": "",
     "delete_cmd_prefix": "del ",
     "library": "var_list.py",
     "varRefreshCmd": "print(var_dic_list())"
    },
    "r": {
     "delete_cmd_postfix": ") ",
     "delete_cmd_prefix": "rm(",
     "library": "var_list.r",
     "varRefreshCmd": "cat(var_dic_list()) "
    }
   },
   "types_to_exclude": [
    "module",
    "function",
    "builtin_function_or_method",
    "instance",
    "_Feature"
   ],
   "window_display": false
  }
 },
 "nbformat": 4,
 "nbformat_minor": 5
}
