{
 "cells": [
  {
   "cell_type": "code",
   "execution_count": 1,
   "id": "3c70b6fa",
   "metadata": {},
   "outputs": [],
   "source": [
    "import pandas as pd\n",
    "import numpy as np\n",
    "from sklearn.model_selection import train_test_split\n",
    "from sklearn.metrics import confusion_matrix\n",
    "from sklearn.metrics import accuracy_score\n",
    "from sklearn.metrics import classification_report\n",
    "from sklearn.metrics import precision_score, recall_score, f1_score\n",
    "import tensorflow as tf\n",
    "from tensorflow.keras import Sequential, Model, Input\n",
    "from tensorflow.keras.layers import Conv2DTranspose, Reshape, Dense, Activation, Flatten, \\\n",
    "                                    Dropout, Convolution2D, MaxPooling2D, Input, Resizing, Concatenate\n",
    "\n",
    "import joblib\n",
    "\n"
   ]
  },
  {
   "cell_type": "code",
   "execution_count": 2,
   "id": "8126c2d4",
   "metadata": {},
   "outputs": [],
   "source": [
    "data=pd.read_csv('../ckextended.csv')\n",
    "\n",
    "x_temp=data.pixels\n",
    "x=np.zeros((920, 2304))\n",
    "for i in range(920) :\n",
    "    x[i,:]=x_temp[i].split()\n",
    "x/=255\n",
    "\n",
    "x=np.reshape(x, (920, 48,48, 1) )\n",
    "    \n",
    "y=data.emotion\n",
    "\n",
    "x_train, x_test, y_train, y_test = train_test_split(x, y, test_size=0.1)\n",
    "\n",
    "#On convertit les valeurs de sortie de 0 à 7 en vecteurs\n",
    "Y_train = tf.keras.utils.to_categorical(y_train, 8)\n",
    "Y_test = tf.keras.utils.to_categorical(y_test, 8)\n"
   ]
  },
  {
   "cell_type": "code",
   "execution_count": 3,
   "id": "f2efd0b8",
   "metadata": {},
   "outputs": [],
   "source": [
    "inputs = Input(shape=(48,48,1)) \n",
    "tens = Convolution2D(32, kernel_size = (3, 3), activation='relu' )(inputs) \n",
    "tens = Convolution2D(64, kernel_size = (3, 3), activation='relu' )(tens) \n",
    "tens = MaxPooling2D((3, 3))(tens) \n",
    "tens = Flatten()(tens) \n",
    "tens = Dense(256, activation='relu')(tens) \n",
    "tens = Dropout(0.5)(tens) \n",
    "outputs= Dense(8, activation='softmax')(tens) \n",
    "model = Model(inputs, outputs) \n"
   ]
  },
  {
   "cell_type": "code",
   "execution_count": 4,
   "id": "8dc1ddda",
   "metadata": {},
   "outputs": [],
   "source": [
    "#Je définis un poids par classe comme la racine de 1/le nombre de cas par classe. J'ai d'abord testé sans racine carrée, \n",
    "# mais le poids était trop fort sur les classes les plus rares. \n",
    "class_weight={ i : np.sqrt(1/(y_train == i).sum()) for i in range(8)}\n"
   ]
  },
  {
   "cell_type": "code",
   "execution_count": 5,
   "id": "d5874099",
   "metadata": {},
   "outputs": [
    {
     "name": "stdout",
     "output_type": "stream",
     "text": [
      "Epoch 1/20\n",
      "42/42 [==============================] - 6s 94ms/step - loss: 0.1542 - accuracy: 0.6401 - val_loss: 1.5381 - val_accuracy: 0.6522\n",
      "Epoch 2/20\n",
      "42/42 [==============================] - 3s 76ms/step - loss: 0.1283 - accuracy: 0.6969 - val_loss: 0.9464 - val_accuracy: 0.7935\n",
      "Epoch 3/20\n",
      "42/42 [==============================] - 3s 77ms/step - loss: 0.0907 - accuracy: 0.7983 - val_loss: 0.6481 - val_accuracy: 0.8370\n",
      "Epoch 4/20\n",
      "42/42 [==============================] - 3s 77ms/step - loss: 0.0674 - accuracy: 0.8418 - val_loss: 0.4882 - val_accuracy: 0.9022\n",
      "Epoch 5/20\n",
      "42/42 [==============================] - 4s 97ms/step - loss: 0.0568 - accuracy: 0.8418 - val_loss: 0.4191 - val_accuracy: 0.9130\n",
      "Epoch 6/20\n",
      "42/42 [==============================] - 4s 84ms/step - loss: 0.0454 - accuracy: 0.8623 - val_loss: 0.3734 - val_accuracy: 0.9239\n",
      "Epoch 7/20\n",
      "42/42 [==============================] - 3s 79ms/step - loss: 0.0316 - accuracy: 0.9034 - val_loss: 0.3394 - val_accuracy: 0.9239\n",
      "Epoch 8/20\n",
      "42/42 [==============================] - 3s 79ms/step - loss: 0.0241 - accuracy: 0.9227 - val_loss: 0.2955 - val_accuracy: 0.9348\n",
      "Epoch 9/20\n",
      "42/42 [==============================] - 3s 81ms/step - loss: 0.0196 - accuracy: 0.9336 - val_loss: 0.3107 - val_accuracy: 0.9457\n",
      "Epoch 10/20\n",
      "42/42 [==============================] - 4s 85ms/step - loss: 0.0191 - accuracy: 0.9275 - val_loss: 0.2965 - val_accuracy: 0.9239\n",
      "Epoch 11/20\n",
      "42/42 [==============================] - 3s 81ms/step - loss: 0.0200 - accuracy: 0.9251 - val_loss: 0.2542 - val_accuracy: 0.9348\n",
      "Epoch 12/20\n",
      "42/42 [==============================] - 4s 87ms/step - loss: 0.0154 - accuracy: 0.9505 - val_loss: 0.2790 - val_accuracy: 0.9130\n",
      "Epoch 13/20\n",
      "42/42 [==============================] - 4s 98ms/step - loss: 0.0092 - accuracy: 0.9662 - val_loss: 0.2859 - val_accuracy: 0.9348\n",
      "Epoch 14/20\n",
      "42/42 [==============================] - 4s 99ms/step - loss: 0.0106 - accuracy: 0.9541 - val_loss: 0.3066 - val_accuracy: 0.9457\n",
      "Epoch 15/20\n",
      "42/42 [==============================] - 4s 97ms/step - loss: 0.0081 - accuracy: 0.9722 - val_loss: 0.2574 - val_accuracy: 0.9239\n",
      "Epoch 16/20\n",
      "42/42 [==============================] - 4s 96ms/step - loss: 0.0097 - accuracy: 0.9589 - val_loss: 0.3417 - val_accuracy: 0.9457\n"
     ]
    }
   ],
   "source": [
    "batch_size=20\n",
    "epochs=20\n",
    "early=tf.keras.callbacks.EarlyStopping(patience=5)\n",
    "lr_schedule = tf.keras.optimizers.schedules.ExponentialDecay(initial_learning_rate=1e-3,\n",
    "                                                             decay_steps=10000,decay_rate=0.9)\n",
    "model.compile(loss='categorical_crossentropy', optimizer=tf.keras.optimizers.Adam(lr_schedule), metrics=['accuracy'])\n",
    "\n",
    "\n",
    "history =model.fit(x_train, Y_train, batch_size=batch_size, epochs=epochs,\n",
    "                   verbose=1,validation_data=(x_test, Y_test), callbacks=[early], class_weight=class_weight)\n",
    "\n"
   ]
  },
  {
   "cell_type": "code",
   "execution_count": 6,
   "id": "86d4b665",
   "metadata": {},
   "outputs": [
    {
     "name": "stdout",
     "output_type": "stream",
     "text": [
      "Keras weights file (<HDF5 file \"variables.h5\" (mode r+)>) saving:\n",
      "...layers\\conv2d\n",
      "......vars\n",
      ".........0\n",
      ".........1\n",
      "...layers\\conv2d_1\n",
      "......vars\n",
      ".........0\n",
      ".........1\n",
      "...layers\\dense\n",
      "......vars\n",
      ".........0\n",
      ".........1\n",
      "...layers\\dense_1\n",
      "......vars\n",
      ".........0\n",
      ".........1\n",
      "...layers\\dropout\n",
      "......vars\n",
      "...layers\\flatten\n",
      "......vars\n",
      "...layers\\input_layer\n",
      "......vars\n",
      "...layers\\max_pooling2d\n",
      "......vars\n",
      "...metrics\\mean\n",
      "......vars\n",
      ".........0\n",
      ".........1\n",
      "...metrics\\mean_metric_wrapper\n",
      "......vars\n",
      ".........0\n",
      ".........1\n",
      "...optimizer\n",
      "......vars\n",
      ".........0\n",
      ".........1\n",
      ".........10\n",
      ".........11\n",
      ".........12\n",
      ".........13\n",
      ".........14\n",
      ".........15\n",
      ".........16\n",
      ".........2\n",
      ".........3\n",
      ".........4\n",
      ".........5\n",
      ".........6\n",
      ".........7\n",
      ".........8\n",
      ".........9\n",
      "...vars\n",
      "Keras model archive saving:\n",
      "File Name                                             Modified             Size\n",
      "config.json                                    2023-03-07 09:28:19         4108\n",
      "metadata.json                                  2023-03-07 09:28:19           64\n",
      "variables.h5                                   2023-03-07 09:28:19     38823040\n"
     ]
    },
    {
     "data": {
      "text/plain": [
       "['cnn_emotion.joblib.z']"
      ]
     },
     "execution_count": 6,
     "metadata": {},
     "output_type": "execute_result"
    }
   ],
   "source": [
    "#sauvegarde du modèle\n",
    "model_filename = \"cnn_emotion.joblib.z\"\n",
    "joblib.dump((model), model_filename)"
   ]
  }
 ],
 "metadata": {
  "kernelspec": {
   "display_name": "Python 3 (ipykernel)",
   "language": "python",
   "name": "python3"
  },
  "language_info": {
   "codemirror_mode": {
    "name": "ipython",
    "version": 3
   },
   "file_extension": ".py",
   "mimetype": "text/x-python",
   "name": "python",
   "nbconvert_exporter": "python",
   "pygments_lexer": "ipython3",
   "version": "3.9.12"
  },
  "toc": {
   "base_numbering": 1,
   "nav_menu": {},
   "number_sections": true,
   "sideBar": true,
   "skip_h1_title": false,
   "title_cell": "Table of Contents",
   "title_sidebar": "Contents",
   "toc_cell": false,
   "toc_position": {},
   "toc_section_display": true,
   "toc_window_display": true
  },
  "varInspector": {
   "cols": {
    "lenName": 16,
    "lenType": 16,
    "lenVar": 40
   },
   "kernels_config": {
    "python": {
     "delete_cmd_postfix": "",
     "delete_cmd_prefix": "del ",
     "library": "var_list.py",
     "varRefreshCmd": "print(var_dic_list())"
    },
    "r": {
     "delete_cmd_postfix": ") ",
     "delete_cmd_prefix": "rm(",
     "library": "var_list.r",
     "varRefreshCmd": "cat(var_dic_list()) "
    }
   },
   "types_to_exclude": [
    "module",
    "function",
    "builtin_function_or_method",
    "instance",
    "_Feature"
   ],
   "window_display": false
  }
 },
 "nbformat": 4,
 "nbformat_minor": 5
}
